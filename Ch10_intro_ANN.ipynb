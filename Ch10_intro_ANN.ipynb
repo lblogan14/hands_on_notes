{
  "nbformat": 4,
  "nbformat_minor": 0,
  "metadata": {
    "colab": {
      "name": "Ch10_intro_ANN.ipynb",
      "version": "0.3.2",
      "provenance": [],
      "include_colab_link": true
    },
    "kernelspec": {
      "name": "python3",
      "display_name": "Python 3"
    }
  },
  "cells": [
    {
      "cell_type": "markdown",
      "metadata": {
        "id": "view-in-github",
        "colab_type": "text"
      },
      "source": [
        "<a href=\"https://colab.research.google.com/github/lblogan14/hands_on_notes/blob/master/Ch10_intro_ANN.ipynb\" target=\"_parent\"><img src=\"https://colab.research.google.com/assets/colab-badge.svg\" alt=\"Open In Colab\"/></a>"
      ]
    },
    {
      "metadata": {
        "id": "YGVn9tq5IPYf",
        "colab_type": "code",
        "colab": {}
      },
      "cell_type": "code",
      "source": [
        "import numpy as np\n",
        "import matplotlib.pyplot as plt\n",
        "import tensorflow as tf"
      ],
      "execution_count": 0,
      "outputs": []
    },
    {
      "metadata": {
        "id": "LO_DGsrMInS1",
        "colab_type": "text"
      },
      "cell_type": "markdown",
      "source": [
        "##The Perceptron\n",
        "Perceptron learning rule (weight update):\n",
        "\n",
        "$w_{i, j}^{(next step)} = w_{i, j} + \\eta(\\hat{y_j} - y_j)x_i$\n",
        "\n",
        "* $w_{i, j}$ is the connection weight between the ith input neuron and the jth output neu‐\n",
        "ron.\n",
        "* $x_i$ is the ith input value of the current training instance.\n",
        "* $\\hat{y_j}$ is the output of the jth output neuron for the current training instance.\n",
        "* $y_j$ is the target output of the jth output neuron for the current training instance.\n",
        "* $\\eta$ is the learning rate.\n",
        "\n",
        "The decision boundary of each output neuron is linear, so Perceptrons are incapable of learning complex patterns (just like Logistic Regression classifiers). However, if the training instances are linearly separable, Rosenblatt demonstrated that this algorithm would converge to a solution.\n",
        "\n",
        "This is called the *Perceptron convergence theorem*.\n",
        "\n",
        "Use **Perceptron** in sklearn,"
      ]
    },
    {
      "metadata": {
        "id": "P3W_liYpKBwW",
        "colab_type": "code",
        "colab": {}
      },
      "cell_type": "code",
      "source": [
        "from sklearn.datasets import load_iris\n",
        "from sklearn.linear_model import Perceptron\n",
        "\n",
        "iris = load_iris()\n",
        "X = iris.data[:, (2, 3)] # petal length, petal width\n",
        "y = (iris.target == 0).astype(np.int)\n",
        "\n",
        "per_clf = Perceptron(max_iter=100, random_state=42)\n",
        "per_clf.fit(X, y)\n",
        "\n",
        "y_pred = per_clf.predict([[2, 0.5]])"
      ],
      "execution_count": 0,
      "outputs": []
    },
    {
      "metadata": {
        "id": "1XgQASZAKdZG",
        "colab_type": "code",
        "colab": {
          "base_uri": "https://localhost:8080/",
          "height": 304
        },
        "outputId": "4c34eecf-b0df-4916-e7be-76896982c429"
      },
      "cell_type": "code",
      "source": [
        "a = -per_clf.coef_[0][0] / per_clf.coef_[0][1]\n",
        "b = -per_clf.intercept_ / per_clf.coef_[0][1]\n",
        "\n",
        "axes = [0, 5, 0, 2]\n",
        "\n",
        "x0, x1 = np.meshgrid(np.linspace(axes[0], axes[1], 500).reshape(-1, 1),\n",
        "                     np.linspace(axes[2], axes[3], 200).reshape(-1, 1))\n",
        "\n",
        "X_new = np.c_[x0.ravel(), x1.ravel()]\n",
        "y_predict = per_clf.predict(X_new)\n",
        "zz = y_predict.reshape(x0.shape)\n",
        "\n",
        "plt.figure(figsize=(10, 4))\n",
        "plt.plot(X[y==0, 0], X[y==0, 1], 'bs', label='Not Iris-Setosa')\n",
        "plt.plot(X[y==1, 0], X[y==1, 1], 'yo', label='Iris-Setosa')\n",
        "\n",
        "plt.plot([axes[0], axes[1]], [a*axes[0] + b, a*axes[1] + b], 'k-', linewidth=3)\n",
        "\n",
        "from matplotlib.colors import ListedColormap\n",
        "custom_cmap = ListedColormap(['#9898ff', '#fafab0'])\n",
        "\n",
        "plt.contourf(x0, x1, zz, cmap=custom_cmap)\n",
        "plt.xlabel('Pental length', fontsize=14)\n",
        "plt.ylabel('Petal width', fontsize=14)\n",
        "plt.legend(loc='lower right', fontsize=14)\n",
        "plt.axis(axes)\n"
      ],
      "execution_count": 6,
      "outputs": [
        {
          "output_type": "execute_result",
          "data": {
            "text/plain": [
              "[0, 5, 0, 2]"
            ]
          },
          "metadata": {
            "tags": []
          },
          "execution_count": 6
        },
        {
          "output_type": "display_data",
          "data": {
            "image/png": "[encoded data removed]",
            "text/plain": [
              "<matplotlib.figure.Figure at 0x7f6399c30b70>"
            ]
          },
          "metadata": {
            "tags": []
          }
        }
      ]
    },
    {
      "metadata": {
        "id": "OwqvnwCoNGEF",
        "colab_type": "text"
      },
      "cell_type": "markdown",
      "source": [
        "The Perceptron learning algorithm strongly resembles Stochastic Gradient Descent.\n",
        "\n",
        "In fact, Scikit-Learn’s Perceptron class is equivalent to using an SGDClassifier with the following hyperparameters: **loss=\"perceptron\"**, **learning_rate=\"constant\"**, **eta0=1** (the learning rate), and **penalty=None** (no regularization)."
      ]
    },
    {
      "metadata": {
        "id": "TyBslpMMO8b3",
        "colab_type": "text"
      },
      "cell_type": "markdown",
      "source": [
        "##Multi-Layer Perceptron and Backpropagation\n",
        "###Activation functions"
      ]
    },
    {
      "metadata": {
        "id": "hmtIJjCYQGUh",
        "colab_type": "code",
        "colab": {}
      },
      "cell_type": "code",
      "source": [
        "def logit(z):\n",
        "  return 1 / (1 + np.exp(-z))\n",
        "\n",
        "def relu(z):\n",
        "  return np.maximum(0, z)\n",
        "\n",
        "def derivative(f, z, eps=0.000001):\n",
        "  return (f(z + eps) - f(z - eps))/(2 * eps)"
      ],
      "execution_count": 0,
      "outputs": []
    },
    {
      "metadata": {
        "id": "VnH3IGQIRA94",
        "colab_type": "code",
        "colab": {
          "base_uri": "https://localhost:8080/",
          "height": 299
        },
        "outputId": "247a75b2-6d51-4957-82c2-2410446ea1c7"
      },
      "cell_type": "code",
      "source": [
        "z = np.linspace(-5, 5, 200)\n",
        "\n",
        "plt.figure(figsize=(11, 4))\n",
        "\n",
        "plt.subplot(121)\n",
        "plt.plot(z, np.sign(z), 'r-', linewidth=2, label='Step')\n",
        "plt.plot(z, logit(z), 'g--', linewidth=2, label='Logit')\n",
        "plt.plot(z, np.tanh(z), 'b-', linewidth=2, label='Tanh')\n",
        "plt.plot(z, relu(z), 'm-.', linewidth=2, label='ReLU')\n",
        "plt.grid(True)\n",
        "plt.legend(loc='center right', fontsize=14)\n",
        "plt.title('Activation functions', fontsize=14)\n",
        "plt.axis([-5, 5, -1.2, 1.2])\n",
        "\n",
        "plt.subplot(122)\n",
        "plt.plot(z, derivative(np.sign, z), 'r-', linewidth=2, label='Step')\n",
        "plt.plot(0, 0, 'ro', markersize=5)\n",
        "plt.plot(0, 0, 'rx', markersize=10)\n",
        "plt.plot(z, derivative(np.tanh, z), 'g--', linewidth=2, label='Logit')\n",
        "plt.plot(z, derivative(np.tanh, z), 'b-', linewidth=2, label='Tanh')\n",
        "plt.plot(z, derivative(relu, z), 'm-.', linewidth=2, label='ReLU')\n",
        "plt.grid(True)\n",
        "plt.legend(loc='center right', fontsize=14)\n",
        "plt.title('Derivatives', fontsize=14)\n",
        "plt.axis([-5, 5, -0.2, 1.2])"
      ],
      "execution_count": 10,
      "outputs": [
        {
          "output_type": "execute_result",
          "data": {
            "text/plain": [
              "[-5, 5, -0.2, 1.2]"
            ]
          },
          "metadata": {
            "tags": []
          },
          "execution_count": 10
        },
        {
          "output_type": "display_data",
          "data": {
            "image/png": "[encoded data removed]",
            "text/plain": [
              "<matplotlib.figure.Figure at 0x7f83453bec18>"
            ]
          },
          "metadata": {
            "tags": []
          }
        }
      ]
    },
    {
      "metadata": {
        "id": "yu3Ud-I3TfpC",
        "colab_type": "code",
        "colab": {}
      },
      "cell_type": "code",
      "source": [
        "def heaviside(z):\n",
        "    return (z >= 0).astype(z.dtype)\n",
        "\n",
        "def sigmoid(z):\n",
        "    return 1/(1+np.exp(-z))\n",
        "\n",
        "def mlp_xor(x1, x2, activation=heaviside):\n",
        "    return activation(-activation(x1 + x2 - 1.5) + activation(x1 + x2 - 0.5) - 0.5)"
      ],
      "execution_count": 0,
      "outputs": []
    },
    {
      "metadata": {
        "id": "knyWmCCBThv2",
        "colab_type": "code",
        "colab": {
          "base_uri": "https://localhost:8080/",
          "height": 282
        },
        "outputId": "f900d4a7-266f-4047-98d6-34a5e312021b"
      },
      "cell_type": "code",
      "source": [
        "x1s = np.linspace(-0.2, 1.2, 100)\n",
        "x2s = np.linspace(-0.2, 1.2, 100)\n",
        "x1, x2 = np.meshgrid(x1s, x2s)\n",
        "\n",
        "z1 = mlp_xor(x1, x2, activation=heaviside)\n",
        "z2 = mlp_xor(x1, x2, activation=sigmoid)\n",
        "\n",
        "plt.figure(figsize=(10,4))\n",
        "\n",
        "plt.subplot(121)\n",
        "plt.contourf(x1, x2, z1)\n",
        "plt.plot([0, 1], [0, 1], \"gs\", markersize=20)\n",
        "plt.plot([0, 1], [1, 0], \"y^\", markersize=20)\n",
        "plt.title(\"Activation function: heaviside\", fontsize=14)\n",
        "plt.grid(True)\n",
        "\n",
        "plt.subplot(122)\n",
        "plt.contourf(x1, x2, z2)\n",
        "plt.plot([0, 1], [0, 1], \"gs\", markersize=20)\n",
        "plt.plot([0, 1], [1, 0], \"y^\", markersize=20)\n",
        "plt.title(\"Activation function: sigmoid\", fontsize=14)\n",
        "plt.grid(True)"
      ],
      "execution_count": 12,
      "outputs": [
        {
          "output_type": "display_data",
          "data": {
            "image/png": "[encoded data removed]",
            "text/plain": [
              "<matplotlib.figure.Figure at 0x7f83453ea9e8>"
            ]
          },
          "metadata": {
            "tags": []
          }
        }
      ]
    },
    {
      "metadata": {
        "id": "RKzcqerkT0tI",
        "colab_type": "text"
      },
      "cell_type": "markdown",
      "source": [
        "An MLP is often used for classification, with each output corresponding to a different binary class.\n",
        "\n",
        "When the classes are exclusive (e.g., classes 0 through 9 for digit image classification), the output layer is typically modified by replacing the individual activation functions by a shared softmax function.\n",
        "\n",
        "The output of each neuron corresponds to the estimated probability of the corresponding class."
      ]
    },
    {
      "metadata": {
        "id": "Vn4TZHNLULa-",
        "colab_type": "text"
      },
      "cell_type": "markdown",
      "source": [
        "#Training an MLP with TensorFlow's High-Level API\n",
        "\n",
        "Warning: **tf.examples.tutorials.mnist** is deprecated. We will use **tf.keras.datasets.mnist** instead. Moreover, the **tf.contrib.learn** API was promoted to **tf.estimators** and **tf.feature_columns**, and it has changed considerably. In particular, there is no **infer_real_valued_columns_from_input()** function or **SKCompat** class."
      ]
    },
    {
      "metadata": {
        "id": "0XXMMYOgUenm",
        "colab_type": "code",
        "colab": {}
      },
      "cell_type": "code",
      "source": [
        "(X_train, y_train), (X_test, y_test) = tf.keras.datasets.mnist.load_data()\n",
        "X_train = X_train.astype(np.float32).reshape(-1, 28*28) / 255.0\n",
        "X_test = X_test.astype(np.float32).reshape(-1, 28*28) / 255.0\n",
        "y_train = y_train.astype(np.int32)\n",
        "y_test = y_test.astype(np.int32)\n",
        "X_valid, X_train = X_train[:5000], X_train[5000:]\n",
        "y_valid, y_train = y_train[:5000], y_train[5000:]"
      ],
      "execution_count": 0,
      "outputs": []
    },
    {
      "metadata": {
        "id": "GQfZumEPVVdt",
        "colab_type": "code",
        "colab": {
          "base_uri": "https://localhost:8080/",
          "height": 15456
        },
        "outputId": "138b96a1-2d2d-4959-843e-78ca7a979131"
      },
      "cell_type": "code",
      "source": [
        "feature_cols = [tf.feature_column.numeric_column('X', shape=(28*28))]\n",
        "dnn_clf = tf.estimator.DNNClassifier(hidden_units=[300,100], n_classes=10, feature_columns=feature_cols)\n",
        "\n",
        "input_fn = tf.estimator.inputs.numpy_input_fn(x={'X': X_train}, y=y_train, num_epochs = 40, batch_size=50, shuffle=True)\n",
        "dnn_clf.train(input_fn = input_fn)"
      ],
      "execution_count": 25,
      "outputs": [
        {
          "output_type": "stream",
          "text": [
            "INFO:tensorflow:Using default config.\n",
            "WARNING:tensorflow:Using temporary folder as model directory: /tmp/tmpehr0_dnc\n",
            "INFO:tensorflow:Using config: {'_model_dir': '/tmp/tmpehr0_dnc', '_tf_random_seed': None, '_save_summary_steps': 100, '_save_checkpoints_steps': None, '_save_checkpoints_secs': 600, '_session_config': allow_soft_placement: true\n",
            "graph_options {\n",
            "  rewrite_options {\n",
            "    meta_optimizer_iterations: ONE\n",
            "  }\n",
            "}\n",
            ", '_keep_checkpoint_max': 5, '_keep_checkpoint_every_n_hours': 10000, '_log_step_count_steps': 100, '_train_distribute': None, '_device_fn': None, '_protocol': None, '_eval_distribute': None, '_experimental_distribute': None, '_service': None, '_cluster_spec': <tensorflow.python.training.server_lib.ClusterSpec object at 0x7f8338f19be0>, '_task_type': 'worker', '_task_id': 0, '_global_id_in_cluster': 0, '_master': '', '_evaluation_master': '', '_is_chief': True, '_num_ps_replicas': 0, '_num_worker_replicas': 1}\n",
            "WARNING:tensorflow:From /usr/local/lib/python3.6/dist-packages/tensorflow/python/estimator/inputs/queues/feeding_queue_runner.py:62: QueueRunner.__init__ (from tensorflow.python.training.queue_runner_impl) is deprecated and will be removed in a future version.\n",
            "Instructions for updating:\n",
            "To construct input pipelines, use the `tf.data` module.\n",
            "WARNING:tensorflow:From /usr/local/lib/python3.6/dist-packages/tensorflow/python/estimator/inputs/queues/feeding_functions.py:500: add_queue_runner (from tensorflow.python.training.queue_runner_impl) is deprecated and will be removed in a future version.\n",
            "Instructions for updating:\n",
            "To construct input pipelines, use the `tf.data` module.\n",
            "INFO:tensorflow:Calling model_fn.\n",
            "INFO:tensorflow:Done calling model_fn.\n",
            "INFO:tensorflow:Create CheckpointSaverHook.\n",
            "INFO:tensorflow:Graph was finalized.\n",
            "INFO:tensorflow:Running local_init_op.\n",
            "INFO:tensorflow:Done running local_init_op.\n",
            "WARNING:tensorflow:From /usr/local/lib/python3.6/dist-packages/tensorflow/python/training/monitored_session.py:804: start_queue_runners (from tensorflow.python.training.queue_runner_impl) is deprecated and will be removed in a future version.\n",
            "Instructions for updating:\n",
            "To construct input pipelines, use the `tf.data` module.\n",
            "INFO:tensorflow:Saving checkpoints for 0 into /tmp/tmpehr0_dnc/model.ckpt.\n",
            "INFO:tensorflow:loss = 115.69628, step = 1\n",
            "INFO:tensorflow:global_step/sec: 230.54\n",
            "INFO:tensorflow:loss = 11.844304, step = 101 (0.435 sec)\n",
            "INFO:tensorflow:global_step/sec: 250.509\n",
            "INFO:tensorflow:loss = 4.3499627, step = 201 (0.399 sec)\n",
            "INFO:tensorflow:global_step/sec: 245.235\n",
            "INFO:tensorflow:loss = 18.10478, step = 301 (0.408 sec)\n",
            "INFO:tensorflow:global_step/sec: 244.538\n",
            "INFO:tensorflow:loss = 6.12067, step = 401 (0.409 sec)\n",
            "INFO:tensorflow:global_step/sec: 252.846\n",
            "INFO:tensorflow:loss = 14.77793, step = 501 (0.395 sec)\n",
            "INFO:tensorflow:global_step/sec: 257.263\n",
            "INFO:tensorflow:loss = 3.3795125, step = 601 (0.389 sec)\n",
            "INFO:tensorflow:global_step/sec: 237.748\n",
            "INFO:tensorflow:loss = 8.25915, step = 701 (0.421 sec)\n",
            "INFO:tensorflow:global_step/sec: 252.458\n",
            "INFO:tensorflow:loss = 2.4413218, step = 801 (0.396 sec)\n",
            "INFO:tensorflow:global_step/sec: 253.673\n",
            "INFO:tensorflow:loss = 2.1197722, step = 901 (0.395 sec)\n",
            "INFO:tensorflow:global_step/sec: 247.087\n",
            "INFO:tensorflow:loss = 3.6033995, step = 1001 (0.404 sec)\n",
            "INFO:tensorflow:global_step/sec: 269.921\n",
            "INFO:tensorflow:loss = 3.5011783, step = 1101 (0.371 sec)\n",
            "INFO:tensorflow:global_step/sec: 263.387\n",
            "INFO:tensorflow:loss = 3.8434505, step = 1201 (0.380 sec)\n",
            "INFO:tensorflow:global_step/sec: 258.738\n",
            "INFO:tensorflow:loss = 6.460492, step = 1301 (0.387 sec)\n",
            "INFO:tensorflow:global_step/sec: 259.948\n",
            "INFO:tensorflow:loss = 3.8092735, step = 1401 (0.389 sec)\n",
            "INFO:tensorflow:global_step/sec: 246.284\n",
            "INFO:tensorflow:loss = 3.2186124, step = 1501 (0.402 sec)\n",
            "INFO:tensorflow:global_step/sec: 248.218\n",
            "INFO:tensorflow:loss = 8.39307, step = 1601 (0.403 sec)\n",
            "INFO:tensorflow:global_step/sec: 244.749\n",
            "INFO:tensorflow:loss = 1.9334522, step = 1701 (0.409 sec)\n",
            "INFO:tensorflow:global_step/sec: 255.735\n",
            "INFO:tensorflow:loss = 11.444221, step = 1801 (0.391 sec)\n",
            "INFO:tensorflow:global_step/sec: 251.305\n",
            "INFO:tensorflow:loss = 10.139, step = 1901 (0.398 sec)\n",
            "INFO:tensorflow:global_step/sec: 250.344\n",
            "INFO:tensorflow:loss = 3.4701695, step = 2001 (0.399 sec)\n",
            "INFO:tensorflow:global_step/sec: 249.969\n",
            "INFO:tensorflow:loss = 3.6203032, step = 2101 (0.400 sec)\n",
            "INFO:tensorflow:global_step/sec: 248.019\n",
            "INFO:tensorflow:loss = 7.8133707, step = 2201 (0.403 sec)\n",
            "INFO:tensorflow:global_step/sec: 253.336\n",
            "INFO:tensorflow:loss = 1.2722815, step = 2301 (0.395 sec)\n",
            "INFO:tensorflow:global_step/sec: 254.742\n",
            "INFO:tensorflow:loss = 0.9313704, step = 2401 (0.393 sec)\n",
            "INFO:tensorflow:global_step/sec: 258.841\n",
            "INFO:tensorflow:loss = 4.057047, step = 2501 (0.386 sec)\n",
            "INFO:tensorflow:global_step/sec: 260.319\n",
            "INFO:tensorflow:loss = 4.7940316, step = 2601 (0.384 sec)\n",
            "INFO:tensorflow:global_step/sec: 256.591\n",
            "INFO:tensorflow:loss = 3.1847172, step = 2701 (0.393 sec)\n",
            "INFO:tensorflow:global_step/sec: 263.326\n",
            "INFO:tensorflow:loss = 0.7685717, step = 2801 (0.377 sec)\n",
            "INFO:tensorflow:global_step/sec: 259.089\n",
            "INFO:tensorflow:loss = 2.3531046, step = 2901 (0.386 sec)\n",
            "INFO:tensorflow:global_step/sec: 240.487\n",
            "INFO:tensorflow:loss = 1.8077685, step = 3001 (0.416 sec)\n",
            "INFO:tensorflow:global_step/sec: 251.128\n",
            "INFO:tensorflow:loss = 2.5516565, step = 3101 (0.398 sec)\n",
            "INFO:tensorflow:global_step/sec: 246.681\n",
            "INFO:tensorflow:loss = 1.463451, step = 3201 (0.406 sec)\n",
            "INFO:tensorflow:global_step/sec: 240.69\n",
            "INFO:tensorflow:loss = 1.7374805, step = 3301 (0.415 sec)\n",
            "INFO:tensorflow:global_step/sec: 250.368\n",
            "INFO:tensorflow:loss = 11.985478, step = 3401 (0.399 sec)\n",
            "INFO:tensorflow:global_step/sec: 248.382\n",
            "INFO:tensorflow:loss = 2.9258661, step = 3501 (0.403 sec)\n",
            "INFO:tensorflow:global_step/sec: 250.42\n",
            "INFO:tensorflow:loss = 4.0004096, step = 3601 (0.400 sec)\n",
            "INFO:tensorflow:global_step/sec: 256.117\n",
            "INFO:tensorflow:loss = 0.37664962, step = 3701 (0.390 sec)\n",
            "INFO:tensorflow:global_step/sec: 254.503\n",
            "INFO:tensorflow:loss = 0.71316665, step = 3801 (0.394 sec)\n",
            "INFO:tensorflow:global_step/sec: 258.367\n",
            "INFO:tensorflow:loss = 1.0983022, step = 3901 (0.385 sec)\n",
            "INFO:tensorflow:global_step/sec: 257.307\n",
            "INFO:tensorflow:loss = 1.5036551, step = 4001 (0.389 sec)\n",
            "INFO:tensorflow:global_step/sec: 255.156\n",
            "INFO:tensorflow:loss = 0.87617886, step = 4101 (0.392 sec)\n",
            "INFO:tensorflow:global_step/sec: 255.654\n",
            "INFO:tensorflow:loss = 0.8980025, step = 4201 (0.392 sec)\n",
            "INFO:tensorflow:global_step/sec: 253.003\n",
            "INFO:tensorflow:loss = 0.24458073, step = 4301 (0.399 sec)\n",
            "INFO:tensorflow:global_step/sec: 253.66\n",
            "INFO:tensorflow:loss = 2.5652761, step = 4401 (0.392 sec)\n",
            "INFO:tensorflow:global_step/sec: 254.167\n",
            "INFO:tensorflow:loss = 0.51968825, step = 4501 (0.391 sec)\n",
            "INFO:tensorflow:global_step/sec: 254.881\n",
            "INFO:tensorflow:loss = 1.2539226, step = 4601 (0.392 sec)\n",
            "INFO:tensorflow:global_step/sec: 253.722\n",
            "INFO:tensorflow:loss = 2.6277926, step = 4701 (0.394 sec)\n",
            "INFO:tensorflow:global_step/sec: 258.195\n",
            "INFO:tensorflow:loss = 1.3208506, step = 4801 (0.387 sec)\n",
            "INFO:tensorflow:global_step/sec: 253.861\n",
            "INFO:tensorflow:loss = 0.98792076, step = 4901 (0.394 sec)\n",
            "INFO:tensorflow:global_step/sec: 254.705\n",
            "INFO:tensorflow:loss = 0.5074298, step = 5001 (0.393 sec)\n",
            "INFO:tensorflow:global_step/sec: 253.626\n",
            "INFO:tensorflow:loss = 0.45729116, step = 5101 (0.394 sec)\n",
            "INFO:tensorflow:global_step/sec: 253.105\n",
            "INFO:tensorflow:loss = 3.7252326, step = 5201 (0.399 sec)\n",
            "INFO:tensorflow:global_step/sec: 256.475\n",
            "INFO:tensorflow:loss = 2.6841803, step = 5301 (0.386 sec)\n",
            "INFO:tensorflow:global_step/sec: 255.038\n",
            "INFO:tensorflow:loss = 0.20462276, step = 5401 (0.394 sec)\n",
            "INFO:tensorflow:global_step/sec: 255.184\n",
            "INFO:tensorflow:loss = 0.096236095, step = 5501 (0.390 sec)\n",
            "INFO:tensorflow:global_step/sec: 254.714\n",
            "INFO:tensorflow:loss = 1.9883686, step = 5601 (0.392 sec)\n",
            "INFO:tensorflow:global_step/sec: 253.118\n",
            "INFO:tensorflow:loss = 1.9384861, step = 5701 (0.396 sec)\n",
            "INFO:tensorflow:global_step/sec: 250.933\n",
            "INFO:tensorflow:loss = 0.40257153, step = 5801 (0.398 sec)\n",
            "INFO:tensorflow:global_step/sec: 260.474\n",
            "INFO:tensorflow:loss = 0.054530874, step = 5901 (0.385 sec)\n",
            "INFO:tensorflow:global_step/sec: 255.331\n",
            "INFO:tensorflow:loss = 0.3523579, step = 6001 (0.390 sec)\n",
            "INFO:tensorflow:global_step/sec: 258.478\n",
            "INFO:tensorflow:loss = 0.6450398, step = 6101 (0.387 sec)\n",
            "INFO:tensorflow:global_step/sec: 258.96\n",
            "INFO:tensorflow:loss = 0.35060608, step = 6201 (0.386 sec)\n",
            "INFO:tensorflow:global_step/sec: 258.885\n",
            "INFO:tensorflow:loss = 3.1690655, step = 6301 (0.386 sec)\n",
            "INFO:tensorflow:global_step/sec: 257.908\n",
            "INFO:tensorflow:loss = 1.0926827, step = 6401 (0.388 sec)\n",
            "INFO:tensorflow:global_step/sec: 259.406\n",
            "INFO:tensorflow:loss = 0.8786436, step = 6501 (0.385 sec)\n",
            "INFO:tensorflow:global_step/sec: 244.227\n",
            "INFO:tensorflow:loss = 0.3612857, step = 6601 (0.409 sec)\n",
            "INFO:tensorflow:global_step/sec: 257.179\n",
            "INFO:tensorflow:loss = 2.3150804, step = 6701 (0.392 sec)\n",
            "INFO:tensorflow:global_step/sec: 258.983\n",
            "INFO:tensorflow:loss = 1.9795504, step = 6801 (0.383 sec)\n",
            "INFO:tensorflow:global_step/sec: 255.715\n",
            "INFO:tensorflow:loss = 1.2894201, step = 6901 (0.391 sec)\n",
            "INFO:tensorflow:global_step/sec: 256.641\n",
            "INFO:tensorflow:loss = 0.37134498, step = 7001 (0.390 sec)\n",
            "INFO:tensorflow:global_step/sec: 254.601\n",
            "INFO:tensorflow:loss = 0.18706374, step = 7101 (0.395 sec)\n",
            "INFO:tensorflow:global_step/sec: 256.559\n",
            "INFO:tensorflow:loss = 1.9177067, step = 7201 (0.388 sec)\n",
            "INFO:tensorflow:global_step/sec: 268.162\n",
            "INFO:tensorflow:loss = 0.80412745, step = 7301 (0.373 sec)\n",
            "INFO:tensorflow:global_step/sec: 262.281\n",
            "INFO:tensorflow:loss = 0.2678156, step = 7401 (0.382 sec)\n",
            "INFO:tensorflow:global_step/sec: 258.525\n",
            "INFO:tensorflow:loss = 0.45989487, step = 7501 (0.386 sec)\n",
            "INFO:tensorflow:global_step/sec: 255.962\n",
            "INFO:tensorflow:loss = 0.6088005, step = 7601 (0.391 sec)\n",
            "INFO:tensorflow:global_step/sec: 259.603\n",
            "INFO:tensorflow:loss = 0.7504829, step = 7701 (0.385 sec)\n",
            "INFO:tensorflow:global_step/sec: 256.172\n",
            "INFO:tensorflow:loss = 1.227828, step = 7801 (0.390 sec)\n",
            "INFO:tensorflow:global_step/sec: 259.878\n",
            "INFO:tensorflow:loss = 1.4086223, step = 7901 (0.385 sec)\n",
            "INFO:tensorflow:global_step/sec: 264.959\n",
            "INFO:tensorflow:loss = 0.18600538, step = 8001 (0.377 sec)\n",
            "INFO:tensorflow:global_step/sec: 273.851\n",
            "INFO:tensorflow:loss = 0.26073763, step = 8101 (0.366 sec)\n",
            "INFO:tensorflow:global_step/sec: 269.401\n",
            "INFO:tensorflow:loss = 0.77282876, step = 8201 (0.370 sec)\n",
            "INFO:tensorflow:global_step/sec: 270.187\n",
            "INFO:tensorflow:loss = 0.17703292, step = 8301 (0.371 sec)\n",
            "INFO:tensorflow:global_step/sec: 271.309\n",
            "INFO:tensorflow:loss = 0.3707118, step = 8401 (0.368 sec)\n",
            "INFO:tensorflow:global_step/sec: 265.388\n",
            "INFO:tensorflow:loss = 0.16951524, step = 8501 (0.377 sec)\n",
            "INFO:tensorflow:global_step/sec: 266.715\n",
            "INFO:tensorflow:loss = 1.1875739, step = 8601 (0.375 sec)\n",
            "INFO:tensorflow:global_step/sec: 255.918\n",
            "INFO:tensorflow:loss = 0.06040992, step = 8701 (0.391 sec)\n",
            "INFO:tensorflow:global_step/sec: 255.216\n",
            "INFO:tensorflow:loss = 0.85040116, step = 8801 (0.392 sec)\n",
            "INFO:tensorflow:global_step/sec: 252.979\n",
            "INFO:tensorflow:loss = 0.87646985, step = 8901 (0.395 sec)\n",
            "INFO:tensorflow:global_step/sec: 253.688\n",
            "INFO:tensorflow:loss = 0.41606623, step = 9001 (0.394 sec)\n",
            "INFO:tensorflow:global_step/sec: 271.971\n",
            "INFO:tensorflow:loss = 0.33453622, step = 9101 (0.368 sec)\n",
            "INFO:tensorflow:global_step/sec: 269.548\n",
            "INFO:tensorflow:loss = 0.5655221, step = 9201 (0.373 sec)\n",
            "INFO:tensorflow:global_step/sec: 257.894\n",
            "INFO:tensorflow:loss = 0.17953679, step = 9301 (0.385 sec)\n",
            "INFO:tensorflow:global_step/sec: 254.337\n",
            "INFO:tensorflow:loss = 0.7550586, step = 9401 (0.393 sec)\n",
            "INFO:tensorflow:global_step/sec: 250.426\n",
            "INFO:tensorflow:loss = 0.1677075, step = 9501 (0.399 sec)\n",
            "INFO:tensorflow:global_step/sec: 258.389\n",
            "INFO:tensorflow:loss = 0.055714495, step = 9601 (0.387 sec)\n",
            "INFO:tensorflow:global_step/sec: 256.838\n",
            "INFO:tensorflow:loss = 0.4084401, step = 9701 (0.390 sec)\n",
            "INFO:tensorflow:global_step/sec: 251.977\n",
            "INFO:tensorflow:loss = 0.03215217, step = 9801 (0.396 sec)\n",
            "INFO:tensorflow:global_step/sec: 236.493\n",
            "INFO:tensorflow:loss = 0.005032465, step = 9901 (0.427 sec)\n",
            "INFO:tensorflow:global_step/sec: 234.681\n",
            "INFO:tensorflow:loss = 1.9492226, step = 10001 (0.423 sec)\n",
            "INFO:tensorflow:global_step/sec: 239.444\n",
            "INFO:tensorflow:loss = 0.074149504, step = 10101 (0.417 sec)\n",
            "INFO:tensorflow:global_step/sec: 231.626\n",
            "INFO:tensorflow:loss = 0.3169503, step = 10201 (0.432 sec)\n",
            "INFO:tensorflow:global_step/sec: 229.215\n",
            "INFO:tensorflow:loss = 0.37496305, step = 10301 (0.438 sec)\n",
            "INFO:tensorflow:global_step/sec: 235.729\n",
            "INFO:tensorflow:loss = 2.41111, step = 10401 (0.423 sec)\n",
            "INFO:tensorflow:global_step/sec: 239.83\n",
            "INFO:tensorflow:loss = 0.04254921, step = 10501 (0.420 sec)\n",
            "INFO:tensorflow:global_step/sec: 239.612\n",
            "INFO:tensorflow:loss = 0.13531676, step = 10601 (0.414 sec)\n",
            "INFO:tensorflow:global_step/sec: 233.068\n",
            "INFO:tensorflow:loss = 0.2153246, step = 10701 (0.429 sec)\n",
            "INFO:tensorflow:global_step/sec: 233.496\n",
            "INFO:tensorflow:loss = 0.46902844, step = 10801 (0.428 sec)\n",
            "INFO:tensorflow:global_step/sec: 238.793\n",
            "INFO:tensorflow:loss = 0.22176848, step = 10901 (0.419 sec)\n",
            "INFO:tensorflow:global_step/sec: 243.782\n",
            "INFO:tensorflow:loss = 0.059716478, step = 11001 (0.410 sec)\n",
            "INFO:tensorflow:global_step/sec: 253.865\n",
            "INFO:tensorflow:loss = 1.2868477, step = 11101 (0.394 sec)\n",
            "INFO:tensorflow:global_step/sec: 243.771\n",
            "INFO:tensorflow:loss = 0.13981977, step = 11201 (0.410 sec)\n",
            "INFO:tensorflow:global_step/sec: 254.522\n",
            "INFO:tensorflow:loss = 0.13542758, step = 11301 (0.393 sec)\n",
            "INFO:tensorflow:global_step/sec: 251.41\n",
            "INFO:tensorflow:loss = 0.16183628, step = 11401 (0.398 sec)\n",
            "INFO:tensorflow:global_step/sec: 246.633\n",
            "INFO:tensorflow:loss = 6.43667, step = 11501 (0.405 sec)\n",
            "INFO:tensorflow:global_step/sec: 250.493\n",
            "INFO:tensorflow:loss = 0.061486885, step = 11601 (0.402 sec)\n",
            "INFO:tensorflow:global_step/sec: 247.048\n",
            "INFO:tensorflow:loss = 0.12170599, step = 11701 (0.405 sec)\n",
            "INFO:tensorflow:global_step/sec: 247.976\n",
            "INFO:tensorflow:loss = 0.31095576, step = 11801 (0.401 sec)\n",
            "INFO:tensorflow:global_step/sec: 243.219\n",
            "INFO:tensorflow:loss = 1.3186116, step = 11901 (0.411 sec)\n",
            "INFO:tensorflow:global_step/sec: 237.692\n",
            "INFO:tensorflow:loss = 0.6493195, step = 12001 (0.422 sec)\n",
            "INFO:tensorflow:global_step/sec: 228.934\n",
            "INFO:tensorflow:loss = 0.25377312, step = 12101 (0.437 sec)\n",
            "INFO:tensorflow:global_step/sec: 236.919\n",
            "INFO:tensorflow:loss = 0.38213205, step = 12201 (0.422 sec)\n",
            "INFO:tensorflow:global_step/sec: 256.089\n",
            "INFO:tensorflow:loss = 0.17936333, step = 12301 (0.389 sec)\n",
            "INFO:tensorflow:global_step/sec: 272.445\n",
            "INFO:tensorflow:loss = 3.5300424, step = 12401 (0.367 sec)\n",
            "INFO:tensorflow:global_step/sec: 256.776\n",
            "INFO:tensorflow:loss = 0.11474388, step = 12501 (0.392 sec)\n",
            "INFO:tensorflow:global_step/sec: 256.483\n",
            "INFO:tensorflow:loss = 0.05288362, step = 12601 (0.388 sec)\n",
            "INFO:tensorflow:global_step/sec: 262.01\n",
            "INFO:tensorflow:loss = 0.1470509, step = 12701 (0.381 sec)\n",
            "INFO:tensorflow:global_step/sec: 264.789\n",
            "INFO:tensorflow:loss = 0.20651107, step = 12801 (0.381 sec)\n",
            "INFO:tensorflow:global_step/sec: 258.895\n",
            "INFO:tensorflow:loss = 0.254892, step = 12901 (0.383 sec)\n",
            "INFO:tensorflow:global_step/sec: 249.08\n",
            "INFO:tensorflow:loss = 0.34226662, step = 13001 (0.401 sec)\n",
            "INFO:tensorflow:global_step/sec: 242.822\n",
            "INFO:tensorflow:loss = 0.12890476, step = 13101 (0.412 sec)\n",
            "INFO:tensorflow:global_step/sec: 253.792\n",
            "INFO:tensorflow:loss = 0.16636151, step = 13201 (0.394 sec)\n",
            "INFO:tensorflow:global_step/sec: 244.972\n",
            "INFO:tensorflow:loss = 0.069848135, step = 13301 (0.408 sec)\n",
            "INFO:tensorflow:global_step/sec: 254.981\n",
            "INFO:tensorflow:loss = 0.15380254, step = 13401 (0.392 sec)\n",
            "INFO:tensorflow:global_step/sec: 256.22\n",
            "INFO:tensorflow:loss = 0.14721404, step = 13501 (0.390 sec)\n",
            "INFO:tensorflow:global_step/sec: 260.167\n",
            "INFO:tensorflow:loss = 0.03876903, step = 13601 (0.385 sec)\n",
            "INFO:tensorflow:global_step/sec: 246.725\n",
            "INFO:tensorflow:loss = 0.1582102, step = 13701 (0.404 sec)\n",
            "INFO:tensorflow:global_step/sec: 264.702\n",
            "INFO:tensorflow:loss = 0.030548064, step = 13801 (0.378 sec)\n",
            "INFO:tensorflow:global_step/sec: 280.933\n",
            "INFO:tensorflow:loss = 0.17984924, step = 13901 (0.356 sec)\n",
            "INFO:tensorflow:global_step/sec: 279.802\n",
            "INFO:tensorflow:loss = 0.056375936, step = 14001 (0.358 sec)\n",
            "INFO:tensorflow:global_step/sec: 280.562\n",
            "INFO:tensorflow:loss = 0.082613006, step = 14101 (0.356 sec)\n",
            "INFO:tensorflow:global_step/sec: 270.158\n",
            "INFO:tensorflow:loss = 0.13213432, step = 14201 (0.370 sec)\n",
            "INFO:tensorflow:global_step/sec: 269.32\n",
            "INFO:tensorflow:loss = 0.14947996, step = 14301 (0.371 sec)\n",
            "INFO:tensorflow:global_step/sec: 271.284\n",
            "INFO:tensorflow:loss = 0.17691512, step = 14401 (0.369 sec)\n",
            "INFO:tensorflow:global_step/sec: 283.024\n",
            "INFO:tensorflow:loss = 0.047047198, step = 14501 (0.353 sec)\n",
            "INFO:tensorflow:global_step/sec: 278.582\n",
            "INFO:tensorflow:loss = 0.029156532, step = 14601 (0.359 sec)\n",
            "INFO:tensorflow:global_step/sec: 278.836\n",
            "INFO:tensorflow:loss = 0.5278501, step = 14701 (0.359 sec)\n",
            "INFO:tensorflow:global_step/sec: 276.594\n",
            "INFO:tensorflow:loss = 0.05426555, step = 14801 (0.362 sec)\n",
            "INFO:tensorflow:global_step/sec: 276.951\n",
            "INFO:tensorflow:loss = 0.23670866, step = 14901 (0.361 sec)\n",
            "INFO:tensorflow:global_step/sec: 275.624\n",
            "INFO:tensorflow:loss = 0.1964383, step = 15001 (0.362 sec)\n",
            "INFO:tensorflow:global_step/sec: 280.465\n",
            "INFO:tensorflow:loss = 0.019398287, step = 15101 (0.356 sec)\n",
            "INFO:tensorflow:global_step/sec: 273.237\n",
            "INFO:tensorflow:loss = 0.06666636, step = 15201 (0.367 sec)\n",
            "INFO:tensorflow:global_step/sec: 260.389\n",
            "INFO:tensorflow:loss = 0.0072031436, step = 15301 (0.384 sec)\n",
            "INFO:tensorflow:global_step/sec: 275.146\n",
            "INFO:tensorflow:loss = 0.08817407, step = 15401 (0.363 sec)\n",
            "INFO:tensorflow:global_step/sec: 272.462\n",
            "INFO:tensorflow:loss = 0.0872261, step = 15501 (0.367 sec)\n",
            "INFO:tensorflow:global_step/sec: 274.148\n",
            "INFO:tensorflow:loss = 0.19032294, step = 15601 (0.365 sec)\n",
            "INFO:tensorflow:global_step/sec: 271.188\n",
            "INFO:tensorflow:loss = 0.44497794, step = 15701 (0.369 sec)\n",
            "INFO:tensorflow:global_step/sec: 274.921\n",
            "INFO:tensorflow:loss = 0.06912855, step = 15801 (0.363 sec)\n",
            "INFO:tensorflow:global_step/sec: 270.551\n",
            "INFO:tensorflow:loss = 0.033710044, step = 15901 (0.369 sec)\n",
            "INFO:tensorflow:global_step/sec: 275.389\n",
            "INFO:tensorflow:loss = 0.15831123, step = 16001 (0.363 sec)\n",
            "INFO:tensorflow:global_step/sec: 269.593\n",
            "INFO:tensorflow:loss = 0.09928343, step = 16101 (0.371 sec)\n",
            "INFO:tensorflow:global_step/sec: 258.517\n",
            "INFO:tensorflow:loss = 0.03094728, step = 16201 (0.387 sec)\n",
            "INFO:tensorflow:global_step/sec: 272.736\n",
            "INFO:tensorflow:loss = 0.0055012773, step = 16301 (0.367 sec)\n",
            "INFO:tensorflow:global_step/sec: 284.075\n",
            "INFO:tensorflow:loss = 0.030241279, step = 16401 (0.355 sec)\n",
            "INFO:tensorflow:global_step/sec: 285.025\n",
            "INFO:tensorflow:loss = 0.032116186, step = 16501 (0.349 sec)\n",
            "INFO:tensorflow:global_step/sec: 284.165\n",
            "INFO:tensorflow:loss = 0.04533186, step = 16601 (0.352 sec)\n",
            "INFO:tensorflow:global_step/sec: 283.48\n",
            "INFO:tensorflow:loss = 0.32075107, step = 16701 (0.352 sec)\n",
            "INFO:tensorflow:global_step/sec: 286.314\n",
            "INFO:tensorflow:loss = 0.023257805, step = 16801 (0.351 sec)\n",
            "INFO:tensorflow:global_step/sec: 291.77\n",
            "INFO:tensorflow:loss = 0.015598511, step = 16901 (0.342 sec)\n",
            "INFO:tensorflow:global_step/sec: 288.685\n",
            "INFO:tensorflow:loss = 0.041628037, step = 17001 (0.345 sec)\n",
            "INFO:tensorflow:global_step/sec: 290.797\n",
            "INFO:tensorflow:loss = 0.055467527, step = 17101 (0.344 sec)\n",
            "INFO:tensorflow:global_step/sec: 286.321\n",
            "INFO:tensorflow:loss = 0.1055031, step = 17201 (0.350 sec)\n",
            "INFO:tensorflow:global_step/sec: 283.831\n",
            "INFO:tensorflow:loss = 0.08592152, step = 17301 (0.355 sec)\n",
            "INFO:tensorflow:global_step/sec: 276.552\n",
            "INFO:tensorflow:loss = 0.066590436, step = 17401 (0.359 sec)\n",
            "INFO:tensorflow:global_step/sec: 282.905\n",
            "INFO:tensorflow:loss = 0.04582695, step = 17501 (0.356 sec)\n",
            "INFO:tensorflow:global_step/sec: 274.369\n",
            "INFO:tensorflow:loss = 0.10607837, step = 17601 (0.361 sec)\n",
            "INFO:tensorflow:global_step/sec: 288.222\n",
            "INFO:tensorflow:loss = 0.09058182, step = 17701 (0.348 sec)\n",
            "INFO:tensorflow:global_step/sec: 287.359\n",
            "INFO:tensorflow:loss = 0.18141338, step = 17801 (0.347 sec)\n",
            "INFO:tensorflow:global_step/sec: 281.71\n",
            "INFO:tensorflow:loss = 0.03610879, step = 17901 (0.355 sec)\n",
            "INFO:tensorflow:global_step/sec: 282.358\n",
            "INFO:tensorflow:loss = 0.031019505, step = 18001 (0.354 sec)\n",
            "INFO:tensorflow:global_step/sec: 283.985\n",
            "INFO:tensorflow:loss = 0.010429983, step = 18101 (0.355 sec)\n",
            "INFO:tensorflow:global_step/sec: 277.213\n",
            "INFO:tensorflow:loss = 0.061458506, step = 18201 (0.359 sec)\n",
            "INFO:tensorflow:global_step/sec: 286.015\n",
            "INFO:tensorflow:loss = 0.10545368, step = 18301 (0.349 sec)\n",
            "INFO:tensorflow:global_step/sec: 284.671\n",
            "INFO:tensorflow:loss = 0.0016022276, step = 18401 (0.352 sec)\n",
            "INFO:tensorflow:global_step/sec: 275.437\n",
            "INFO:tensorflow:loss = 0.07999438, step = 18501 (0.362 sec)\n",
            "INFO:tensorflow:global_step/sec: 276.753\n",
            "INFO:tensorflow:loss = 0.019202426, step = 18601 (0.361 sec)\n",
            "INFO:tensorflow:global_step/sec: 269.593\n",
            "INFO:tensorflow:loss = 0.031214545, step = 18701 (0.371 sec)\n",
            "INFO:tensorflow:global_step/sec: 283.399\n",
            "INFO:tensorflow:loss = 0.11646499, step = 18801 (0.354 sec)\n",
            "INFO:tensorflow:global_step/sec: 289.332\n",
            "INFO:tensorflow:loss = 0.017124804, step = 18901 (0.345 sec)\n",
            "INFO:tensorflow:global_step/sec: 284.904\n",
            "INFO:tensorflow:loss = 0.0923239, step = 19001 (0.352 sec)\n",
            "INFO:tensorflow:global_step/sec: 288.06\n",
            "INFO:tensorflow:loss = 0.06155439, step = 19101 (0.347 sec)\n",
            "INFO:tensorflow:global_step/sec: 287.185\n",
            "INFO:tensorflow:loss = 0.12689334, step = 19201 (0.347 sec)\n",
            "INFO:tensorflow:global_step/sec: 281.246\n",
            "INFO:tensorflow:loss = 0.14094755, step = 19301 (0.359 sec)\n",
            "INFO:tensorflow:global_step/sec: 283.663\n",
            "INFO:tensorflow:loss = 0.0239906, step = 19401 (0.349 sec)\n",
            "INFO:tensorflow:global_step/sec: 282.938\n",
            "INFO:tensorflow:loss = 0.05305234, step = 19501 (0.353 sec)\n",
            "INFO:tensorflow:global_step/sec: 282.868\n",
            "INFO:tensorflow:loss = 0.7835679, step = 19601 (0.354 sec)\n",
            "INFO:tensorflow:global_step/sec: 279.829\n",
            "INFO:tensorflow:loss = 0.082096234, step = 19701 (0.359 sec)\n",
            "INFO:tensorflow:global_step/sec: 281.675\n",
            "INFO:tensorflow:loss = 0.04145843, step = 19801 (0.356 sec)\n",
            "INFO:tensorflow:global_step/sec: 290.616\n",
            "INFO:tensorflow:loss = 0.19318146, step = 19901 (0.344 sec)\n",
            "INFO:tensorflow:global_step/sec: 286.163\n",
            "INFO:tensorflow:loss = 0.03869436, step = 20001 (0.348 sec)\n",
            "INFO:tensorflow:global_step/sec: 284.904\n",
            "INFO:tensorflow:loss = 0.027889905, step = 20101 (0.350 sec)\n",
            "INFO:tensorflow:global_step/sec: 277.79\n",
            "INFO:tensorflow:loss = 0.051832236, step = 20201 (0.360 sec)\n",
            "INFO:tensorflow:global_step/sec: 288.589\n",
            "INFO:tensorflow:loss = 0.01247021, step = 20301 (0.346 sec)\n",
            "INFO:tensorflow:global_step/sec: 289.665\n",
            "INFO:tensorflow:loss = 0.16406353, step = 20401 (0.346 sec)\n",
            "INFO:tensorflow:global_step/sec: 291.353\n",
            "INFO:tensorflow:loss = 0.109656826, step = 20501 (0.343 sec)\n",
            "INFO:tensorflow:global_step/sec: 287.336\n",
            "INFO:tensorflow:loss = 0.12806344, step = 20601 (0.347 sec)\n",
            "INFO:tensorflow:global_step/sec: 286.174\n",
            "INFO:tensorflow:loss = 0.08193934, step = 20701 (0.349 sec)\n",
            "INFO:tensorflow:global_step/sec: 288.297\n",
            "INFO:tensorflow:loss = 0.069990166, step = 20801 (0.347 sec)\n",
            "INFO:tensorflow:global_step/sec: 290.116\n",
            "INFO:tensorflow:loss = 0.06416211, step = 20901 (0.345 sec)\n",
            "INFO:tensorflow:global_step/sec: 286.417\n",
            "INFO:tensorflow:loss = 0.03063272, step = 21001 (0.350 sec)\n",
            "INFO:tensorflow:global_step/sec: 285.059\n",
            "INFO:tensorflow:loss = 0.0216366, step = 21101 (0.350 sec)\n",
            "INFO:tensorflow:global_step/sec: 284.697\n",
            "INFO:tensorflow:loss = 0.107331395, step = 21201 (0.352 sec)\n",
            "INFO:tensorflow:global_step/sec: 287.315\n",
            "INFO:tensorflow:loss = 0.0047606756, step = 21301 (0.348 sec)\n",
            "INFO:tensorflow:global_step/sec: 285.916\n",
            "INFO:tensorflow:loss = 0.028639205, step = 21401 (0.351 sec)\n",
            "INFO:tensorflow:global_step/sec: 285.918\n",
            "INFO:tensorflow:loss = 0.057645705, step = 21501 (0.350 sec)\n",
            "INFO:tensorflow:global_step/sec: 281.645\n",
            "INFO:tensorflow:loss = 0.07577236, step = 21601 (0.354 sec)\n",
            "INFO:tensorflow:global_step/sec: 288.294\n",
            "INFO:tensorflow:loss = 0.019308092, step = 21701 (0.347 sec)\n",
            "INFO:tensorflow:global_step/sec: 287.687\n",
            "INFO:tensorflow:loss = 0.002626377, step = 21801 (0.348 sec)\n",
            "INFO:tensorflow:global_step/sec: 286.789\n",
            "INFO:tensorflow:loss = 0.09184736, step = 21901 (0.348 sec)\n",
            "INFO:tensorflow:global_step/sec: 288.93\n",
            "INFO:tensorflow:loss = 0.015593238, step = 22001 (0.347 sec)\n",
            "INFO:tensorflow:global_step/sec: 286.747\n",
            "INFO:tensorflow:loss = 0.013971495, step = 22101 (0.352 sec)\n",
            "INFO:tensorflow:global_step/sec: 284.827\n",
            "INFO:tensorflow:loss = 0.0029823305, step = 22201 (0.348 sec)\n",
            "INFO:tensorflow:global_step/sec: 288.197\n",
            "INFO:tensorflow:loss = 0.015248466, step = 22301 (0.346 sec)\n",
            "INFO:tensorflow:global_step/sec: 279.623\n",
            "INFO:tensorflow:loss = 0.2572569, step = 22401 (0.357 sec)\n",
            "INFO:tensorflow:global_step/sec: 284.768\n",
            "INFO:tensorflow:loss = 0.02686036, step = 22501 (0.351 sec)\n",
            "INFO:tensorflow:global_step/sec: 286.475\n",
            "INFO:tensorflow:loss = 0.072747685, step = 22601 (0.349 sec)\n",
            "INFO:tensorflow:global_step/sec: 275.112\n",
            "INFO:tensorflow:loss = 0.09655575, step = 22701 (0.363 sec)\n",
            "INFO:tensorflow:global_step/sec: 279.776\n",
            "INFO:tensorflow:loss = 0.08030532, step = 22801 (0.359 sec)\n",
            "INFO:tensorflow:global_step/sec: 281.508\n",
            "INFO:tensorflow:loss = 0.0077841626, step = 22901 (0.353 sec)\n",
            "INFO:tensorflow:global_step/sec: 269.011\n",
            "INFO:tensorflow:loss = 0.020964213, step = 23001 (0.374 sec)\n",
            "INFO:tensorflow:global_step/sec: 267.906\n",
            "INFO:tensorflow:loss = 0.08092357, step = 23101 (0.371 sec)\n",
            "INFO:tensorflow:global_step/sec: 267.807\n",
            "INFO:tensorflow:loss = 0.048640043, step = 23201 (0.375 sec)\n",
            "INFO:tensorflow:global_step/sec: 256.305\n",
            "INFO:tensorflow:loss = 0.12093431, step = 23301 (0.389 sec)\n",
            "INFO:tensorflow:global_step/sec: 259.313\n",
            "INFO:tensorflow:loss = 0.0089520505, step = 23401 (0.386 sec)\n",
            "INFO:tensorflow:global_step/sec: 263.116\n",
            "INFO:tensorflow:loss = 0.10542849, step = 23501 (0.380 sec)\n",
            "INFO:tensorflow:global_step/sec: 256.272\n",
            "INFO:tensorflow:loss = 0.008528115, step = 23601 (0.390 sec)\n",
            "INFO:tensorflow:global_step/sec: 270.795\n",
            "INFO:tensorflow:loss = 0.13598758, step = 23701 (0.369 sec)\n",
            "INFO:tensorflow:global_step/sec: 271.197\n",
            "INFO:tensorflow:loss = 0.009915424, step = 23801 (0.369 sec)\n",
            "INFO:tensorflow:global_step/sec: 272.408\n",
            "INFO:tensorflow:loss = 0.016936203, step = 23901 (0.367 sec)\n",
            "INFO:tensorflow:global_step/sec: 271.273\n",
            "INFO:tensorflow:loss = 0.00990604, step = 24001 (0.369 sec)\n",
            "INFO:tensorflow:global_step/sec: 261.075\n",
            "INFO:tensorflow:loss = 0.03964381, step = 24101 (0.383 sec)\n",
            "INFO:tensorflow:global_step/sec: 261.769\n",
            "INFO:tensorflow:loss = 0.024024073, step = 24201 (0.384 sec)\n",
            "INFO:tensorflow:global_step/sec: 258.824\n",
            "INFO:tensorflow:loss = 0.040258612, step = 24301 (0.384 sec)\n",
            "INFO:tensorflow:global_step/sec: 258.667\n",
            "INFO:tensorflow:loss = 0.04120173, step = 24401 (0.387 sec)\n",
            "INFO:tensorflow:global_step/sec: 257.419\n",
            "INFO:tensorflow:loss = 0.02130329, step = 24501 (0.389 sec)\n",
            "INFO:tensorflow:global_step/sec: 258.222\n",
            "INFO:tensorflow:loss = 0.03668293, step = 24601 (0.387 sec)\n",
            "INFO:tensorflow:global_step/sec: 253.503\n",
            "INFO:tensorflow:loss = 0.072921544, step = 24701 (0.395 sec)\n",
            "INFO:tensorflow:global_step/sec: 254.318\n",
            "INFO:tensorflow:loss = 0.017969213, step = 24801 (0.393 sec)\n",
            "INFO:tensorflow:global_step/sec: 256.314\n",
            "INFO:tensorflow:loss = 0.024383482, step = 24901 (0.390 sec)\n",
            "INFO:tensorflow:global_step/sec: 255.572\n",
            "INFO:tensorflow:loss = 0.015068525, step = 25001 (0.392 sec)\n",
            "INFO:tensorflow:global_step/sec: 258.038\n",
            "INFO:tensorflow:loss = 0.11479619, step = 25101 (0.387 sec)\n",
            "INFO:tensorflow:global_step/sec: 258.453\n",
            "INFO:tensorflow:loss = 0.072838634, step = 25201 (0.387 sec)\n",
            "INFO:tensorflow:global_step/sec: 264.357\n",
            "INFO:tensorflow:loss = 0.05704809, step = 25301 (0.378 sec)\n",
            "INFO:tensorflow:global_step/sec: 265.421\n",
            "INFO:tensorflow:loss = 0.050466053, step = 25401 (0.377 sec)\n",
            "INFO:tensorflow:global_step/sec: 262.509\n",
            "INFO:tensorflow:loss = 0.06785274, step = 25501 (0.381 sec)\n",
            "INFO:tensorflow:global_step/sec: 252.345\n",
            "INFO:tensorflow:loss = 0.067269735, step = 25601 (0.399 sec)\n",
            "INFO:tensorflow:global_step/sec: 257.304\n",
            "INFO:tensorflow:loss = 0.023900973, step = 25701 (0.386 sec)\n",
            "INFO:tensorflow:global_step/sec: 255.262\n",
            "INFO:tensorflow:loss = 0.024935395, step = 25801 (0.392 sec)\n",
            "INFO:tensorflow:global_step/sec: 260.98\n",
            "INFO:tensorflow:loss = 0.034215078, step = 25901 (0.383 sec)\n",
            "INFO:tensorflow:global_step/sec: 272.745\n",
            "INFO:tensorflow:loss = 0.08167603, step = 26001 (0.367 sec)\n",
            "INFO:tensorflow:global_step/sec: 265.943\n",
            "INFO:tensorflow:loss = 0.011939462, step = 26101 (0.376 sec)\n",
            "INFO:tensorflow:global_step/sec: 269.334\n",
            "INFO:tensorflow:loss = 0.0105632655, step = 26201 (0.371 sec)\n",
            "INFO:tensorflow:global_step/sec: 264.805\n",
            "INFO:tensorflow:loss = 0.011804866, step = 26301 (0.377 sec)\n",
            "INFO:tensorflow:global_step/sec: 270.082\n",
            "INFO:tensorflow:loss = 0.07450114, step = 26401 (0.370 sec)\n",
            "INFO:tensorflow:global_step/sec: 261.064\n",
            "INFO:tensorflow:loss = 0.13637438, step = 26501 (0.383 sec)\n",
            "INFO:tensorflow:global_step/sec: 258.432\n",
            "INFO:tensorflow:loss = 0.02171607, step = 26601 (0.390 sec)\n",
            "INFO:tensorflow:global_step/sec: 258.176\n",
            "INFO:tensorflow:loss = 0.04670023, step = 26701 (0.384 sec)\n",
            "INFO:tensorflow:global_step/sec: 257.874\n",
            "INFO:tensorflow:loss = 0.05509773, step = 26801 (0.388 sec)\n",
            "INFO:tensorflow:global_step/sec: 263.864\n",
            "INFO:tensorflow:loss = 0.016556526, step = 26901 (0.379 sec)\n",
            "INFO:tensorflow:global_step/sec: 268.813\n",
            "INFO:tensorflow:loss = 0.035060123, step = 27001 (0.372 sec)\n",
            "INFO:tensorflow:global_step/sec: 267.298\n",
            "INFO:tensorflow:loss = 0.07035589, step = 27101 (0.374 sec)\n",
            "INFO:tensorflow:global_step/sec: 264.918\n",
            "INFO:tensorflow:loss = 0.018123224, step = 27201 (0.378 sec)\n",
            "INFO:tensorflow:global_step/sec: 271.222\n",
            "INFO:tensorflow:loss = 0.032724492, step = 27301 (0.369 sec)\n",
            "INFO:tensorflow:global_step/sec: 264.917\n",
            "INFO:tensorflow:loss = 0.009387598, step = 27401 (0.377 sec)\n",
            "INFO:tensorflow:global_step/sec: 273.823\n",
            "INFO:tensorflow:loss = 0.04160355, step = 27501 (0.365 sec)\n",
            "INFO:tensorflow:global_step/sec: 264.588\n",
            "INFO:tensorflow:loss = 0.009581379, step = 27601 (0.378 sec)\n",
            "INFO:tensorflow:global_step/sec: 260.255\n",
            "INFO:tensorflow:loss = 0.03904577, step = 27701 (0.384 sec)\n",
            "INFO:tensorflow:global_step/sec: 268.343\n",
            "INFO:tensorflow:loss = 0.034147218, step = 27801 (0.373 sec)\n",
            "INFO:tensorflow:global_step/sec: 265.683\n",
            "INFO:tensorflow:loss = 0.06854678, step = 27901 (0.376 sec)\n",
            "INFO:tensorflow:global_step/sec: 266.833\n",
            "INFO:tensorflow:loss = 0.021484757, step = 28001 (0.375 sec)\n",
            "INFO:tensorflow:global_step/sec: 265.451\n",
            "INFO:tensorflow:loss = 0.057299025, step = 28101 (0.377 sec)\n",
            "INFO:tensorflow:global_step/sec: 265.735\n",
            "INFO:tensorflow:loss = 0.045678176, step = 28201 (0.376 sec)\n",
            "INFO:tensorflow:global_step/sec: 268.076\n",
            "INFO:tensorflow:loss = 0.00060686824, step = 28301 (0.373 sec)\n",
            "INFO:tensorflow:global_step/sec: 264.735\n",
            "INFO:tensorflow:loss = 0.02413961, step = 28401 (0.378 sec)\n",
            "INFO:tensorflow:global_step/sec: 265.798\n",
            "INFO:tensorflow:loss = 0.006144749, step = 28501 (0.377 sec)\n",
            "INFO:tensorflow:global_step/sec: 268.776\n",
            "INFO:tensorflow:loss = 0.06508601, step = 28601 (0.372 sec)\n",
            "INFO:tensorflow:global_step/sec: 270.826\n",
            "INFO:tensorflow:loss = 0.040954813, step = 28701 (0.369 sec)\n",
            "INFO:tensorflow:global_step/sec: 265.419\n",
            "INFO:tensorflow:loss = 0.01836958, step = 28801 (0.377 sec)\n",
            "INFO:tensorflow:global_step/sec: 266.252\n",
            "INFO:tensorflow:loss = 0.05134241, step = 28901 (0.375 sec)\n",
            "INFO:tensorflow:global_step/sec: 257.273\n",
            "INFO:tensorflow:loss = 0.05214169, step = 29001 (0.389 sec)\n",
            "INFO:tensorflow:global_step/sec: 255.874\n",
            "INFO:tensorflow:loss = 0.076347075, step = 29101 (0.391 sec)\n",
            "INFO:tensorflow:global_step/sec: 257.277\n",
            "INFO:tensorflow:loss = 0.0544633, step = 29201 (0.393 sec)\n",
            "INFO:tensorflow:global_step/sec: 256.902\n",
            "INFO:tensorflow:loss = 0.036065508, step = 29301 (0.385 sec)\n",
            "INFO:tensorflow:global_step/sec: 247.223\n",
            "INFO:tensorflow:loss = 0.03768999, step = 29401 (0.405 sec)\n",
            "INFO:tensorflow:global_step/sec: 253.445\n",
            "INFO:tensorflow:loss = 0.0018388326, step = 29501 (0.398 sec)\n",
            "INFO:tensorflow:global_step/sec: 259.15\n",
            "INFO:tensorflow:loss = 0.0062132366, step = 29601 (0.382 sec)\n",
            "INFO:tensorflow:global_step/sec: 272.111\n",
            "INFO:tensorflow:loss = 0.061783608, step = 29701 (0.367 sec)\n",
            "INFO:tensorflow:global_step/sec: 266.665\n",
            "INFO:tensorflow:loss = 0.012932437, step = 29801 (0.375 sec)\n",
            "INFO:tensorflow:global_step/sec: 269.102\n",
            "INFO:tensorflow:loss = 0.12142862, step = 29901 (0.371 sec)\n",
            "INFO:tensorflow:global_step/sec: 266.709\n",
            "INFO:tensorflow:loss = 0.01915579, step = 30001 (0.375 sec)\n",
            "INFO:tensorflow:global_step/sec: 263.275\n",
            "INFO:tensorflow:loss = 0.015145023, step = 30101 (0.380 sec)\n",
            "INFO:tensorflow:global_step/sec: 259.482\n",
            "INFO:tensorflow:loss = 0.011667576, step = 30201 (0.386 sec)\n",
            "INFO:tensorflow:global_step/sec: 258.403\n",
            "INFO:tensorflow:loss = 0.074184805, step = 30301 (0.387 sec)\n",
            "INFO:tensorflow:global_step/sec: 260.44\n",
            "INFO:tensorflow:loss = 0.05438562, step = 30401 (0.384 sec)\n",
            "INFO:tensorflow:global_step/sec: 266.218\n",
            "INFO:tensorflow:loss = 0.023939457, step = 30501 (0.375 sec)\n",
            "INFO:tensorflow:global_step/sec: 264.455\n",
            "INFO:tensorflow:loss = 0.046701007, step = 30601 (0.378 sec)\n",
            "INFO:tensorflow:global_step/sec: 265.858\n",
            "INFO:tensorflow:loss = 0.031187858, step = 30701 (0.376 sec)\n",
            "INFO:tensorflow:global_step/sec: 275.954\n",
            "INFO:tensorflow:loss = 0.010668323, step = 30801 (0.363 sec)\n",
            "INFO:tensorflow:global_step/sec: 270.904\n",
            "INFO:tensorflow:loss = 0.078343675, step = 30901 (0.373 sec)\n",
            "INFO:tensorflow:global_step/sec: 269.86\n",
            "INFO:tensorflow:loss = 0.040343687, step = 31001 (0.367 sec)\n",
            "INFO:tensorflow:global_step/sec: 262.457\n",
            "INFO:tensorflow:loss = 0.07021757, step = 31101 (0.381 sec)\n",
            "INFO:tensorflow:global_step/sec: 269.087\n",
            "INFO:tensorflow:loss = 0.022368671, step = 31201 (0.372 sec)\n",
            "INFO:tensorflow:global_step/sec: 268.563\n",
            "INFO:tensorflow:loss = 0.040492807, step = 31301 (0.372 sec)\n",
            "INFO:tensorflow:global_step/sec: 262.406\n",
            "INFO:tensorflow:loss = 0.016583856, step = 31401 (0.381 sec)\n",
            "INFO:tensorflow:global_step/sec: 266.082\n",
            "INFO:tensorflow:loss = 0.021707933, step = 31501 (0.375 sec)\n",
            "INFO:tensorflow:global_step/sec: 265.403\n",
            "INFO:tensorflow:loss = 0.001516825, step = 31601 (0.377 sec)\n",
            "INFO:tensorflow:global_step/sec: 264.428\n",
            "INFO:tensorflow:loss = 0.01670096, step = 31701 (0.378 sec)\n",
            "INFO:tensorflow:global_step/sec: 259.12\n",
            "INFO:tensorflow:loss = 0.009378018, step = 31801 (0.386 sec)\n",
            "INFO:tensorflow:global_step/sec: 261.793\n",
            "INFO:tensorflow:loss = 0.014081912, step = 31901 (0.382 sec)\n",
            "INFO:tensorflow:global_step/sec: 273.596\n",
            "INFO:tensorflow:loss = 0.015567406, step = 32001 (0.370 sec)\n",
            "INFO:tensorflow:global_step/sec: 272.004\n",
            "INFO:tensorflow:loss = 0.1507273, step = 32101 (0.364 sec)\n",
            "INFO:tensorflow:global_step/sec: 266.155\n",
            "INFO:tensorflow:loss = 0.02671358, step = 32201 (0.376 sec)\n",
            "INFO:tensorflow:global_step/sec: 259.494\n",
            "INFO:tensorflow:loss = 0.0321579, step = 32301 (0.386 sec)\n",
            "INFO:tensorflow:global_step/sec: 257.394\n",
            "INFO:tensorflow:loss = 0.0028302155, step = 32401 (0.388 sec)\n",
            "INFO:tensorflow:global_step/sec: 259.937\n",
            "INFO:tensorflow:loss = 0.027805211, step = 32501 (0.385 sec)\n",
            "INFO:tensorflow:global_step/sec: 262.836\n",
            "INFO:tensorflow:loss = 0.029015828, step = 32601 (0.381 sec)\n",
            "INFO:tensorflow:global_step/sec: 263.856\n",
            "INFO:tensorflow:loss = 0.0030870182, step = 32701 (0.379 sec)\n",
            "INFO:tensorflow:global_step/sec: 268.719\n",
            "INFO:tensorflow:loss = 0.014848301, step = 32801 (0.371 sec)\n",
            "INFO:tensorflow:global_step/sec: 268.21\n",
            "INFO:tensorflow:loss = 0.005582944, step = 32901 (0.373 sec)\n",
            "INFO:tensorflow:global_step/sec: 277.517\n",
            "INFO:tensorflow:loss = 0.013645804, step = 33001 (0.361 sec)\n",
            "INFO:tensorflow:global_step/sec: 276.254\n",
            "INFO:tensorflow:loss = 0.02374273, step = 33101 (0.362 sec)\n",
            "INFO:tensorflow:global_step/sec: 273.349\n",
            "INFO:tensorflow:loss = 0.020925118, step = 33201 (0.367 sec)\n",
            "INFO:tensorflow:global_step/sec: 277.642\n",
            "INFO:tensorflow:loss = 0.03808728, step = 33301 (0.360 sec)\n",
            "INFO:tensorflow:global_step/sec: 274.626\n",
            "INFO:tensorflow:loss = 0.0072880285, step = 33401 (0.364 sec)\n",
            "INFO:tensorflow:global_step/sec: 274.535\n",
            "INFO:tensorflow:loss = 0.010772748, step = 33501 (0.364 sec)\n",
            "INFO:tensorflow:global_step/sec: 271.195\n",
            "INFO:tensorflow:loss = 0.02422123, step = 33601 (0.368 sec)\n",
            "INFO:tensorflow:global_step/sec: 265.567\n",
            "INFO:tensorflow:loss = 0.034765106, step = 33701 (0.376 sec)\n",
            "INFO:tensorflow:global_step/sec: 273.755\n",
            "INFO:tensorflow:loss = 0.02257179, step = 33801 (0.366 sec)\n",
            "INFO:tensorflow:global_step/sec: 283.069\n",
            "INFO:tensorflow:loss = 0.011335269, step = 33901 (0.353 sec)\n",
            "INFO:tensorflow:global_step/sec: 284.216\n",
            "INFO:tensorflow:loss = 0.02612742, step = 34001 (0.352 sec)\n",
            "INFO:tensorflow:global_step/sec: 286.053\n",
            "INFO:tensorflow:loss = 0.018268721, step = 34101 (0.350 sec)\n",
            "INFO:tensorflow:global_step/sec: 291.538\n",
            "INFO:tensorflow:loss = 0.01593873, step = 34201 (0.343 sec)\n",
            "INFO:tensorflow:global_step/sec: 289.081\n",
            "INFO:tensorflow:loss = 0.009113958, step = 34301 (0.347 sec)\n",
            "INFO:tensorflow:global_step/sec: 268.655\n",
            "INFO:tensorflow:loss = 0.01566937, step = 34401 (0.372 sec)\n",
            "INFO:tensorflow:global_step/sec: 264.894\n",
            "INFO:tensorflow:loss = 0.05705663, step = 34501 (0.377 sec)\n",
            "INFO:tensorflow:global_step/sec: 260.983\n",
            "INFO:tensorflow:loss = 0.0024054847, step = 34601 (0.384 sec)\n",
            "INFO:tensorflow:global_step/sec: 258.767\n",
            "INFO:tensorflow:loss = 0.025219142, step = 34701 (0.386 sec)\n",
            "INFO:tensorflow:global_step/sec: 246.521\n",
            "INFO:tensorflow:loss = 0.006370205, step = 34801 (0.410 sec)\n",
            "INFO:tensorflow:global_step/sec: 250.736\n",
            "INFO:tensorflow:loss = 0.027124336, step = 34901 (0.396 sec)\n",
            "INFO:tensorflow:global_step/sec: 264.051\n",
            "INFO:tensorflow:loss = 0.00022446594, step = 35001 (0.380 sec)\n",
            "INFO:tensorflow:global_step/sec: 264.793\n",
            "INFO:tensorflow:loss = 0.0060291397, step = 35101 (0.375 sec)\n",
            "INFO:tensorflow:global_step/sec: 264.732\n",
            "INFO:tensorflow:loss = 0.06570424, step = 35201 (0.379 sec)\n",
            "INFO:tensorflow:global_step/sec: 269.987\n",
            "INFO:tensorflow:loss = 0.01873401, step = 35301 (0.369 sec)\n",
            "INFO:tensorflow:global_step/sec: 264.751\n",
            "INFO:tensorflow:loss = 0.021112997, step = 35401 (0.378 sec)\n",
            "INFO:tensorflow:global_step/sec: 255.755\n",
            "INFO:tensorflow:loss = 0.004995929, step = 35501 (0.391 sec)\n",
            "INFO:tensorflow:global_step/sec: 268.495\n",
            "INFO:tensorflow:loss = 0.015154017, step = 35601 (0.373 sec)\n",
            "INFO:tensorflow:global_step/sec: 266.044\n",
            "INFO:tensorflow:loss = 0.0060799737, step = 35701 (0.375 sec)\n",
            "INFO:tensorflow:global_step/sec: 259.077\n",
            "INFO:tensorflow:loss = 0.035765003, step = 35801 (0.389 sec)\n",
            "INFO:tensorflow:global_step/sec: 249.212\n",
            "INFO:tensorflow:loss = 0.0318735, step = 35901 (0.400 sec)\n",
            "INFO:tensorflow:global_step/sec: 259.191\n",
            "INFO:tensorflow:loss = 0.005725813, step = 36001 (0.387 sec)\n",
            "INFO:tensorflow:global_step/sec: 256.051\n",
            "INFO:tensorflow:loss = 0.038000427, step = 36101 (0.388 sec)\n",
            "INFO:tensorflow:global_step/sec: 260.189\n",
            "INFO:tensorflow:loss = 0.054421365, step = 36201 (0.387 sec)\n",
            "INFO:tensorflow:global_step/sec: 267.465\n",
            "INFO:tensorflow:loss = 0.011130267, step = 36301 (0.372 sec)\n",
            "INFO:tensorflow:global_step/sec: 269.421\n",
            "INFO:tensorflow:loss = 0.040775158, step = 36401 (0.373 sec)\n",
            "INFO:tensorflow:global_step/sec: 262.991\n",
            "INFO:tensorflow:loss = 0.019655313, step = 36501 (0.378 sec)\n",
            "INFO:tensorflow:global_step/sec: 270.828\n",
            "INFO:tensorflow:loss = 0.014361615, step = 36601 (0.370 sec)\n",
            "INFO:tensorflow:global_step/sec: 266.069\n",
            "INFO:tensorflow:loss = 0.028176758, step = 36701 (0.378 sec)\n",
            "INFO:tensorflow:global_step/sec: 264.364\n",
            "INFO:tensorflow:loss = 0.006096596, step = 36801 (0.376 sec)\n",
            "INFO:tensorflow:global_step/sec: 269.895\n",
            "INFO:tensorflow:loss = 0.011268237, step = 36901 (0.370 sec)\n",
            "INFO:tensorflow:global_step/sec: 266.32\n",
            "INFO:tensorflow:loss = 0.003797081, step = 37001 (0.376 sec)\n",
            "INFO:tensorflow:global_step/sec: 263.524\n",
            "INFO:tensorflow:loss = 0.047180124, step = 37101 (0.378 sec)\n",
            "INFO:tensorflow:global_step/sec: 274.047\n",
            "INFO:tensorflow:loss = 0.018086407, step = 37201 (0.365 sec)\n",
            "INFO:tensorflow:global_step/sec: 272.832\n",
            "INFO:tensorflow:loss = 0.011923845, step = 37301 (0.366 sec)\n",
            "INFO:tensorflow:global_step/sec: 274.497\n",
            "INFO:tensorflow:loss = 0.043114234, step = 37401 (0.365 sec)\n",
            "INFO:tensorflow:global_step/sec: 264.973\n",
            "INFO:tensorflow:loss = 0.008114401, step = 37501 (0.381 sec)\n",
            "INFO:tensorflow:global_step/sec: 269.943\n",
            "INFO:tensorflow:loss = 0.043663133, step = 37601 (0.369 sec)\n",
            "INFO:tensorflow:global_step/sec: 269.869\n",
            "INFO:tensorflow:loss = 0.011968515, step = 37701 (0.369 sec)\n",
            "INFO:tensorflow:global_step/sec: 263.993\n",
            "INFO:tensorflow:loss = 0.005617203, step = 37801 (0.379 sec)\n",
            "INFO:tensorflow:global_step/sec: 271.33\n",
            "INFO:tensorflow:loss = 0.020615235, step = 37901 (0.368 sec)\n",
            "INFO:tensorflow:global_step/sec: 270.764\n",
            "INFO:tensorflow:loss = 0.011929449, step = 38001 (0.369 sec)\n",
            "INFO:tensorflow:global_step/sec: 272.347\n",
            "INFO:tensorflow:loss = 0.037193857, step = 38101 (0.367 sec)\n",
            "INFO:tensorflow:global_step/sec: 270.36\n",
            "INFO:tensorflow:loss = 0.031614546, step = 38201 (0.372 sec)\n",
            "INFO:tensorflow:global_step/sec: 272.641\n",
            "INFO:tensorflow:loss = 0.0218297, step = 38301 (0.366 sec)\n",
            "INFO:tensorflow:global_step/sec: 275.069\n",
            "INFO:tensorflow:loss = 0.0038837797, step = 38401 (0.362 sec)\n",
            "INFO:tensorflow:global_step/sec: 274.619\n",
            "INFO:tensorflow:loss = 0.010632949, step = 38501 (0.364 sec)\n",
            "INFO:tensorflow:global_step/sec: 275.89\n",
            "INFO:tensorflow:loss = 0.009410457, step = 38601 (0.363 sec)\n",
            "INFO:tensorflow:global_step/sec: 267.327\n",
            "INFO:tensorflow:loss = 0.005481962, step = 38701 (0.374 sec)\n",
            "INFO:tensorflow:global_step/sec: 268.85\n",
            "INFO:tensorflow:loss = 0.009472099, step = 38801 (0.372 sec)\n",
            "INFO:tensorflow:global_step/sec: 271.304\n",
            "INFO:tensorflow:loss = 0.034518126, step = 38901 (0.369 sec)\n",
            "INFO:tensorflow:global_step/sec: 273.432\n",
            "INFO:tensorflow:loss = 0.05286338, step = 39001 (0.366 sec)\n",
            "INFO:tensorflow:global_step/sec: 273.748\n",
            "INFO:tensorflow:loss = 0.03712784, step = 39101 (0.365 sec)\n",
            "INFO:tensorflow:global_step/sec: 271.764\n",
            "INFO:tensorflow:loss = 0.031971566, step = 39201 (0.368 sec)\n",
            "INFO:tensorflow:global_step/sec: 270.67\n",
            "INFO:tensorflow:loss = 0.0071337163, step = 39301 (0.370 sec)\n",
            "INFO:tensorflow:global_step/sec: 277.619\n",
            "INFO:tensorflow:loss = 0.011153345, step = 39401 (0.360 sec)\n",
            "INFO:tensorflow:global_step/sec: 276.59\n",
            "INFO:tensorflow:loss = 0.0033125682, step = 39501 (0.362 sec)\n",
            "INFO:tensorflow:global_step/sec: 272.585\n",
            "INFO:tensorflow:loss = 0.03977586, step = 39601 (0.366 sec)\n",
            "INFO:tensorflow:global_step/sec: 267.881\n",
            "INFO:tensorflow:loss = 0.008234102, step = 39701 (0.373 sec)\n",
            "INFO:tensorflow:global_step/sec: 277.455\n",
            "INFO:tensorflow:loss = 0.022957917, step = 39801 (0.362 sec)\n",
            "INFO:tensorflow:global_step/sec: 273.562\n",
            "INFO:tensorflow:loss = 0.003958793, step = 39901 (0.364 sec)\n",
            "INFO:tensorflow:global_step/sec: 271.81\n",
            "INFO:tensorflow:loss = 0.01887539, step = 40001 (0.368 sec)\n",
            "INFO:tensorflow:global_step/sec: 273.3\n",
            "INFO:tensorflow:loss = 0.0040699444, step = 40101 (0.369 sec)\n",
            "INFO:tensorflow:global_step/sec: 259.561\n",
            "INFO:tensorflow:loss = 0.012257504, step = 40201 (0.382 sec)\n",
            "INFO:tensorflow:global_step/sec: 269.8\n",
            "INFO:tensorflow:loss = 0.015399975, step = 40301 (0.371 sec)\n",
            "INFO:tensorflow:global_step/sec: 276.073\n",
            "INFO:tensorflow:loss = 0.02724665, step = 40401 (0.362 sec)\n",
            "INFO:tensorflow:global_step/sec: 271.075\n",
            "INFO:tensorflow:loss = 0.030528199, step = 40501 (0.369 sec)\n",
            "INFO:tensorflow:global_step/sec: 272.66\n",
            "INFO:tensorflow:loss = 0.028209276, step = 40601 (0.368 sec)\n",
            "INFO:tensorflow:global_step/sec: 275.455\n",
            "INFO:tensorflow:loss = 0.0018884058, step = 40701 (0.363 sec)\n",
            "INFO:tensorflow:global_step/sec: 271.672\n",
            "INFO:tensorflow:loss = 0.0033929811, step = 40801 (0.367 sec)\n",
            "INFO:tensorflow:global_step/sec: 271.482\n",
            "INFO:tensorflow:loss = 0.010760215, step = 40901 (0.369 sec)\n",
            "INFO:tensorflow:global_step/sec: 270.847\n",
            "INFO:tensorflow:loss = 0.011591918, step = 41001 (0.369 sec)\n",
            "INFO:tensorflow:global_step/sec: 272.05\n",
            "INFO:tensorflow:loss = 0.010508981, step = 41101 (0.367 sec)\n",
            "INFO:tensorflow:global_step/sec: 276.87\n",
            "INFO:tensorflow:loss = 0.027808648, step = 41201 (0.361 sec)\n",
            "INFO:tensorflow:global_step/sec: 273.794\n",
            "INFO:tensorflow:loss = 0.013556357, step = 41301 (0.366 sec)\n",
            "INFO:tensorflow:global_step/sec: 274.337\n",
            "INFO:tensorflow:loss = 0.0037299353, step = 41401 (0.364 sec)\n",
            "INFO:tensorflow:global_step/sec: 272.393\n",
            "INFO:tensorflow:loss = 0.009799329, step = 41501 (0.367 sec)\n",
            "INFO:tensorflow:global_step/sec: 272.065\n",
            "INFO:tensorflow:loss = 0.004465107, step = 41601 (0.372 sec)\n",
            "INFO:tensorflow:global_step/sec: 268.989\n",
            "INFO:tensorflow:loss = 0.014467805, step = 41701 (0.368 sec)\n",
            "INFO:tensorflow:global_step/sec: 275.651\n",
            "INFO:tensorflow:loss = 0.0034603714, step = 41801 (0.363 sec)\n",
            "INFO:tensorflow:global_step/sec: 266.935\n",
            "INFO:tensorflow:loss = 0.012799563, step = 41901 (0.374 sec)\n",
            "INFO:tensorflow:global_step/sec: 275.804\n",
            "INFO:tensorflow:loss = 0.016147865, step = 42001 (0.363 sec)\n",
            "INFO:tensorflow:global_step/sec: 277.361\n",
            "INFO:tensorflow:loss = 0.022729546, step = 42101 (0.360 sec)\n",
            "INFO:tensorflow:global_step/sec: 275.152\n",
            "INFO:tensorflow:loss = 0.018786438, step = 42201 (0.363 sec)\n",
            "INFO:tensorflow:global_step/sec: 277.976\n",
            "INFO:tensorflow:loss = 0.0006513004, step = 42301 (0.360 sec)\n",
            "INFO:tensorflow:global_step/sec: 272.443\n",
            "INFO:tensorflow:loss = 0.0037213292, step = 42401 (0.367 sec)\n",
            "INFO:tensorflow:global_step/sec: 274.123\n",
            "INFO:tensorflow:loss = 0.015179623, step = 42501 (0.364 sec)\n",
            "INFO:tensorflow:global_step/sec: 278.766\n",
            "INFO:tensorflow:loss = 0.006307931, step = 42601 (0.360 sec)\n",
            "INFO:tensorflow:global_step/sec: 276.469\n",
            "INFO:tensorflow:loss = 0.009112623, step = 42701 (0.360 sec)\n",
            "INFO:tensorflow:global_step/sec: 273.443\n",
            "INFO:tensorflow:loss = 0.007853585, step = 42801 (0.366 sec)\n",
            "INFO:tensorflow:global_step/sec: 276.163\n",
            "INFO:tensorflow:loss = 0.0030940268, step = 42901 (0.362 sec)\n",
            "INFO:tensorflow:global_step/sec: 259.994\n",
            "INFO:tensorflow:loss = 0.031057864, step = 43001 (0.384 sec)\n",
            "INFO:tensorflow:global_step/sec: 259.444\n",
            "INFO:tensorflow:loss = 0.007612746, step = 43101 (0.385 sec)\n",
            "INFO:tensorflow:global_step/sec: 263.031\n",
            "INFO:tensorflow:loss = 0.010226227, step = 43201 (0.380 sec)\n",
            "INFO:tensorflow:global_step/sec: 265.007\n",
            "INFO:tensorflow:loss = 0.0013791358, step = 43301 (0.377 sec)\n",
            "INFO:tensorflow:global_step/sec: 276.617\n",
            "INFO:tensorflow:loss = 0.07081742, step = 43401 (0.362 sec)\n",
            "INFO:tensorflow:global_step/sec: 274.96\n",
            "INFO:tensorflow:loss = 0.007377719, step = 43501 (0.364 sec)\n",
            "INFO:tensorflow:global_step/sec: 275.3\n",
            "INFO:tensorflow:loss = 0.014585735, step = 43601 (0.363 sec)\n",
            "INFO:tensorflow:global_step/sec: 274.861\n",
            "INFO:tensorflow:loss = 0.009071765, step = 43701 (0.363 sec)\n",
            "INFO:tensorflow:global_step/sec: 272.249\n",
            "INFO:tensorflow:loss = 0.008190166, step = 43801 (0.367 sec)\n",
            "INFO:tensorflow:global_step/sec: 277.935\n",
            "INFO:tensorflow:loss = 0.032412358, step = 43901 (0.360 sec)\n",
            "INFO:tensorflow:Saving checkpoints for 44000 into /tmp/tmpehr0_dnc/model.ckpt.\n",
            "INFO:tensorflow:Loss for final step: 0.020988286.\n"
          ],
          "name": "stdout"
        },
        {
          "output_type": "execute_result",
          "data": {
            "text/plain": [
              "<tensorflow.python.estimator.canned.dnn.DNNClassifier at 0x7f8338f19908>"
            ]
          },
          "metadata": {
            "tags": []
          },
          "execution_count": 25
        }
      ]
    },
    {
      "metadata": {
        "id": "m0MD1fIoXLCJ",
        "colab_type": "code",
        "colab": {
          "base_uri": "https://localhost:8080/",
          "height": 207
        },
        "outputId": "40cfce9a-a538-4971-a0de-dc2517e15897"
      },
      "cell_type": "code",
      "source": [
        "test_input_fn = tf.estimator.inputs.numpy_input_fn(x={'X': X_test}, y=y_test, shuffle=False)\n",
        "eval_results = dnn_clf.evaluate(input_fn=test_input_fn)"
      ],
      "execution_count": 27,
      "outputs": [
        {
          "output_type": "stream",
          "text": [
            "INFO:tensorflow:Calling model_fn.\n",
            "INFO:tensorflow:Done calling model_fn.\n",
            "INFO:tensorflow:Starting evaluation at 2018-10-28-20:31:30\n",
            "INFO:tensorflow:Graph was finalized.\n",
            "INFO:tensorflow:Restoring parameters from /tmp/tmpehr0_dnc/model.ckpt-44000\n",
            "INFO:tensorflow:Running local_init_op.\n",
            "INFO:tensorflow:Done running local_init_op.\n",
            "INFO:tensorflow:Finished evaluation at 2018-10-28-20:31:30\n",
            "INFO:tensorflow:Saving dict for global step 44000: accuracy = 0.9799, average_loss = 0.09936877, global_step = 44000, loss = 12.578326\n",
            "INFO:tensorflow:Saving 'checkpoint_path' summary for global step 44000: /tmp/tmpehr0_dnc/model.ckpt-44000\n"
          ],
          "name": "stdout"
        }
      ]
    },
    {
      "metadata": {
        "id": "Lz_HwlMhXg40",
        "colab_type": "code",
        "colab": {
          "base_uri": "https://localhost:8080/",
          "height": 85
        },
        "outputId": "82af18c6-8e96-4da3-faf3-20d475d023d4"
      },
      "cell_type": "code",
      "source": [
        "eval_results"
      ],
      "execution_count": 28,
      "outputs": [
        {
          "output_type": "execute_result",
          "data": {
            "text/plain": [
              "{'accuracy': 0.9799,\n",
              " 'average_loss': 0.09936877,\n",
              " 'global_step': 44000,\n",
              " 'loss': 12.578326}"
            ]
          },
          "metadata": {
            "tags": []
          },
          "execution_count": 28
        }
      ]
    },
    {
      "metadata": {
        "id": "Z0ggX1htXily",
        "colab_type": "code",
        "colab": {
          "base_uri": "https://localhost:8080/",
          "height": 255
        },
        "outputId": "ca8e7919-0e9f-4897-d436-dd7493b836f1"
      },
      "cell_type": "code",
      "source": [
        "y_pred_iter = dnn_clf.predict(input_fn=test_input_fn)\n",
        "y_pred = list(y_pred_iter)\n",
        "y_pred[0]"
      ],
      "execution_count": 29,
      "outputs": [
        {
          "output_type": "stream",
          "text": [
            "INFO:tensorflow:Calling model_fn.\n",
            "INFO:tensorflow:Done calling model_fn.\n",
            "INFO:tensorflow:Graph was finalized.\n",
            "INFO:tensorflow:Restoring parameters from /tmp/tmpehr0_dnc/model.ckpt-44000\n",
            "INFO:tensorflow:Running local_init_op.\n",
            "INFO:tensorflow:Done running local_init_op.\n"
          ],
          "name": "stdout"
        },
        {
          "output_type": "execute_result",
          "data": {
            "text/plain": [
              "{'class_ids': array([7]),\n",
              " 'classes': array([b'7'], dtype=object),\n",
              " 'logits': array([ -7.6483994,  -4.211537 ,  -1.0497876,   3.7692795,  -8.089348 ,\n",
              "         -7.75256  , -16.096601 ,  22.513308 ,  -6.4938126,   3.6641295],\n",
              "       dtype=float32),\n",
              " 'probabilities': array([7.9604414e-14, 2.4748437e-12, 5.8435645e-11, 7.2372246e-09,\n",
              "        5.1219540e-14, 7.1730016e-14, 1.7058059e-17, 1.0000000e+00,\n",
              "        2.5256189e-13, 6.5148722e-09], dtype=float32)}"
            ]
          },
          "metadata": {
            "tags": []
          },
          "execution_count": 29
        }
      ]
    },
    {
      "metadata": {
        "id": "q2zVjAj9YGDi",
        "colab_type": "text"
      },
      "cell_type": "markdown",
      "source": [
        "#Training a DNN Using Plain TensorFlow\n",
        "Implement Mini-batch Gradient Descent to train it on the MNIST dataset. The first step is the construction phase, building the TensorFlow graph. The second step is the execution phase, where you actually run the graph to train the model."
      ]
    },
    {
      "metadata": {
        "id": "aRz1BfuGYXXE",
        "colab_type": "text"
      },
      "cell_type": "markdown",
      "source": [
        "##Construction Phase"
      ]
    },
    {
      "metadata": {
        "id": "g3b0oJeNdIit",
        "colab_type": "code",
        "colab": {}
      },
      "cell_type": "code",
      "source": [
        "n_inputs = 28*28 #MNIST\n",
        "n_hidden1 = 300\n",
        "n_hidden2 = 100\n",
        "n_outputs = 10"
      ],
      "execution_count": 0,
      "outputs": []
    },
    {
      "metadata": {
        "id": "BFwgMNt2dRNO",
        "colab_type": "code",
        "colab": {}
      },
      "cell_type": "code",
      "source": [
        "tf.reset_default_graph()\n",
        "\n",
        "X = tf.placeholder(tf.float32, shape=(None, n_inputs), name='X')\n",
        "y = tf.placeholder(tf.int32, shape=(None), name='y')"
      ],
      "execution_count": 0,
      "outputs": []
    },
    {
      "metadata": {
        "id": "fhjupO2lde90",
        "colab_type": "code",
        "colab": {}
      },
      "cell_type": "code",
      "source": [
        "def neuron_layer(X, n_neurons, name, activation=None):\n",
        "  with tf.name_scope(name):\n",
        "    n_inputs = int(X.get_shape()[1])\n",
        "    stddev = 2 / np.sqrt(n_inputs)\n",
        "    init = tf.truncated_normal((n_inputs, n_neurons), stddev=stddev)\n",
        "    W = tf.Variable(init, name='kernel')\n",
        "    b = tf.Variable(tf.zeros([n_neurons]), name='bias')\n",
        "    Z = tf.matmul(X, W) + b\n",
        "    if activation is not None:\n",
        "      return activation(Z)\n",
        "    else:\n",
        "      return Z"
      ],
      "execution_count": 0,
      "outputs": []
    },
    {
      "metadata": {
        "id": "IYpK-2WvfTxz",
        "colab_type": "code",
        "colab": {}
      },
      "cell_type": "code",
      "source": [
        "with tf.name_scope('dnn'):\n",
        "  hidden1 = neuron_layer(X, n_hidden1, name='hidden1', activation=tf.nn.relu)\n",
        "  hidden2 = neuron_layer(hidden1, n_hidden2, name='hidden2', activation=tf.nn.relu)\n",
        "  logits = neuron_layer(hidden2, n_outputs, name='outputs')"
      ],
      "execution_count": 0,
      "outputs": []
    },
    {
      "metadata": {
        "id": "FNUdNV0Af3ID",
        "colab_type": "code",
        "colab": {}
      },
      "cell_type": "code",
      "source": [
        "with tf.name_scope('loss'):\n",
        "  xentropy = tf.nn.sparse_softmax_cross_entropy_with_logits(labels=y, logits=logits)\n",
        "  loss = tf.reduce_mean(xentropy, name='loss')"
      ],
      "execution_count": 0,
      "outputs": []
    },
    {
      "metadata": {
        "id": "t0MarZN6hbgY",
        "colab_type": "text"
      },
      "cell_type": "markdown",
      "source": [
        "**sparse_softmax_cross_entropy_with_logits()**: it computes the cross entropy based on the “logits” (i.e., the output of the network before going through the softmax activation function), and it expects labels in the form of integers ranging from 0 to the number of classes minus 1 (in our case, from 0 to 9). This will give us a 1D tensor containing the cross entropy for each instance.\n",
        "\n",
        "**reduce_mean()** function to compute the mean cross entropy over all instances.\n",
        "\n",
        "The **sparse_softmax_cross_entropy_with_logits()** function is equivalent to applying the softmax activation function and then\n",
        "computing the cross entropy, but it is more efficient, and it properly takes care of corner cases like logits equal to 0. This is why we\n",
        "did not apply the softmax activation function earlier. There is also another function called **softmax_cross_entropy_with_logits()**,\n",
        "which takes labels in the form of one-hot vectors (instead of ints from 0 to the number of classes minus 1)."
      ]
    },
    {
      "metadata": {
        "id": "gU1VvW8FgKOa",
        "colab_type": "code",
        "colab": {}
      },
      "cell_type": "code",
      "source": [
        "learning_rate = 0.01\n",
        "\n",
        "with tf.name_scope('train'):\n",
        "  optimizer = tf.train.GradientDescentOptimizer(learning_rate)\n",
        "  training_op = optimizer.minimize(loss)"
      ],
      "execution_count": 0,
      "outputs": []
    },
    {
      "metadata": {
        "id": "lOw3skpHgcUZ",
        "colab_type": "code",
        "colab": {}
      },
      "cell_type": "code",
      "source": [
        "with tf.name_scope('eval'):\n",
        "  correct = tf.nn.in_top_k(logits, y, 1)\n",
        "  accuracy = tf.reduce_mean(tf.cast(correct, tf.float32))"
      ],
      "execution_count": 0,
      "outputs": []
    },
    {
      "metadata": {
        "id": "Wn12yC6vh5Ta",
        "colab_type": "text"
      },
      "cell_type": "markdown",
      "source": [
        "**in_top)k()** :for each instance, determine if the neural network’s prediction is correct by checking whether or not the highest logit corresponds to the target class. This returns a 1D tensor full of boolean values, so we need to cast these booleans to floats and then compute the average. This will give us the network’s overall accuracy."
      ]
    },
    {
      "metadata": {
        "id": "i_QgiftGgnBa",
        "colab_type": "code",
        "colab": {}
      },
      "cell_type": "code",
      "source": [
        "init = tf.global_variables_initializer()\n",
        "saver = tf.train.Saver()"
      ],
      "execution_count": 0,
      "outputs": []
    },
    {
      "metadata": {
        "id": "U75eZmXuiKdp",
        "colab_type": "text"
      },
      "cell_type": "markdown",
      "source": [
        "##Execution Phase"
      ]
    },
    {
      "metadata": {
        "id": "YIuakZJFiOm6",
        "colab_type": "code",
        "colab": {}
      },
      "cell_type": "code",
      "source": [
        "n_epochs = 40\n",
        "batch_size = 50"
      ],
      "execution_count": 0,
      "outputs": []
    },
    {
      "metadata": {
        "id": "CvnfxOY7icr6",
        "colab_type": "code",
        "colab": {}
      },
      "cell_type": "code",
      "source": [
        "def shuffle_batch(X, y, batch_size):\n",
        "  rnd_idx = np.random.permutation(len(X))\n",
        "  n_batches = len(X) // batch_size\n",
        "  \n",
        "  #array_split allows indices_or_sections to be an integer that does not equally divide the axis\n",
        "  for batch_idx in np.array_split(rnd_idx, n_batches):\n",
        "    X_batch, y_batch = X[batch_idx], y[batch_idx]\n",
        "    yield X_batch, y_batch"
      ],
      "execution_count": 0,
      "outputs": []
    },
    {
      "metadata": {
        "id": "e0QArz3sjEb4",
        "colab_type": "code",
        "colab": {
          "base_uri": "https://localhost:8080/",
          "height": 697
        },
        "outputId": "a0d56c23-a2df-47c3-a4a8-334e015bc953"
      },
      "cell_type": "code",
      "source": [
        "with tf.Session() as sess:\n",
        "  init.run()\n",
        "  for epoch in range(n_epochs):\n",
        "    for X_batch, y_batch in shuffle_batch(X_train, y_train, batch_size):\n",
        "      sess.run(training_op, feed_dict={X: X_batch, y: y_batch})\n",
        "    acc_batch = accuracy.eval(feed_dict={X: X_batch, y:y_batch})\n",
        "    acc_val = accuracy.eval(feed_dict={X: X_valid, y: y_valid})\n",
        "    print(epoch, 'Batch accuracy', acc_batch, 'Val Accuracy:', acc_val)\n",
        "    \n",
        "  save_path = saver.save(sess, './my_model_final.ckpt')"
      ],
      "execution_count": 43,
      "outputs": [
        {
          "output_type": "stream",
          "text": [
            "0 Batch accuracy 0.94 Val Accuracy: 0.9132\n",
            "1 Batch accuracy 0.96 Val Accuracy: 0.9338\n",
            "2 Batch accuracy 1.0 Val Accuracy: 0.9398\n",
            "3 Batch accuracy 0.88 Val Accuracy: 0.948\n",
            "4 Batch accuracy 1.0 Val Accuracy: 0.9542\n",
            "5 Batch accuracy 0.96 Val Accuracy: 0.9586\n",
            "6 Batch accuracy 0.96 Val Accuracy: 0.9612\n",
            "7 Batch accuracy 1.0 Val Accuracy: 0.9628\n",
            "8 Batch accuracy 1.0 Val Accuracy: 0.9644\n",
            "9 Batch accuracy 0.98 Val Accuracy: 0.966\n",
            "10 Batch accuracy 0.94 Val Accuracy: 0.9676\n",
            "11 Batch accuracy 0.96 Val Accuracy: 0.9696\n",
            "12 Batch accuracy 0.96 Val Accuracy: 0.9702\n",
            "13 Batch accuracy 0.98 Val Accuracy: 0.9696\n",
            "14 Batch accuracy 1.0 Val Accuracy: 0.9728\n",
            "15 Batch accuracy 0.98 Val Accuracy: 0.972\n",
            "16 Batch accuracy 0.94 Val Accuracy: 0.9734\n",
            "17 Batch accuracy 1.0 Val Accuracy: 0.9748\n",
            "18 Batch accuracy 1.0 Val Accuracy: 0.9752\n",
            "19 Batch accuracy 1.0 Val Accuracy: 0.9748\n",
            "20 Batch accuracy 1.0 Val Accuracy: 0.9754\n",
            "21 Batch accuracy 1.0 Val Accuracy: 0.9762\n",
            "22 Batch accuracy 0.98 Val Accuracy: 0.9772\n",
            "23 Batch accuracy 0.96 Val Accuracy: 0.9764\n",
            "24 Batch accuracy 0.98 Val Accuracy: 0.9776\n",
            "25 Batch accuracy 1.0 Val Accuracy: 0.9744\n",
            "26 Batch accuracy 0.98 Val Accuracy: 0.9774\n",
            "27 Batch accuracy 1.0 Val Accuracy: 0.9776\n",
            "28 Batch accuracy 1.0 Val Accuracy: 0.9784\n",
            "29 Batch accuracy 1.0 Val Accuracy: 0.9778\n",
            "30 Batch accuracy 1.0 Val Accuracy: 0.9772\n",
            "31 Batch accuracy 0.94 Val Accuracy: 0.9768\n",
            "32 Batch accuracy 1.0 Val Accuracy: 0.977\n",
            "33 Batch accuracy 0.98 Val Accuracy: 0.9762\n",
            "34 Batch accuracy 1.0 Val Accuracy: 0.9768\n",
            "35 Batch accuracy 1.0 Val Accuracy: 0.979\n",
            "36 Batch accuracy 1.0 Val Accuracy: 0.979\n",
            "37 Batch accuracy 1.0 Val Accuracy: 0.9782\n",
            "38 Batch accuracy 1.0 Val Accuracy: 0.9784\n",
            "39 Batch accuracy 0.98 Val Accuracy: 0.9784\n"
          ],
          "name": "stdout"
        }
      ]
    },
    {
      "metadata": {
        "id": "8UtYATuMjv4Y",
        "colab_type": "code",
        "colab": {
          "base_uri": "https://localhost:8080/",
          "height": 34
        },
        "outputId": "d4203ab8-e0ee-4d54-f320-3afb846de463"
      },
      "cell_type": "code",
      "source": [
        "# To restore the model\n",
        "with tf.Session() as sess:\n",
        "    saver.restore(sess, \"./my_model_final.ckpt\") # or better, use save_path\n",
        "    X_new_scaled = X_test[:20]\n",
        "    Z = logits.eval(feed_dict={X: X_new_scaled})\n",
        "    y_pred = np.argmax(Z, axis=1)"
      ],
      "execution_count": 46,
      "outputs": [
        {
          "output_type": "stream",
          "text": [
            "INFO:tensorflow:Restoring parameters from ./my_model_final.ckpt\n"
          ],
          "name": "stdout"
        }
      ]
    },
    {
      "metadata": {
        "id": "AnoNrrutj9MQ",
        "colab_type": "code",
        "colab": {
          "base_uri": "https://localhost:8080/",
          "height": 51
        },
        "outputId": "4823c4cb-9aa8-46d6-e6c6-8ffba6a83d90"
      },
      "cell_type": "code",
      "source": [
        "print(\"Predicted classes:\", y_pred)\n",
        "print(\"Actual classes:   \", y_test[:20])"
      ],
      "execution_count": 47,
      "outputs": [
        {
          "output_type": "stream",
          "text": [
            "Predicted classes: [7 2 1 0 4 1 4 9 5 9 0 6 9 0 1 5 9 7 3 4]\n",
            "Actual classes:    [7 2 1 0 4 1 4 9 5 9 0 6 9 0 1 5 9 7 3 4]\n"
          ],
          "name": "stdout"
        }
      ]
    },
    {
      "metadata": {
        "id": "Y5s84uRykAOb",
        "colab_type": "code",
        "colab": {}
      },
      "cell_type": "code",
      "source": [
        "from tensorflow_graph_in_jupyter import show_graph"
      ],
      "execution_count": 0,
      "outputs": []
    },
    {
      "metadata": {
        "id": "8YRcfx91kArD",
        "colab_type": "code",
        "colab": {}
      },
      "cell_type": "code",
      "source": [
        "show_graph(tf.get_default_graph())"
      ],
      "execution_count": 0,
      "outputs": []
    },
    {
      "metadata": {
        "id": "Em4IbQ_0kDVL",
        "colab_type": "text"
      },
      "cell_type": "markdown",
      "source": [
        "##Using **dense()** instead of **neuron_layer()**\n",
        "Note: previous releases of the book used **tensorflow.contrib.layers.fully_connected()** rather than **tf.layers.dense()** (which did not exist when this chapter was written). It is now preferable to use **tf.layers.dense()**, because anything in the contrib module may change or be deleted without notice. The **dense()** function is almost identical to the **fully_connected()** function, except for a few minor differences:\n",
        "\n",
        "* several parameters are renamed: **scope** becomes **name**, **activation_fn** becomes **activation** (and similarly the **_fn** suffix is removed from other parameters such as **normalizer_fn**), **weights_initializer** becomes **kernel_initializer**, etc.\n",
        "* the default activation is now **None** rather than **tf.nn.relu**.\n",
        "* a few more differences are presented in chapter 11."
      ]
    },
    {
      "metadata": {
        "id": "jvEDb2wKk4ea",
        "colab_type": "code",
        "colab": {}
      },
      "cell_type": "code",
      "source": [
        "n_inputs = 28*28  # MNIST\n",
        "n_hidden1 = 300\n",
        "n_hidden2 = 100\n",
        "n_outputs = 10"
      ],
      "execution_count": 0,
      "outputs": []
    },
    {
      "metadata": {
        "id": "Bhf_OOM-k6MQ",
        "colab_type": "code",
        "colab": {}
      },
      "cell_type": "code",
      "source": [
        "tf.reset_default_graph()\n",
        "\n",
        "X = tf.placeholder(tf.float32, shape=(None, n_inputs), name=\"X\")\n",
        "y = tf.placeholder(tf.int32, shape=(None), name=\"y\")"
      ],
      "execution_count": 0,
      "outputs": []
    },
    {
      "metadata": {
        "id": "_--q9Ed9k7ea",
        "colab_type": "code",
        "colab": {}
      },
      "cell_type": "code",
      "source": [
        "with tf.name_scope(\"dnn\"):\n",
        "    hidden1 = tf.layers.dense(X, n_hidden1, name=\"hidden1\",\n",
        "                              activation=tf.nn.relu)\n",
        "    hidden2 = tf.layers.dense(hidden1, n_hidden2, name=\"hidden2\",\n",
        "                              activation=tf.nn.relu)\n",
        "    logits = tf.layers.dense(hidden2, n_outputs, name=\"outputs\")\n",
        "    y_proba = tf.nn.softmax(logits)"
      ],
      "execution_count": 0,
      "outputs": []
    },
    {
      "metadata": {
        "id": "FKg6BIRAlAmA",
        "colab_type": "code",
        "colab": {}
      },
      "cell_type": "code",
      "source": [
        "with tf.name_scope(\"loss\"):\n",
        "    xentropy = tf.nn.sparse_softmax_cross_entropy_with_logits(labels=y, logits=logits)\n",
        "    loss = tf.reduce_mean(xentropy, name=\"loss\")"
      ],
      "execution_count": 0,
      "outputs": []
    },
    {
      "metadata": {
        "id": "Z7E1E87ylDNB",
        "colab_type": "code",
        "colab": {}
      },
      "cell_type": "code",
      "source": [
        "learning_rate = 0.01\n",
        "\n",
        "with tf.name_scope(\"train\"):\n",
        "    optimizer = tf.train.GradientDescentOptimizer(learning_rate)\n",
        "    training_op = optimizer.minimize(loss)"
      ],
      "execution_count": 0,
      "outputs": []
    },
    {
      "metadata": {
        "id": "tp_MqoBglFiq",
        "colab_type": "code",
        "colab": {}
      },
      "cell_type": "code",
      "source": [
        "with tf.name_scope(\"eval\"):\n",
        "    correct = tf.nn.in_top_k(logits, y, 1)\n",
        "    accuracy = tf.reduce_mean(tf.cast(correct, tf.float32))"
      ],
      "execution_count": 0,
      "outputs": []
    },
    {
      "metadata": {
        "id": "1eT22xdUlGvZ",
        "colab_type": "code",
        "colab": {}
      },
      "cell_type": "code",
      "source": [
        "init = tf.global_variables_initializer()\n",
        "saver = tf.train.Saver()"
      ],
      "execution_count": 0,
      "outputs": []
    },
    {
      "metadata": {
        "id": "FHjaGZfJlIkv",
        "colab_type": "code",
        "colab": {
          "base_uri": "https://localhost:8080/",
          "height": 357
        },
        "outputId": "c0aec8c1-1544-478d-b0fd-f4858e7dd730"
      },
      "cell_type": "code",
      "source": [
        "n_epochs = 20\n",
        "n_batches = 50\n",
        "\n",
        "with tf.Session() as sess:\n",
        "    init.run()\n",
        "    for epoch in range(n_epochs):\n",
        "        for X_batch, y_batch in shuffle_batch(X_train, y_train, batch_size):\n",
        "            sess.run(training_op, feed_dict={X: X_batch, y: y_batch})\n",
        "        acc_batch = accuracy.eval(feed_dict={X: X_batch, y: y_batch})\n",
        "        acc_valid = accuracy.eval(feed_dict={X: X_valid, y: y_valid})\n",
        "        print(epoch, \"Batch accuracy:\", acc_batch, \"Validation accuracy:\", acc_valid)\n",
        "\n",
        "    save_path = saver.save(sess, \"./my_model_final.ckpt\")"
      ],
      "execution_count": 56,
      "outputs": [
        {
          "output_type": "stream",
          "text": [
            "0 Batch accuracy: 0.92 Validation accuracy: 0.9044\n",
            "1 Batch accuracy: 0.94 Validation accuracy: 0.924\n",
            "2 Batch accuracy: 0.92 Validation accuracy: 0.934\n",
            "3 Batch accuracy: 0.84 Validation accuracy: 0.9422\n",
            "4 Batch accuracy: 0.92 Validation accuracy: 0.9462\n",
            "5 Batch accuracy: 0.94 Validation accuracy: 0.9478\n",
            "6 Batch accuracy: 0.94 Validation accuracy: 0.9532\n",
            "7 Batch accuracy: 1.0 Validation accuracy: 0.957\n",
            "8 Batch accuracy: 0.96 Validation accuracy: 0.9592\n",
            "9 Batch accuracy: 0.94 Validation accuracy: 0.9622\n",
            "10 Batch accuracy: 0.98 Validation accuracy: 0.9636\n",
            "11 Batch accuracy: 0.98 Validation accuracy: 0.9666\n",
            "12 Batch accuracy: 0.92 Validation accuracy: 0.9672\n",
            "13 Batch accuracy: 0.92 Validation accuracy: 0.9688\n",
            "14 Batch accuracy: 0.96 Validation accuracy: 0.9678\n",
            "15 Batch accuracy: 1.0 Validation accuracy: 0.9708\n",
            "16 Batch accuracy: 1.0 Validation accuracy: 0.9712\n",
            "17 Batch accuracy: 0.96 Validation accuracy: 0.9718\n",
            "18 Batch accuracy: 1.0 Validation accuracy: 0.9702\n",
            "19 Batch accuracy: 1.0 Validation accuracy: 0.974\n"
          ],
          "name": "stdout"
        }
      ]
    },
    {
      "metadata": {
        "id": "aPpww7sQlKXX",
        "colab_type": "code",
        "colab": {}
      },
      "cell_type": "code",
      "source": [
        "show_graph(tf.get_default_graph())"
      ],
      "execution_count": 0,
      "outputs": []
    }
  ]
}