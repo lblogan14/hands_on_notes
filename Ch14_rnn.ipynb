{
  "nbformat": 4,
  "nbformat_minor": 0,
  "metadata": {
    "colab": {
      "name": "Ch14_rnn.ipynb",
      "version": "0.3.2",
      "provenance": [],
      "collapsed_sections": [],
      "include_colab_link": true
    },
    "kernelspec": {
      "name": "python3",
      "display_name": "Python 3"
    },
    "accelerator": "GPU"
  },
  "cells": [
    {
      "cell_type": "markdown",
      "metadata": {
        "id": "view-in-github",
        "colab_type": "text"
      },
      "source": [
        "<a href=\"https://colab.research.google.com/github/lblogan14/hands_on_notes/blob/master/Ch14_rnn.ipynb\" target=\"_parent\"><img src=\"https://colab.research.google.com/assets/colab-badge.svg\" alt=\"Open In Colab\"/></a>"
      ]
    },
    {
      "metadata": {
        "id": "3FZth00PeP5U",
        "colab_type": "code",
        "colab": {}
      },
      "cell_type": "code",
      "source": [
        "import numpy as np\n",
        "%matplotlib inline\n",
        "import matplotlib.pyplot as plt\n",
        "\n",
        "import tensorflow as tf\n",
        "\n",
        "def reset_graph(seed=42):\n",
        "  tf.reset_default_graph()\n",
        "  tf.set_random_seed(seed)\n",
        "  np.random.seed(seed)"
      ],
      "execution_count": 0,
      "outputs": []
    },
    {
      "metadata": {
        "id": "jTNUmLb5e8YB",
        "colab_type": "text"
      },
      "cell_type": "markdown",
      "source": [
        "#Recurrent Neurons\n",
        "A recurrent neural network looks very much like a feedforward neural network, except it also has connections pointing backward. The simplest possible RNN, composed of just one neuron receiving inputs, producing an output, and sending that output back to itself. At each *time step t* (also called a *frame*), this *recurrent neuron* receives the inputs $x_{(t)}$ as well as its own output from the previous time step, $y_{(t–1)}$.\n",
        "\n",
        "Each recurrent neuron has two sets of weights: one, $w_x$, for the inputs $x_{(t)}$ and the other, $w_y$ for\n",
        "the outputs of the previous time step, $y_{(t–1)}$.\n",
        "\n",
        "*Output of a single recurrent neuron for a single instance*:\n",
        "\n",
        "$y_{(t)}=\\phi(x_{(t)}^T \\cdot w_x + y_{(t-1)}^T \\cdot w_y + b)$\n",
        "\n",
        "Compute a whole layer's output in a vectorized form for a whole mini-batch,\n",
        "\n",
        "$Y_{(t)}=\\phi(X_{(t)} \\cdot W_{x}+Y_{(t-1)} \\cdot W_y+b) \\\\\n",
        "   \\quad\\,\\, =\\phi([X_{(t)}\\quad Y_{(t-1)}] \\cdot W + b)$\n",
        "with $W^T = [W_x \\quad W_y]^T$\n",
        "\n",
        "* $Y_{(t)}$ is an $m × n_{neurons}$ matrix containing the layer’s outputs at time step $t$ for each instance in the mini-batch ($m$ is the number of instances in the mini-batch and $n_{neurons}$ is the number of neurons).\n",
        "* $X_{(t)}$ is an $m × n_{inputs}$ matrix containing the inputs for all instances ($n_{inputs}$ is the number of input features).\n",
        "* $W_x$ is an $n_{inputs} × n_{neurons}$ matrix containing the connection weights for the inputs of the current time step.\n",
        "* $W_y$ is an $n_{neurons} × n_{neurons}$ matrix containing the connection weights for the outputs of the previous time step.\n",
        "* The weight matrices $W_x$ and $W_y$ are often concatenated into a single weight matrix $W$ of shape $(n_{inputs} + n_{neurons}) × n_{neurons}$\n",
        "* $b$ is a vector of size $n_{neurons}$ containing each neuron’s bias term.\n",
        "\n",
        "Notice that $Y_{(t)}$ is a function of $X_{(t)}$ and $Y_{(t–1)}$, which is a function of $X_{(t–1)}$ and $Y_{(t–2)}$, which is a function of $X_{(t–2)}$ and $Y_{(t–3)}$, and so on. This makes $Y_{(t)}$ a function of all the inputs since time $t = 0$ (that is, $X_{(0)}$, $X_{(1)}$, ..., $X_{(t)}$). At the first time step, $t = 0$, there are no previous outputs, so they are typically assumed to be all zeros."
      ]
    },
    {
      "metadata": {
        "id": "LM8e19nWlrak",
        "colab_type": "text"
      },
      "cell_type": "markdown",
      "source": [
        "##Memory Cells\n",
        "Since the output of a recurrent neuron at time step $t$ is a function of all the inputs from previous time steps, you could say it has a form of *memory*.\n",
        "\n",
        "*Memory cell* ia a part of a neural netowrk that preserves some state across times steps.\n",
        "\n",
        "A single recurrent neuron, or a layer of recurrent neurons, is a *very basic cell*.\n",
        "\n",
        "A cell's state at time step $t$, denoted $h_{(i)}$, is a function of some inputs at that time step and its state at the previous time step: $h_{(i)}=f(h_{(i-1)}, x_{(i)})$\n",
        "\n",
        "Its output at time step $t$, denoted $y_{(i)}$, is also a function of the previous state and the current inputs."
      ]
    },
    {
      "metadata": {
        "id": "ofBz7G67-hUC",
        "colab_type": "text"
      },
      "cell_type": "markdown",
      "source": [
        "##Input and Output Sequences\n",
        "1. Sequence to Sequence - predict time series, such as stock prices\n",
        "2. Sequence to Vector - sentiment anlysis\n",
        "3. Vector to Sequence - predict the caption of an image\n",
        "4. Delayed Sequence to Sequence - Encoder+Decoder, machine translation"
      ]
    },
    {
      "metadata": {
        "id": "BS10yNXR_2sN",
        "colab_type": "text"
      },
      "cell_type": "markdown",
      "source": [
        "#Basic RNNs in TensorFlow\n",
        "Start with manual RNN without using TensorFlow RNN operations"
      ]
    },
    {
      "metadata": {
        "id": "ptaqpyZ5ASTo",
        "colab_type": "code",
        "colab": {}
      },
      "cell_type": "code",
      "source": [
        "reset_graph()\n",
        "\n",
        "n_inputs = 3\n",
        "n_neurons = 5\n",
        "\n",
        "X0 = tf.placeholder(tf.float32, [None, n_inputs])\n",
        "X1 = tf.placeholder(tf.float32, [None, n_inputs])\n",
        "\n",
        "Wx = tf.Variable(tf.random_normal(shape=[n_inputs, n_neurons], dtype=tf.float32))\n",
        "Wy = tf.Variable(tf.random_normal(shape=[n_neurons, n_neurons], dtype=tf.float32))\n",
        "b = tf.Variable(tf.zeros([1, n_neurons], dtype=tf.float32))\n",
        "\n",
        "Y0 = tf.tanh(tf.matmul(X0, Wx) + b)\n",
        "Y1 = tf.tanh(tf.matmul(Y0, Wy) + tf.matmul(X1, Wx) + b)\n",
        "\n",
        "init = tf.global_variables_initializer()"
      ],
      "execution_count": 0,
      "outputs": []
    },
    {
      "metadata": {
        "id": "iqdQHRuXBakX",
        "colab_type": "code",
        "colab": {}
      },
      "cell_type": "code",
      "source": [
        "# Mini-batch:       instance 0, ins 1,   ins2,   ins3\n",
        "X0_batch = np.array([[0,1,2], [3,4,5], [6,7,8], [9,0,1]]) # t = 0\n",
        "X1_batch = np.array([[9,8,7], [0,0,0], [6,5,4], [3,2,1]]) # t = 1\n",
        "\n",
        "with tf.Session() as sess:\n",
        "  init.run()\n",
        "  Y0_val, Y1_val = sess.run([Y0, Y1], feed_dict={X0: X0_batch, X1: X1_batch})"
      ],
      "execution_count": 0,
      "outputs": []
    },
    {
      "metadata": {
        "id": "KbJHutzoDACE",
        "colab_type": "text"
      },
      "cell_type": "markdown",
      "source": [
        "This mini-batch contains four instances, each with an input sequence composed of exactly two inputs. At the end, Y0_val and Y1_val contain the outputs of the network at both time steps for all neurons and all instances in the mini-batch:"
      ]
    },
    {
      "metadata": {
        "id": "3YlpmvspB6Kv",
        "colab_type": "code",
        "colab": {
          "base_uri": "https://localhost:8080/",
          "height": 85
        },
        "outputId": "b26bb67c-0f03-4dea-aa17-b0f1305899f4"
      },
      "cell_type": "code",
      "source": [
        "print(Y0_val)"
      ],
      "execution_count": 8,
      "outputs": [
        {
          "output_type": "stream",
          "text": [
            "[[-0.0664006   0.9625767   0.68105793  0.7091854  -0.898216  ]\n",
            " [ 0.9977755  -0.71978897 -0.9965762   0.9673924  -0.9998972 ]\n",
            " [ 0.99999785 -0.99898815 -0.9999989   0.9967762  -0.9999998 ]\n",
            " [ 1.         -1.         -1.         -0.9981893   0.9995087 ]]\n"
          ],
          "name": "stdout"
        }
      ]
    },
    {
      "metadata": {
        "id": "8lOn5XctCYH-",
        "colab_type": "code",
        "colab": {
          "base_uri": "https://localhost:8080/",
          "height": 85
        },
        "outputId": "1e0fd02b-e6f2-40ec-fc07-d922ad785e38"
      },
      "cell_type": "code",
      "source": [
        "print(Y1_val)"
      ],
      "execution_count": 9,
      "outputs": [
        {
          "output_type": "stream",
          "text": [
            "[[ 1.         -1.         -1.          0.40200275 -0.9999998 ]\n",
            " [-0.12210425  0.6280529   0.9671843  -0.9937122  -0.25839356]\n",
            " [ 0.9999982  -0.9999994  -0.9999975  -0.85943305 -0.9999879 ]\n",
            " [ 0.99928284 -0.99999803 -0.9999058   0.98579615 -0.9220575 ]]\n"
          ],
          "name": "stdout"
        }
      ]
    },
    {
      "metadata": {
        "id": "72TDYtJsC3eT",
        "colab_type": "text"
      },
      "cell_type": "markdown",
      "source": [
        "##Static Unrolling Through Time\n",
        "The **static_run()** function creates an unrolled RNN network by chaining cells."
      ]
    },
    {
      "metadata": {
        "id": "xzuVm1DrDvI1",
        "colab_type": "code",
        "colab": {}
      },
      "cell_type": "code",
      "source": [
        "n_inputs = 3\n",
        "n_neurons = 5\n",
        "\n",
        "reset_graph()\n",
        "\n",
        "X0 = tf.placeholder(tf.float32, [None, n_inputs])\n",
        "X1 = tf.placeholder(tf.float32, [None, n_inputs])\n",
        "\n",
        "basic_cell = tf.contrib.rnn.BasicRNNCell(num_units=n_neurons)\n",
        "output_seqs, states = tf.contrib.rnn.static_rnn(basic_cell, [X0, X1], dtype=tf.float32)\n",
        "#                                                ^cell       ^inputs   ^datatype of inputs\n",
        "\n",
        "Y0, Y1 = output_seqs"
      ],
      "execution_count": 0,
      "outputs": []
    },
    {
      "metadata": {
        "id": "Wz9I41cwEaGs",
        "colab_type": "text"
      },
      "cell_type": "markdown",
      "source": [
        "The **static_rnn()** function returns two objects. The first is a Python list containing the output tensors for each time step. The second is a tensor containing the final states of the network."
      ]
    },
    {
      "metadata": {
        "id": "0z2L64nuFeLR",
        "colab_type": "code",
        "colab": {}
      },
      "cell_type": "code",
      "source": [
        "init = tf.global_variables_initializer()\n",
        "\n",
        "X0_batch = np.array([[0, 1, 2], [3, 4, 5], [6, 7, 8], [9, 0, 1]])\n",
        "X1_batch = np.array([[9, 8, 7], [0, 0, 0], [6, 5, 4], [3, 2, 1]])\n",
        "\n",
        "with tf.Session() as sess:\n",
        "    init.run()\n",
        "    Y0_val, Y1_val = sess.run([Y0, Y1], feed_dict={X0: X0_batch, X1: X1_batch})"
      ],
      "execution_count": 0,
      "outputs": []
    },
    {
      "metadata": {
        "id": "DW84oBhxFgz7",
        "colab_type": "code",
        "colab": {
          "base_uri": "https://localhost:8080/",
          "height": 102
        },
        "outputId": "422054e8-7ff8-462c-8eb0-ff37855760ed"
      },
      "cell_type": "code",
      "source": [
        "Y0_val"
      ],
      "execution_count": 13,
      "outputs": [
        {
          "output_type": "execute_result",
          "data": {
            "text/plain": [
              "array([[ 0.30741334, -0.32884315, -0.65428466, -0.9385059 ,  0.52089024],\n",
              "       [ 0.99122757, -0.95425403, -0.75180787, -0.9995208 ,  0.9820235 ],\n",
              "       [ 0.9999268 , -0.99783254, -0.8247353 , -0.9999963 ,  0.9994779 ],\n",
              "       [ 0.996771  , -0.68750614,  0.8419969 ,  0.93039113,  0.81206834]],\n",
              "      dtype=float32)"
            ]
          },
          "metadata": {
            "tags": []
          },
          "execution_count": 13
        }
      ]
    },
    {
      "metadata": {
        "id": "Li7YcyO-FiAi",
        "colab_type": "code",
        "colab": {
          "base_uri": "https://localhost:8080/",
          "height": 102
        },
        "outputId": "fd81c3fd-dfd9-4a78-b78b-beec3d9033f1"
      },
      "cell_type": "code",
      "source": [
        "Y1_val"
      ],
      "execution_count": 14,
      "outputs": [
        {
          "output_type": "execute_result",
          "data": {
            "text/plain": [
              "array([[ 0.999989  , -0.99976057, -0.0667929 , -0.9999803 ,  0.99982214],\n",
              "       [-0.6524943 , -0.51520866, -0.37968946, -0.59225935, -0.08968391],\n",
              "       [ 0.99862397, -0.99715203, -0.03308637, -0.9991566 ,  0.9932902 ],\n",
              "       [ 0.99681675, -0.9598194 ,  0.3966063 , -0.83076054,  0.7967197 ]],\n",
              "      dtype=float32)"
            ]
          },
          "metadata": {
            "tags": []
          },
          "execution_count": 14
        }
      ]
    },
    {
      "metadata": {
        "id": "I01I8IJ-FulR",
        "colab_type": "text"
      },
      "cell_type": "markdown",
      "source": [
        "###Packing sequences\n",
        "For two time steps it is easy to write out inputs and outputs specifically, but extremely difficult if time steps become greater... say 100..\n",
        "We need to write out code to simplify this process..\n",
        "\n",
        "1. We need a single input placeholder of shape **[None, n_steps, n_inputs]** where the first dimension is the mini-batch size. Then it extracts the list of input sequences for each time step.\n",
        "\n",
        "2. **X_seqs** is a Python list of **n_steps** tensors of shape **[None, n_inputs]**, where the first dimension is the mini-batch size. Use **transpose()** to swap the first two dimensions.\n",
        "\n",
        "3. Use **unstack()** to extract a Python list of tensors along the first dimension (i.e., one tensor per time step)\n",
        "\n",
        "4. Then, use **stack()** to merge all the output tensors into a single tensor and also swap the first two dimensions to get a final **output** tensor of shape **[None, n_steps, n_neurons]**"
      ]
    },
    {
      "metadata": {
        "id": "UjTt2-G7HsV4",
        "colab_type": "code",
        "colab": {
          "base_uri": "https://localhost:8080/",
          "height": 34
        },
        "outputId": "d07eeb48-3d8e-493d-90d6-6b9d25fc6fd3"
      },
      "cell_type": "code",
      "source": [
        "n_steps = 2\n",
        "n_inputs = 3\n",
        "n_neurons = 5\n",
        "\n",
        "reset_graph()\n",
        "# Step 1\n",
        "X = tf.placeholder(tf.float32, [None, n_steps, n_inputs])\n",
        "#            Step3       Step 2\n",
        "X_seqs = tf.unstack(tf.transpose(X, perm=[1, 0, 2]))\n",
        "\n",
        "basic_cell = tf.contrib.rnn.BasicRNNCell(num_units=n_neurons)\n",
        "output_seqs, states = tf.contrib.rnn.static_rnn(basic_cell, X_seqs, dtype=tf.float32)\n",
        "\n",
        "# Step 4\n",
        "outputs = tf.transpose(tf.stack(output_seqs), perm=[1, 0, 2])\n",
        "\n",
        "init = tf.global_variables_initializer()\n",
        "\n",
        "X_batch = np.array([\n",
        "        # t = 0      t = 1 \n",
        "        [[0, 1, 2], [9, 8, 7]], # instance 1\n",
        "        [[3, 4, 5], [0, 0, 0]], # instance 2\n",
        "        [[6, 7, 8], [6, 5, 4]], # instance 3\n",
        "        [[9, 0, 1], [3, 2, 1]], # instance 4\n",
        "    ])\n",
        "X_batch.shape"
      ],
      "execution_count": 26,
      "outputs": [
        {
          "output_type": "execute_result",
          "data": {
            "text/plain": [
              "(4, 2, 3)"
            ]
          },
          "metadata": {
            "tags": []
          },
          "execution_count": 26
        }
      ]
    },
    {
      "metadata": {
        "id": "-DWAFXVbIt6I",
        "colab_type": "code",
        "colab": {}
      },
      "cell_type": "code",
      "source": [
        "with tf.Session() as sess:\n",
        "    init.run()\n",
        "    outputs_val = outputs.eval(feed_dict={X: X_batch})"
      ],
      "execution_count": 0,
      "outputs": []
    },
    {
      "metadata": {
        "id": "8uqJREFWJ5Vv",
        "colab_type": "text"
      },
      "cell_type": "markdown",
      "source": [
        "we get a single **outputs_val** tensor for all instances, all time steps, and all neurons:"
      ]
    },
    {
      "metadata": {
        "id": "GyAV69m0Jg9x",
        "colab_type": "code",
        "colab": {
          "base_uri": "https://localhost:8080/",
          "height": 204
        },
        "outputId": "9c2f2eed-354f-4a27-ebcb-2695c1e5af3b"
      },
      "cell_type": "code",
      "source": [
        "print(outputs_val)"
      ],
      "execution_count": 28,
      "outputs": [
        {
          "output_type": "stream",
          "text": [
            "[[[-0.45652324 -0.68064123  0.40938237  0.63104504 -0.45732826]\n",
            "  [-0.94288    -0.999887    0.9405581   0.9999984  -0.9999998 ]]\n",
            "\n",
            " [[-0.80015343 -0.9921827   0.78177965  0.9971032  -0.9964609 ]\n",
            "  [-0.637116    0.11300927  0.5798437   0.4310559  -0.6371699 ]]\n",
            "\n",
            " [[-0.93605185 -0.9998379   0.9308867   0.9999814  -0.9999831 ]\n",
            "  [-0.9165386  -0.9945605   0.896054    0.99987197 -0.9999751 ]]\n",
            "\n",
            " [[ 0.9927367  -0.9981933  -0.55543643  0.9989031  -0.9953323 ]\n",
            "  [-0.02746338 -0.7319198   0.7827872   0.9525681  -0.978177  ]]]\n"
          ],
          "name": "stdout"
        }
      ]
    },
    {
      "metadata": {
        "id": "-vYlQtOSJibo",
        "colab_type": "code",
        "colab": {
          "base_uri": "https://localhost:8080/",
          "height": 85
        },
        "outputId": "344529af-4012-4ffd-eca8-c206d74b4b73"
      },
      "cell_type": "code",
      "source": [
        "print(np.transpose(outputs_val, axes=[1, 0, 2])[1])"
      ],
      "execution_count": 32,
      "outputs": [
        {
          "output_type": "stream",
          "text": [
            "[[-0.94288    -0.999887    0.9405581   0.9999984  -0.9999998 ]\n",
            " [-0.637116    0.11300927  0.5798437   0.4310559  -0.6371699 ]\n",
            " [-0.9165386  -0.9945605   0.896054    0.99987197 -0.9999751 ]\n",
            " [-0.02746338 -0.7319198   0.7827872   0.9525681  -0.978177  ]]\n"
          ],
          "name": "stdout"
        }
      ]
    },
    {
      "metadata": {
        "id": "jLigTl4BjGsB",
        "colab_type": "text"
      },
      "cell_type": "markdown",
      "source": [
        "This approach still builds a graph containing one cell per time step. To write a program with using loops, use the **dynamic_rnn()** function."
      ]
    },
    {
      "metadata": {
        "id": "Kxw4rAWDjXVB",
        "colab_type": "text"
      },
      "cell_type": "markdown",
      "source": [
        "##Dynamic Unrolling Through Time\n",
        "The **dynamic_rnn()** function uses a **while_loop()** operation to run over the cell the appropriate number of times, and you can set **swap_memory=True** if you want it to swap the GPU’s memory to the CPU’s memory during backpropagation to avoid OOM errors.\n",
        "\n",
        "it also accepts a single tensor for all inputs at every time step (shape **[None, n_steps, n_inputs]**) and it outputs a single tensor for all outputs at every time step (shape **[None, n_steps, n_neurons]**); there is no need to stack, unstack, or transpose."
      ]
    },
    {
      "metadata": {
        "id": "a6KCesZ7j4JB",
        "colab_type": "code",
        "colab": {
          "base_uri": "https://localhost:8080/",
          "height": 88
        },
        "outputId": "a7eee4fc-bf2a-4bc2-ec48-5591c4574a40"
      },
      "cell_type": "code",
      "source": [
        "n_steps = 2\n",
        "n_inputs = 3\n",
        "n_neurons = 5\n",
        "\n",
        "reset_graph()\n",
        "\n",
        "X = tf.placeholder(tf.float32, [None, n_steps, n_inputs])\n",
        "\n",
        "basic_cell = tf.contrib.rnn.BasicRNNCell(num_units=n_neurons)\n",
        "outputs, states = tf.nn.dynamic_rnn(basic_cell, X, dtype=tf.float32)\n",
        "\n",
        "init = tf.global_variables_initializer()"
      ],
      "execution_count": 2,
      "outputs": [
        {
          "output_type": "stream",
          "text": [
            "WARNING:tensorflow:From <ipython-input-2-f171f919c44a>:9: BasicRNNCell.__init__ (from tensorflow.python.ops.rnn_cell_impl) is deprecated and will be removed in a future version.\n",
            "Instructions for updating:\n",
            "This class is equivalent as tf.keras.layers.SimpleRNNCell, and will be replaced by that in Tensorflow 2.0.\n"
          ],
          "name": "stdout"
        }
      ]
    },
    {
      "metadata": {
        "id": "UGkkkmOKkPz_",
        "colab_type": "code",
        "colab": {}
      },
      "cell_type": "code",
      "source": [
        "X_batch = np.array([\n",
        "        [[0, 1, 2], [9, 8, 7]], # instance 1\n",
        "        [[3, 4, 5], [0, 0, 0]], # instance 2\n",
        "        [[6, 7, 8], [6, 5, 4]], # instance 3\n",
        "        [[9, 0, 1], [3, 2, 1]], # instance 4\n",
        "])\n",
        "\n",
        "with tf.Session() as sess:\n",
        "  init.run()\n",
        "  outputs_val = outputs.eval(feed_dict={X: X_batch})"
      ],
      "execution_count": 0,
      "outputs": []
    },
    {
      "metadata": {
        "id": "Dbkrv9j8krTl",
        "colab_type": "code",
        "colab": {
          "base_uri": "https://localhost:8080/",
          "height": 204
        },
        "outputId": "63030391-9713-42e7-9469-15529ca3b53a"
      },
      "cell_type": "code",
      "source": [
        "print(outputs_val)"
      ],
      "execution_count": 4,
      "outputs": [
        {
          "output_type": "stream",
          "text": [
            "[[[-0.85115266  0.87358344  0.5802911   0.8954789  -0.0557505 ]\n",
            "  [-0.9999959   0.9999958   0.9981815   1.          0.37679607]]\n",
            "\n",
            " [[-0.9983293   0.9992038   0.98071444  0.999985    0.25192663]\n",
            "  [-0.7081804  -0.07723374 -0.8522789   0.5845349  -0.78780943]]\n",
            "\n",
            " [[-0.9999826   0.99999535  0.9992863   1.          0.5159072 ]\n",
            "  [-0.9993955   0.99840957  0.83422637  0.99999976 -0.47325206]]\n",
            "\n",
            " [[ 0.8788859   0.07356028  0.97216916  0.9998546  -0.7351168 ]\n",
            "  [-0.91345143  0.36009565  0.7624866   0.99817705  0.80142   ]]]\n"
          ],
          "name": "stdout"
        }
      ]
    },
    {
      "metadata": {
        "id": "yf27boa7k_le",
        "colab_type": "text"
      },
      "cell_type": "markdown",
      "source": [
        "##Handling Variable Length Input Sequences\n",
        "To handle variable length of input sequences, set a **sequence_length** parameter, which must be a 1D tensor indicating the length of the input sequence for each instance,"
      ]
    },
    {
      "metadata": {
        "id": "gpwCL7fel3Rd",
        "colab_type": "code",
        "colab": {}
      },
      "cell_type": "code",
      "source": [
        "n_steps = 2\n",
        "n_inputs = 3\n",
        "n_neurons = 5\n",
        "\n",
        "reset_graph()\n",
        "\n",
        "X = tf.placeholder(tf.float32, [None, n_steps, n_inputs])\n",
        "basic_cell = tf.contrib.rnn.BasicRNNCell(num_units=n_neurons)"
      ],
      "execution_count": 0,
      "outputs": []
    },
    {
      "metadata": {
        "id": "IXr6MqZnl6pt",
        "colab_type": "code",
        "colab": {}
      },
      "cell_type": "code",
      "source": [
        "seq_length = tf.placeholder(tf.int32, [None])\n",
        "outputs, states = tf.nn.dynamic_rnn(basic_cell, X, dtype=tf.float32, sequence_length=seq_length)"
      ],
      "execution_count": 0,
      "outputs": []
    },
    {
      "metadata": {
        "id": "kfSXWAHBmG_8",
        "colab_type": "code",
        "colab": {}
      },
      "cell_type": "code",
      "source": [
        "init = tf.global_variables_initializer()"
      ],
      "execution_count": 0,
      "outputs": []
    },
    {
      "metadata": {
        "id": "318NTZKwmJHc",
        "colab_type": "code",
        "colab": {}
      },
      "cell_type": "code",
      "source": [
        "X_batch = np.array([\n",
        "        # step 0     step 1\n",
        "        [[0, 1, 2], [9, 8, 7]], # instance 1\n",
        "        [[3, 4, 5], [0, 0, 0]], # instance 2 (padded with zero vectors)\n",
        "        [[6, 7, 8], [6, 5, 4]], # instance 3\n",
        "        [[9, 0, 1], [3, 2, 1]], # instance 4\n",
        "    ])\n",
        "seq_length_batch = np.array([2, 1, 2, 2])\n",
        "# ^indicates the length of each instance"
      ],
      "execution_count": 0,
      "outputs": []
    },
    {
      "metadata": {
        "id": "voqSv1aCmV4c",
        "colab_type": "code",
        "colab": {}
      },
      "cell_type": "code",
      "source": [
        "with tf.Session() as sess:\n",
        "  init.run()\n",
        "  outputs_val, states_val = sess.run(\n",
        "      [outputs, states], feed_dict={X: X_batch, seq_length: seq_length_batch})"
      ],
      "execution_count": 0,
      "outputs": []
    },
    {
      "metadata": {
        "id": "C-RJF0DKmmHE",
        "colab_type": "code",
        "colab": {
          "base_uri": "https://localhost:8080/",
          "height": 204
        },
        "outputId": "332dede8-8b2a-4796-e1e9-51829ef77790"
      },
      "cell_type": "code",
      "source": [
        "print(outputs_val)"
      ],
      "execution_count": 10,
      "outputs": [
        {
          "output_type": "stream",
          "text": [
            "[[[-0.9123188   0.16516446  0.5548655  -0.39159346  0.20846416]\n",
            "  [-1.          0.95672596  0.99831694  0.99970174  0.96518576]]\n",
            "\n",
            " [[-0.9998612   0.6702289   0.9723653   0.6631046   0.74457586]\n",
            "  [ 0.          0.          0.          0.          0.        ]]\n",
            "\n",
            " [[-0.9999998   0.8967998   0.9986295   0.9647514   0.93661994]\n",
            "  [-0.9999526   0.96819544  0.9600285   0.98706263  0.85459226]]\n",
            "\n",
            " [[-0.96435434  0.995016   -0.36150697  0.9983377   0.99949706]\n",
            "  [-0.9613586   0.9568762   0.7132288   0.97729224 -0.0958299 ]]]\n"
          ],
          "name": "stdout"
        }
      ]
    },
    {
      "metadata": {
        "id": "iYxt9YdCmnYs",
        "colab_type": "code",
        "colab": {
          "base_uri": "https://localhost:8080/",
          "height": 85
        },
        "outputId": "8b45f70f-9d82-4e18-c250-6a077914f9d7"
      },
      "cell_type": "code",
      "source": [
        "print(states_val)"
      ],
      "execution_count": 11,
      "outputs": [
        {
          "output_type": "stream",
          "text": [
            "[[-1.          0.95672596  0.99831694  0.99970174  0.96518576]\n",
            " [-0.9998612   0.6702289   0.9723653   0.6631046   0.74457586]\n",
            " [-0.9999526   0.96819544  0.9600285   0.98706263  0.85459226]\n",
            " [-0.9613586   0.9568762   0.7132288   0.97729224 -0.0958299 ]]\n"
          ],
          "name": "stdout"
        }
      ]
    },
    {
      "metadata": {
        "id": "qcJB3YwxmtVC",
        "colab_type": "text"
      },
      "cell_type": "markdown",
      "source": [
        "##Handling Variables-Length Output Sequences\n",
        "need to define a special output called an *end-of-sequence token* (EOS TOKEN). Any output past the EOS should be ignored."
      ]
    },
    {
      "metadata": {
        "id": "mDJ7ysjGnDEs",
        "colab_type": "text"
      },
      "cell_type": "markdown",
      "source": [
        "#Training RNNs\n",
        "To train an RNN, the trick is to unroll it through time and then simply use regular backpropagation, which is called *backpropagation through time* (BPTT)"
      ]
    },
    {
      "metadata": {
        "id": "cQc96IPEogMH",
        "colab_type": "text"
      },
      "cell_type": "markdown",
      "source": [
        "##Training a Sequence Classifier\n",
        "For MNIST, We will treat each image as a sequence of 28 rows of 28 pixels each (since each MNIST image is 28 × 28 pixels). We will use cells of 150 recurrent neurons, plus a fully connected layer containing 10 neurons (one per class) connected to the output of the last time step, followed by a softmax layer"
      ]
    },
    {
      "metadata": {
        "id": "8p9HhBtOoFCy",
        "colab_type": "code",
        "colab": {
          "base_uri": "https://localhost:8080/",
          "height": 88
        },
        "outputId": "a2b2fcaf-7442-43d7-f06d-709cd766179f"
      },
      "cell_type": "code",
      "source": [
        "reset_graph()\n",
        "\n",
        "n_steps = 28\n",
        "n_inputs = 28\n",
        "n_neurons = 150\n",
        "n_outputs = 10\n",
        "\n",
        "learning_rate = 0.001\n",
        "\n",
        "X = tf.placeholder(tf.float32, [None, n_steps, n_inputs])\n",
        "y = tf.placeholder(tf.int32, [None])\n",
        "\n",
        "basic_cell = tf.contrib.rnn.BasicRNNCell(num_units=n_neurons)\n",
        "outputs, states = tf.nn.dynamic_rnn(basic_cell, X, dtype=tf.float32)\n",
        "\n",
        "logits = tf.layers.dense(states, n_outputs)\n",
        "xentropy = tf.nn.sparse_softmax_cross_entropy_with_logits(labels=y, logits=logits)\n",
        "\n",
        "loss = tf.reduce_mean(xentropy)\n",
        "optimizer = tf.train.AdamOptimizer(learning_rate=learning_rate)\n",
        "training_op = optimizer.minimize(loss)\n",
        "\n",
        "correct = tf.nn.in_top_k(logits, y, 1)\n",
        "accuracy = tf.reduce_mean(tf.cast(correct, tf.float32))\n",
        "\n",
        "init = tf.global_variables_initializer()"
      ],
      "execution_count": 2,
      "outputs": [
        {
          "output_type": "stream",
          "text": [
            "WARNING:tensorflow:From <ipython-input-2-2a96214b4a71>:13: BasicRNNCell.__init__ (from tensorflow.python.ops.rnn_cell_impl) is deprecated and will be removed in a future version.\n",
            "Instructions for updating:\n",
            "This class is equivalent as tf.keras.layers.SimpleRNNCell, and will be replaced by that in Tensorflow 2.0.\n"
          ],
          "name": "stdout"
        }
      ]
    },
    {
      "metadata": {
        "id": "5QyvLvJPrOTP",
        "colab_type": "text"
      },
      "cell_type": "markdown",
      "source": [
        "load the MNIST data and reshape the test data to **[batch_size, n_steps,n_inputs]** as is expected by the network."
      ]
    },
    {
      "metadata": {
        "id": "-Ff3UtCCpdEp",
        "colab_type": "code",
        "colab": {
          "base_uri": "https://localhost:8080/",
          "height": 479
        },
        "outputId": "749b2a85-121d-42e5-9725-6b09b249d237"
      },
      "cell_type": "code",
      "source": [
        "from tensorflow.examples.tutorials.mnist import input_data\n",
        "mnist = input_data.read_data_sets('/tmp/data/')\n",
        "X_test = mnist.test.images.reshape((-1, n_steps, n_inputs))\n",
        "y_test = mnist.test.labels"
      ],
      "execution_count": 3,
      "outputs": [
        {
          "output_type": "stream",
          "text": [
            "WARNING:tensorflow:From <ipython-input-3-296044d6dcb8>:2: read_data_sets (from tensorflow.contrib.learn.python.learn.datasets.mnist) is deprecated and will be removed in a future version.\n",
            "Instructions for updating:\n",
            "Please use alternatives such as official/mnist/dataset.py from tensorflow/models.\n",
            "WARNING:tensorflow:From /usr/local/lib/python3.6/dist-packages/tensorflow/contrib/learn/python/learn/datasets/mnist.py:260: maybe_download (from tensorflow.contrib.learn.python.learn.datasets.base) is deprecated and will be removed in a future version.\n",
            "Instructions for updating:\n",
            "Please write your own downloading logic.\n",
            "WARNING:tensorflow:From /usr/local/lib/python3.6/dist-packages/tensorflow/contrib/learn/python/learn/datasets/base.py:252: _internal_retry.<locals>.wrap.<locals>.wrapped_fn (from tensorflow.contrib.learn.python.learn.datasets.base) is deprecated and will be removed in a future version.\n",
            "Instructions for updating:\n",
            "Please use urllib or similar directly.\n",
            "Successfully downloaded train-images-idx3-ubyte.gz 9912422 bytes.\n",
            "WARNING:tensorflow:From /usr/local/lib/python3.6/dist-packages/tensorflow/contrib/learn/python/learn/datasets/mnist.py:262: extract_images (from tensorflow.contrib.learn.python.learn.datasets.mnist) is deprecated and will be removed in a future version.\n",
            "Instructions for updating:\n",
            "Please use tf.data to implement this functionality.\n",
            "Extracting /tmp/data/train-images-idx3-ubyte.gz\n",
            "Successfully downloaded train-labels-idx1-ubyte.gz 28881 bytes.\n",
            "WARNING:tensorflow:From /usr/local/lib/python3.6/dist-packages/tensorflow/contrib/learn/python/learn/datasets/mnist.py:267: extract_labels (from tensorflow.contrib.learn.python.learn.datasets.mnist) is deprecated and will be removed in a future version.\n",
            "Instructions for updating:\n",
            "Please use tf.data to implement this functionality.\n",
            "Extracting /tmp/data/train-labels-idx1-ubyte.gz\n",
            "Successfully downloaded t10k-images-idx3-ubyte.gz 1648877 bytes.\n",
            "Extracting /tmp/data/t10k-images-idx3-ubyte.gz\n",
            "Successfully downloaded t10k-labels-idx1-ubyte.gz 4542 bytes.\n",
            "Extracting /tmp/data/t10k-labels-idx1-ubyte.gz\n",
            "WARNING:tensorflow:From /usr/local/lib/python3.6/dist-packages/tensorflow/contrib/learn/python/learn/datasets/mnist.py:290: DataSet.__init__ (from tensorflow.contrib.learn.python.learn.datasets.mnist) is deprecated and will be removed in a future version.\n",
            "Instructions for updating:\n",
            "Please use alternatives such as official/mnist/dataset.py from tensorflow/models.\n"
          ],
          "name": "stdout"
        }
      ]
    },
    {
      "metadata": {
        "id": "NNmqIjQurVEW",
        "colab_type": "text"
      },
      "cell_type": "markdown",
      "source": [
        "reshape each training batch before feeding it to the network."
      ]
    },
    {
      "metadata": {
        "id": "m653l7mmp_Zg",
        "colab_type": "code",
        "colab": {
          "base_uri": "https://localhost:8080/",
          "height": 1717
        },
        "outputId": "9cefdd70-815d-484c-b96a-1ebfb7c98698"
      },
      "cell_type": "code",
      "source": [
        "n_epochs = 100\n",
        "batch_size = 150\n",
        "\n",
        "with tf.Session() as sess:\n",
        "  init.run()\n",
        "  for epoch in range(n_epochs):\n",
        "    for iteration in range(mnist.train.num_examples // batch_size):\n",
        "      X_batch, y_batch = mnist.train.next_batch(batch_size)\n",
        "      X_batch = X_batch.reshape((-1, n_steps, n_inputs))\n",
        "      \n",
        "      sess.run(training_op, feed_dict={X: X_batch, y:y_batch})\n",
        "      \n",
        "    acc_train = accuracy.eval(feed_dict={X: X_batch, y:y_batch})\n",
        "    acc_test = accuracy.eval(feed_dict={X: X_test, y: y_test})\n",
        "    print(epoch, 'Train accuracy:', acc_train, 'Test accuracy:', acc_test)"
      ],
      "execution_count": 4,
      "outputs": [
        {
          "output_type": "stream",
          "text": [
            "0 Train accuracy: 0.93333334 Test accuracy: 0.9311\n",
            "1 Train accuracy: 0.96666664 Test accuracy: 0.9522\n",
            "2 Train accuracy: 0.97333336 Test accuracy: 0.9583\n",
            "3 Train accuracy: 0.96666664 Test accuracy: 0.966\n",
            "4 Train accuracy: 0.97333336 Test accuracy: 0.9708\n",
            "5 Train accuracy: 0.98 Test accuracy: 0.9712\n",
            "6 Train accuracy: 0.96666664 Test accuracy: 0.9715\n",
            "7 Train accuracy: 0.97333336 Test accuracy: 0.972\n",
            "8 Train accuracy: 0.93333334 Test accuracy: 0.967\n",
            "9 Train accuracy: 0.97333336 Test accuracy: 0.9684\n",
            "10 Train accuracy: 0.9866667 Test accuracy: 0.9727\n",
            "11 Train accuracy: 0.98 Test accuracy: 0.9758\n",
            "12 Train accuracy: 0.96666664 Test accuracy: 0.9721\n",
            "13 Train accuracy: 0.9866667 Test accuracy: 0.9719\n",
            "14 Train accuracy: 0.96 Test accuracy: 0.9654\n",
            "15 Train accuracy: 0.9866667 Test accuracy: 0.9695\n",
            "16 Train accuracy: 0.98 Test accuracy: 0.9737\n",
            "17 Train accuracy: 0.98 Test accuracy: 0.9708\n",
            "18 Train accuracy: 0.98 Test accuracy: 0.9723\n",
            "19 Train accuracy: 0.98 Test accuracy: 0.9782\n",
            "20 Train accuracy: 0.97333336 Test accuracy: 0.977\n",
            "21 Train accuracy: 0.96666664 Test accuracy: 0.9769\n",
            "22 Train accuracy: 0.9866667 Test accuracy: 0.9759\n",
            "23 Train accuracy: 0.9866667 Test accuracy: 0.9746\n",
            "24 Train accuracy: 0.99333334 Test accuracy: 0.9779\n",
            "25 Train accuracy: 0.99333334 Test accuracy: 0.9739\n",
            "26 Train accuracy: 0.96 Test accuracy: 0.9792\n",
            "27 Train accuracy: 0.99333334 Test accuracy: 0.9772\n",
            "28 Train accuracy: 0.94666666 Test accuracy: 0.9783\n",
            "29 Train accuracy: 0.99333334 Test accuracy: 0.974\n",
            "30 Train accuracy: 0.9866667 Test accuracy: 0.976\n",
            "31 Train accuracy: 0.99333334 Test accuracy: 0.9778\n",
            "32 Train accuracy: 1.0 Test accuracy: 0.9804\n",
            "33 Train accuracy: 1.0 Test accuracy: 0.9748\n",
            "34 Train accuracy: 0.99333334 Test accuracy: 0.9747\n",
            "35 Train accuracy: 1.0 Test accuracy: 0.9778\n",
            "36 Train accuracy: 0.99333334 Test accuracy: 0.9728\n",
            "37 Train accuracy: 0.99333334 Test accuracy: 0.9757\n",
            "38 Train accuracy: 0.9866667 Test accuracy: 0.9798\n",
            "39 Train accuracy: 1.0 Test accuracy: 0.9826\n",
            "40 Train accuracy: 0.9866667 Test accuracy: 0.9786\n",
            "41 Train accuracy: 0.9866667 Test accuracy: 0.9716\n",
            "42 Train accuracy: 0.99333334 Test accuracy: 0.9724\n",
            "43 Train accuracy: 0.9866667 Test accuracy: 0.9813\n",
            "44 Train accuracy: 0.9866667 Test accuracy: 0.9793\n",
            "45 Train accuracy: 1.0 Test accuracy: 0.9747\n",
            "46 Train accuracy: 0.9866667 Test accuracy: 0.9733\n",
            "47 Train accuracy: 1.0 Test accuracy: 0.9765\n",
            "48 Train accuracy: 1.0 Test accuracy: 0.9825\n",
            "49 Train accuracy: 0.9866667 Test accuracy: 0.9787\n",
            "50 Train accuracy: 1.0 Test accuracy: 0.9799\n",
            "51 Train accuracy: 0.99333334 Test accuracy: 0.9798\n",
            "52 Train accuracy: 1.0 Test accuracy: 0.9775\n",
            "53 Train accuracy: 0.99333334 Test accuracy: 0.9801\n",
            "54 Train accuracy: 1.0 Test accuracy: 0.9782\n",
            "55 Train accuracy: 0.99333334 Test accuracy: 0.9803\n",
            "56 Train accuracy: 0.9866667 Test accuracy: 0.9812\n",
            "57 Train accuracy: 0.99333334 Test accuracy: 0.9801\n",
            "58 Train accuracy: 0.97333336 Test accuracy: 0.9785\n",
            "59 Train accuracy: 1.0 Test accuracy: 0.9756\n",
            "60 Train accuracy: 1.0 Test accuracy: 0.9801\n",
            "61 Train accuracy: 1.0 Test accuracy: 0.9782\n",
            "62 Train accuracy: 1.0 Test accuracy: 0.9793\n",
            "63 Train accuracy: 0.99333334 Test accuracy: 0.9796\n",
            "64 Train accuracy: 0.99333334 Test accuracy: 0.9752\n",
            "65 Train accuracy: 0.99333334 Test accuracy: 0.9804\n",
            "66 Train accuracy: 0.99333334 Test accuracy: 0.9779\n",
            "67 Train accuracy: 0.99333334 Test accuracy: 0.9793\n",
            "68 Train accuracy: 0.99333334 Test accuracy: 0.9778\n",
            "69 Train accuracy: 0.99333334 Test accuracy: 0.9822\n",
            "70 Train accuracy: 0.98 Test accuracy: 0.9748\n",
            "71 Train accuracy: 1.0 Test accuracy: 0.9816\n",
            "72 Train accuracy: 1.0 Test accuracy: 0.9811\n",
            "73 Train accuracy: 1.0 Test accuracy: 0.9773\n",
            "74 Train accuracy: 0.9866667 Test accuracy: 0.9781\n",
            "75 Train accuracy: 0.99333334 Test accuracy: 0.9807\n",
            "76 Train accuracy: 0.99333334 Test accuracy: 0.9788\n",
            "77 Train accuracy: 0.9866667 Test accuracy: 0.9735\n",
            "78 Train accuracy: 0.99333334 Test accuracy: 0.9781\n",
            "79 Train accuracy: 0.9866667 Test accuracy: 0.9817\n",
            "80 Train accuracy: 0.99333334 Test accuracy: 0.9824\n",
            "81 Train accuracy: 0.99333334 Test accuracy: 0.9785\n",
            "82 Train accuracy: 0.99333334 Test accuracy: 0.9764\n",
            "83 Train accuracy: 1.0 Test accuracy: 0.9783\n",
            "84 Train accuracy: 1.0 Test accuracy: 0.9775\n",
            "85 Train accuracy: 0.99333334 Test accuracy: 0.97\n",
            "86 Train accuracy: 0.99333334 Test accuracy: 0.9779\n",
            "87 Train accuracy: 0.98 Test accuracy: 0.9765\n",
            "88 Train accuracy: 0.98 Test accuracy: 0.9769\n",
            "89 Train accuracy: 0.99333334 Test accuracy: 0.9775\n",
            "90 Train accuracy: 0.99333334 Test accuracy: 0.9763\n",
            "91 Train accuracy: 0.99333334 Test accuracy: 0.9726\n",
            "92 Train accuracy: 0.98 Test accuracy: 0.9782\n",
            "93 Train accuracy: 0.9866667 Test accuracy: 0.9802\n",
            "94 Train accuracy: 0.99333334 Test accuracy: 0.9777\n",
            "95 Train accuracy: 1.0 Test accuracy: 0.9758\n",
            "96 Train accuracy: 0.9866667 Test accuracy: 0.9775\n",
            "97 Train accuracy: 1.0 Test accuracy: 0.9804\n",
            "98 Train accuracy: 0.96666664 Test accuracy: 0.9764\n",
            "99 Train accuracy: 0.9866667 Test accuracy: 0.9786\n"
          ],
          "name": "stdout"
        }
      ]
    },
    {
      "metadata": {
        "id": "kZ1kKOGUrh0U",
        "colab_type": "text"
      },
      "cell_type": "markdown",
      "source": [
        "You can specify an initializer for the RNN by wrapping its construction code in a variable scope (e.g., use **variable_scope(\"rnn\", initializer=variance_scaling_initializer())** to use He initialization)."
      ]
    },
    {
      "metadata": {
        "id": "-ZgdSTEZrtAM",
        "colab_type": "text"
      },
      "cell_type": "markdown",
      "source": [
        "###Multi-Layer RNN"
      ]
    },
    {
      "metadata": {
        "id": "1PM0HqKZrvSn",
        "colab_type": "code",
        "colab": {}
      },
      "cell_type": "code",
      "source": [
        "reset_graph()\n",
        "\n",
        "n_steps = 28\n",
        "n_inputs = 28\n",
        "n_outputs = 10\n",
        "\n",
        "learning_rate = 0.001\n",
        "\n",
        "X = tf.placeholder(tf.float32, [None, n_steps, n_inputs])\n",
        "y = tf.placeholder(tf.int32, [None])"
      ],
      "execution_count": 0,
      "outputs": []
    },
    {
      "metadata": {
        "id": "y3J2kEIVryKy",
        "colab_type": "code",
        "colab": {}
      },
      "cell_type": "code",
      "source": [
        "n_neurons = 100\n",
        "n_layers = 3\n",
        "\n",
        "layers = [tf.contrib.rnn.BasicRNNCell(num_units=n_neurons, activation=tf.nn.relu)\n",
        "          for layer in range(n_layers)]\n",
        "\n",
        "multi_layer_cell = tf.contrib.rnn.MultiRNNCell(layers)\n",
        "outputs, states = tf.nn.dynamic_rnn(multi_layer_cell, X, dtype=tf.float32)"
      ],
      "execution_count": 0,
      "outputs": []
    },
    {
      "metadata": {
        "id": "UE-mJ78EsKy5",
        "colab_type": "code",
        "colab": {}
      },
      "cell_type": "code",
      "source": [
        "states_concat = tf.concat(axis=1, values=states)\n",
        "\n",
        "logits = tf.layers.dense(states_concat, n_outputs)\n",
        "xentropy = tf.nn.sparse_softmax_cross_entropy_with_logits(labels=y, logits=logits)\n",
        "loss = tf.reduce_mean(xentropy)\n",
        "optimizer = tf.train.AdamOptimizer(learning_rate=learning_rate)\n",
        "training_op = optimizer.minimize(loss)\n",
        "correct = tf.nn.in_top_k(logits, y, 1)\n",
        "accuracy = tf.reduce_mean(tf.cast(correct, tf.float32))\n",
        "\n",
        "init = tf.global_variables_initializer()"
      ],
      "execution_count": 0,
      "outputs": []
    },
    {
      "metadata": {
        "id": "INsewlEus27C",
        "colab_type": "code",
        "colab": {
          "base_uri": "https://localhost:8080/",
          "height": 187
        },
        "outputId": "201517d2-0ba3-4257-8a53-17da02818a74"
      },
      "cell_type": "code",
      "source": [
        "n_epochs = 10\n",
        "batch_size = 150\n",
        "\n",
        "with tf.Session() as sess:\n",
        "    init.run()\n",
        "    for epoch in range(n_epochs):\n",
        "        for iteration in range(mnist.train.num_examples // batch_size):\n",
        "            X_batch, y_batch = mnist.train.next_batch(batch_size)\n",
        "            X_batch = X_batch.reshape((-1, n_steps, n_inputs))\n",
        "            sess.run(training_op, feed_dict={X: X_batch, y: y_batch})\n",
        "        acc_train = accuracy.eval(feed_dict={X: X_batch, y: y_batch})\n",
        "        acc_test = accuracy.eval(feed_dict={X: X_test, y: y_test})\n",
        "        print(epoch, \"Train accuracy:\", acc_train, \"Test accuracy:\", acc_test)"
      ],
      "execution_count": 11,
      "outputs": [
        {
          "output_type": "stream",
          "text": [
            "0 Train accuracy: 0.9266667 Test accuracy: 0.9406\n",
            "1 Train accuracy: 0.99333334 Test accuracy: 0.9669\n",
            "2 Train accuracy: 0.94666666 Test accuracy: 0.9648\n",
            "3 Train accuracy: 0.98 Test accuracy: 0.974\n",
            "4 Train accuracy: 0.97333336 Test accuracy: 0.973\n",
            "5 Train accuracy: 1.0 Test accuracy: 0.9753\n",
            "6 Train accuracy: 0.96666664 Test accuracy: 0.9772\n",
            "7 Train accuracy: 0.99333334 Test accuracy: 0.9785\n",
            "8 Train accuracy: 1.0 Test accuracy: 0.9799\n",
            "9 Train accuracy: 0.96666664 Test accuracy: 0.9765\n"
          ],
          "name": "stdout"
        }
      ]
    },
    {
      "metadata": {
        "id": "HIOwNw7XtKi3",
        "colab_type": "text"
      },
      "cell_type": "markdown",
      "source": [
        "##Training to Predict Time Series\n",
        "train an RNN to predict the next value in a generated time series."
      ]
    },
    {
      "metadata": {
        "id": "jdYbvhhVuc-d",
        "colab_type": "code",
        "colab": {}
      },
      "cell_type": "code",
      "source": [
        "t_min, t_max = 0, 30\n",
        "resolution = 0.1\n",
        "\n",
        "def time_series(t):\n",
        "  return t * np.sin(t) / 3 + 2 * np.sin(t*5)\n",
        "\n",
        "def next_batch(batch_size, n_steps):\n",
        "  t0 = np.random.rand(batch_size, 1) * (t_max - t_min - n_steps*resolution)\n",
        "  Ts = t0 + np.arange(0., n_steps+1) * resolution\n",
        "  ys = time_series(Ts)\n",
        "  return ys[:, :-1].reshape(-1, n_steps, 1), ys[:, 1:].reshape(-1, n_steps, 1)"
      ],
      "execution_count": 0,
      "outputs": []
    },
    {
      "metadata": {
        "id": "s52jWLfovDjN",
        "colab_type": "code",
        "colab": {
          "base_uri": "https://localhost:8080/",
          "height": 313
        },
        "outputId": "6167e2a4-07ec-461f-b73a-4acb1761c1a7"
      },
      "cell_type": "code",
      "source": [
        "t = np.linspace(t_min, t_max, int((t_max - t_min) / resolution))\n",
        "\n",
        "n_steps = 20\n",
        "t_instance = np.linspace(12.2, 12.2+resolution*(n_steps+1), n_steps+1)\n",
        "\n",
        "plt.figure(figsize=(11,4))\n",
        "plt.subplot(121)\n",
        "plt.title(\"A time series (generated)\", fontsize=14)\n",
        "plt.plot(t, time_series(t), label=r\"$t . \\sin(t) / 3 + 2 . \\sin(5t)$\")\n",
        "plt.plot(t_instance[:-1], time_series(t_instance[:-1]), \"b-\", linewidth=3, label=\"A training instance\")\n",
        "plt.legend(loc=\"lower left\", fontsize=14)\n",
        "plt.axis([0, 30, -17, 13])\n",
        "plt.xlabel(\"Time\")\n",
        "plt.ylabel(\"Value\")\n",
        "\n",
        "plt.subplot(122)\n",
        "plt.title(\"A training instance\", fontsize=14)\n",
        "plt.plot(t_instance[:-1], time_series(t_instance[:-1]), \"bo\", markersize=10, alpha=0.5, label=\"instance\")\n",
        "plt.plot(t_instance[1:], time_series(t_instance[1:]), \"r*\", markersize=10, alpha=0.5, label=\"target\")\n",
        "plt.legend(loc=\"upper left\")\n",
        "plt.xlabel(\"Time\")"
      ],
      "execution_count": 21,
      "outputs": [
        {
          "output_type": "execute_result",
          "data": {
            "text/plain": [
              "Text(0.5,0,'Time')"
            ]
          },
          "metadata": {
            "tags": []
          },
          "execution_count": 21
        },
        {
          "output_type": "display_data",
          "data": {
            "image/png": "[encoded data removed]",
            "text/plain": [
              "<matplotlib.figure.Figure at 0x7f0e76e420b8>"
            ]
          },
          "metadata": {
            "tags": []
          }
        }
      ]
    },
    {
      "metadata": {
        "id": "aoh83QoazHy4",
        "colab_type": "text"
      },
      "cell_type": "markdown",
      "source": [
        "Each training instance is a randomly\n",
        "selected sequence of 20 consecutive values from the time series, and the target\n",
        "sequence is the same as the input sequence, except it is shifted by one time step into\n",
        "the future"
      ]
    },
    {
      "metadata": {
        "id": "GW0NEXlCztAx",
        "colab_type": "code",
        "colab": {
          "base_uri": "https://localhost:8080/",
          "height": 357
        },
        "outputId": "d4188201-14e8-4c5a-f400-44c7d00f9556"
      },
      "cell_type": "code",
      "source": [
        "X_batch, y_batch = next_batch(1, n_steps)\n",
        "np.c_[X_batch[0], y_batch[0]]"
      ],
      "execution_count": 22,
      "outputs": [
        {
          "output_type": "execute_result",
          "data": {
            "text/plain": [
              "array([[ 1.38452097,  2.05081182],\n",
              "       [ 2.05081182,  2.29742291],\n",
              "       [ 2.29742291,  2.0465599 ],\n",
              "       [ 2.0465599 ,  1.34009916],\n",
              "       [ 1.34009916,  0.32948704],\n",
              "       [ 0.32948704, -0.76115235],\n",
              "       [-0.76115235, -1.68967022],\n",
              "       [-1.68967022, -2.25492776],\n",
              "       [-2.25492776, -2.34576159],\n",
              "       [-2.34576159, -1.96789418],\n",
              "       [-1.96789418, -1.24220428],\n",
              "       [-1.24220428, -0.37478448],\n",
              "       [-0.37478448,  0.39387907],\n",
              "       [ 0.39387907,  0.84815766],\n",
              "       [ 0.84815766,  0.85045064],\n",
              "       [ 0.85045064,  0.3752526 ],\n",
              "       [ 0.3752526 , -0.48422846],\n",
              "       [-0.48422846, -1.53852738],\n",
              "       [-1.53852738, -2.54795941],\n",
              "       [-2.54795941, -3.28097239]])"
            ]
          },
          "metadata": {
            "tags": []
          },
          "execution_count": 22
        }
      ]
    },
    {
      "metadata": {
        "id": "pcphvF1izK65",
        "colab_type": "text"
      },
      "cell_type": "markdown",
      "source": [
        "RNN contains 100 recurrent neurons and is unrolled over 20 time steps since each training instance will be 20 inputs long. Each input will contain only one feature (the value at that time). The targets are also sequences of 20 inputs, each containing a single value."
      ]
    },
    {
      "metadata": {
        "id": "XbSMFGSkzXP0",
        "colab_type": "code",
        "colab": {}
      },
      "cell_type": "code",
      "source": [
        "reset_graph()\n",
        "\n",
        "n_steps = 20\n",
        "n_inputs = 1\n",
        "n_neurons = 100\n",
        "n_outputs = 1\n",
        "\n",
        "X = tf.placeholder(tf.float32, [None, n_steps, n_inputs])\n",
        "y = tf.placeholder(tf.float32, [None, n_steps, n_outputs])\n",
        "\n",
        "cell = tf.contrib.rnn.BasicRNNCell(num_units=n_neurons, activation=tf.nn.relu)\n",
        "outputs, states = tf.nn.dynamic_rnn(cell, X, dtype=tf.float32)"
      ],
      "execution_count": 0,
      "outputs": []
    },
    {
      "metadata": {
        "id": "2U6SLoZoz5R_",
        "colab_type": "text"
      },
      "cell_type": "markdown",
      "source": [
        "###Using an OutputProjectionWrapper\n",
        "At each time step we now have an output vector of size 100. But what we actually want is a single output value at each time step. The simplest solution is to wrap the cell in an **OutputProjectionWrapper**."
      ]
    },
    {
      "metadata": {
        "id": "NhDpAvnQ0KSy",
        "colab_type": "code",
        "colab": {}
      },
      "cell_type": "code",
      "source": [
        "reset_graph()\n",
        "\n",
        "n_steps = 20\n",
        "n_inputs = 1\n",
        "n_neurons = 100\n",
        "n_outputs = 1\n",
        "\n",
        "X = tf.placeholder(tf.float32, [None, n_steps, n_inputs])\n",
        "y = tf.placeholder(tf.float32, [None, n_steps, n_outputs])"
      ],
      "execution_count": 0,
      "outputs": []
    },
    {
      "metadata": {
        "id": "9Xui_ANA0KsZ",
        "colab_type": "code",
        "colab": {}
      },
      "cell_type": "code",
      "source": [
        "cell = tf.contrib.rnn.OutputProjectionWrapper(tf.contrib.rnn.BasicRNNCell(num_units=n_neurons, activation=tf.nn.relu),\n",
        "                                             output_size=n_outputs)"
      ],
      "execution_count": 0,
      "outputs": []
    },
    {
      "metadata": {
        "id": "zqpgUqt10Y8g",
        "colab_type": "code",
        "colab": {}
      },
      "cell_type": "code",
      "source": [
        "outputs, states = tf.nn.dynamic_rnn(cell, X, dtype=tf.float32)"
      ],
      "execution_count": 0,
      "outputs": []
    },
    {
      "metadata": {
        "id": "FBGwOwvy0c2w",
        "colab_type": "code",
        "colab": {}
      },
      "cell_type": "code",
      "source": [
        "learning_rate = 0.001\n",
        "\n",
        "loss = tf.reduce_mean(tf.square(outputs - y)) # MSE\n",
        "optimizer = tf.train.AdamOptimizer(learning_rate=learning_rate)\n",
        "training_op = optimizer.minimize(loss)\n",
        "\n",
        "init = tf.global_variables_initializer()\n",
        "saver = tf.train.Saver()"
      ],
      "execution_count": 0,
      "outputs": []
    },
    {
      "metadata": {
        "id": "P5PvEsIc0hgg",
        "colab_type": "code",
        "colab": {
          "base_uri": "https://localhost:8080/",
          "height": 272
        },
        "outputId": "626a71b9-1c10-4456-9ec7-10e8e68dabb0"
      },
      "cell_type": "code",
      "source": [
        "n_iterations = 1500\n",
        "batch_size = 50\n",
        "\n",
        "with tf.Session() as sess:\n",
        "  init.run()\n",
        "  for iteration in range(n_iterations):\n",
        "    X_batch, y_batch = next_batch(batch_size, n_steps)\n",
        "    sess.run(training_op, feed_dict={X: X_batch, y: y_batch})\n",
        "    if iteration % 100 == 0:\n",
        "      mse = loss.eval(feed_dict={X: X_batch, y: y_batch})\n",
        "      print(iteration, '\\tMSE:', mse)\n",
        "  \n",
        "  saver.save(sess, './my_time_series_model')"
      ],
      "execution_count": 33,
      "outputs": [
        {
          "output_type": "stream",
          "text": [
            "0 \tMSE: 11.967254\n",
            "100 \tMSE: 0.52263814\n",
            "200 \tMSE: 0.1504189\n",
            "300 \tMSE: 0.073602825\n",
            "400 \tMSE: 0.061815273\n",
            "500 \tMSE: 0.058881626\n",
            "600 \tMSE: 0.05312271\n",
            "700 \tMSE: 0.048359204\n",
            "800 \tMSE: 0.04979287\n",
            "900 \tMSE: 0.047359522\n",
            "1000 \tMSE: 0.04744968\n",
            "1100 \tMSE: 0.04833125\n",
            "1200 \tMSE: 0.042004373\n",
            "1300 \tMSE: 0.04930782\n",
            "1400 \tMSE: 0.04192228\n"
          ],
          "name": "stdout"
        }
      ]
    },
    {
      "metadata": {
        "id": "ExQMwhmP1dlW",
        "colab_type": "code",
        "colab": {
          "base_uri": "https://localhost:8080/",
          "height": 34
        },
        "outputId": "135c5324-37b8-44a1-f196-7be443c330f5"
      },
      "cell_type": "code",
      "source": [
        "with tf.Session() as sess:\n",
        "    saver.restore(sess, \"./my_time_series_model\")\n",
        "\n",
        "    X_new = time_series(np.array(t_instance[:-1].reshape(-1, n_steps, n_inputs)))\n",
        "    y_pred = sess.run(outputs, feed_dict={X: X_new})"
      ],
      "execution_count": 34,
      "outputs": [
        {
          "output_type": "stream",
          "text": [
            "INFO:tensorflow:Restoring parameters from ./my_time_series_model\n"
          ],
          "name": "stdout"
        }
      ]
    },
    {
      "metadata": {
        "id": "v-RYoMg81gdA",
        "colab_type": "code",
        "colab": {
          "base_uri": "https://localhost:8080/",
          "height": 357
        },
        "outputId": "0dc02ca6-1cd2-4a62-8c7d-47014ed08027"
      },
      "cell_type": "code",
      "source": [
        "y_pred"
      ],
      "execution_count": 35,
      "outputs": [
        {
          "output_type": "execute_result",
          "data": {
            "text/plain": [
              "array([[[-3.4087536],\n",
              "        [-2.4560106],\n",
              "        [-1.1175244],\n",
              "        [ 0.7889128],\n",
              "        [ 2.1429348],\n",
              "        [ 3.1170843],\n",
              "        [ 3.464506 ],\n",
              "        [ 3.2982976],\n",
              "        [ 2.8940275],\n",
              "        [ 2.237141 ],\n",
              "        [ 1.6398021],\n",
              "        [ 1.5256968],\n",
              "        [ 1.9079566],\n",
              "        [ 2.7027197],\n",
              "        [ 3.8846385],\n",
              "        [ 5.1268897],\n",
              "        [ 6.1268754],\n",
              "        [ 6.6273956],\n",
              "        [ 6.605406 ],\n",
              "        [ 6.057085 ]]], dtype=float32)"
            ]
          },
          "metadata": {
            "tags": []
          },
          "execution_count": 35
        }
      ]
    },
    {
      "metadata": {
        "id": "70mKSj_h1mGi",
        "colab_type": "code",
        "colab": {
          "base_uri": "https://localhost:8080/",
          "height": 531
        },
        "outputId": "0109b0c0-4455-4047-a1ad-11a3a95be955"
      },
      "cell_type": "code",
      "source": [
        "plt.figure(figsize=(12, 8))\n",
        "plt.title(\"Testing the model\", fontsize=14)\n",
        "plt.plot(t_instance[:-1], time_series(t_instance[:-1]), \"bo\", markersize=10, label=\"instance\")\n",
        "plt.plot(t_instance[1:], time_series(t_instance[1:]), \"y*\", markersize=10, label=\"target\")\n",
        "plt.plot(t_instance[1:], y_pred[0,:,0], \"r.\", markersize=10, label=\"prediction\")\n",
        "plt.legend(loc=\"upper left\", fontsize=15)\n",
        "plt.xlabel(\"Time\")"
      ],
      "execution_count": 41,
      "outputs": [
        {
          "output_type": "execute_result",
          "data": {
            "text/plain": [
              "Text(0.5,0,'Time')"
            ]
          },
          "metadata": {
            "tags": []
          },
          "execution_count": 41
        },
        {
          "output_type": "display_data",
          "data": {
            "image/png": "[encoded data removed]",
            "text/plain": [
              "<matplotlib.figure.Figure at 0x7f0e7a917940>"
            ]
          },
          "metadata": {
            "tags": []
          }
        }
      ]
    },
    {
      "metadata": {
        "id": "c2M7gAPH2CEC",
        "colab_type": "text"
      },
      "cell_type": "markdown",
      "source": [
        "###Without using an OutputProjectionWrapper\n",
        "There is a trickier but *more efficient* solution: you can reshape the RNN outputs from **[batch_size, n_steps, n_neurons]** to **[batch_size * n_steps, n_neurons]**, then apply a *single fully connected layer* with the appropriate output size (in our case just 1), which will result in an output tensor of shape **[batch_size * n_steps, n_outputs]**, and then reshape this tensor to **[batch_size, n_steps, n_outputs]**."
      ]
    },
    {
      "metadata": {
        "id": "BInD1fCW2qyD",
        "colab_type": "code",
        "colab": {}
      },
      "cell_type": "code",
      "source": [
        "reset_graph()\n",
        "\n",
        "n_steps = 20\n",
        "n_inputs = 1\n",
        "n_neurons = 100\n",
        "\n",
        "X = tf.placeholder(tf.float32, [None, n_steps, n_inputs])\n",
        "y = tf.placeholder(tf.float32, [None, n_steps, n_outputs])"
      ],
      "execution_count": 0,
      "outputs": []
    },
    {
      "metadata": {
        "id": "p_3JxfWa2vJu",
        "colab_type": "code",
        "colab": {}
      },
      "cell_type": "code",
      "source": [
        "cell = tf.contrib.rnn.BasicRNNCell(num_units=n_neurons, activation=tf.nn.relu)\n",
        "rnn_outputs, states = tf.nn.dynamic_rnn(cell, X, dtype=tf.float32)"
      ],
      "execution_count": 0,
      "outputs": []
    },
    {
      "metadata": {
        "id": "Q9x9OWvE25cu",
        "colab_type": "code",
        "colab": {}
      },
      "cell_type": "code",
      "source": [
        "n_outputs = 1\n",
        "learning_rate = 0.001"
      ],
      "execution_count": 0,
      "outputs": []
    },
    {
      "metadata": {
        "id": "pTFazgzR270O",
        "colab_type": "code",
        "colab": {}
      },
      "cell_type": "code",
      "source": [
        "stacked_rnn_outputs = tf.reshape(rnn_outputs, [-1, n_neurons])\n",
        "stacked_outputs = tf.layers.dense(stacked_rnn_outputs, n_outputs)\n",
        "outputs = tf.reshape(stacked_outputs, [-1, n_steps, n_outputs])"
      ],
      "execution_count": 0,
      "outputs": []
    },
    {
      "metadata": {
        "id": "pSNdA0Qo3Ktm",
        "colab_type": "code",
        "colab": {}
      },
      "cell_type": "code",
      "source": [
        "loss = tf.reduce_mean(tf.square(outputs - y))\n",
        "optimizer = tf.train.AdamOptimizer(learning_rate=learning_rate)\n",
        "training_op = optimizer.minimize(loss)\n",
        "\n",
        "init = tf.global_variables_initializer()\n",
        "saver = tf.train.Saver()"
      ],
      "execution_count": 0,
      "outputs": []
    },
    {
      "metadata": {
        "id": "PUtKFIhO3Mpm",
        "colab_type": "code",
        "colab": {
          "base_uri": "https://localhost:8080/",
          "height": 272
        },
        "outputId": "12bf4a32-0fd5-4db7-808d-c2b78bc1a09f"
      },
      "cell_type": "code",
      "source": [
        "n_iterations = 1500\n",
        "batch_size = 50\n",
        "\n",
        "with tf.Session() as sess:\n",
        "    init.run()\n",
        "    for iteration in range(n_iterations):\n",
        "        X_batch, y_batch = next_batch(batch_size, n_steps)\n",
        "        sess.run(training_op, feed_dict={X: X_batch, y: y_batch})\n",
        "        if iteration % 100 == 0:\n",
        "            mse = loss.eval(feed_dict={X: X_batch, y: y_batch})\n",
        "            print(iteration, \"\\tMSE:\", mse)\n",
        "    \n",
        "    X_new = time_series(np.array(t_instance[:-1].reshape(-1, n_steps, n_inputs)))\n",
        "    y_pred = sess.run(outputs, feed_dict={X: X_new})\n",
        "    \n",
        "    saver.save(sess, \"./my_time_series_model/\")"
      ],
      "execution_count": 73,
      "outputs": [
        {
          "output_type": "stream",
          "text": [
            "0 \tMSE: 13.907028\n",
            "100 \tMSE: 0.50597644\n",
            "200 \tMSE: 0.1971952\n",
            "300 \tMSE: 0.10069896\n",
            "400 \tMSE: 0.066519484\n",
            "500 \tMSE: 0.062382575\n",
            "600 \tMSE: 0.055503424\n",
            "700 \tMSE: 0.050072886\n",
            "800 \tMSE: 0.0507705\n",
            "900 \tMSE: 0.04879052\n",
            "1000 \tMSE: 0.0486596\n",
            "1100 \tMSE: 0.050334293\n",
            "1200 \tMSE: 0.04186243\n",
            "1300 \tMSE: 0.04934902\n",
            "1400 \tMSE: 0.043026894\n"
          ],
          "name": "stdout"
        }
      ]
    },
    {
      "metadata": {
        "id": "asSNMSiT3aj3",
        "colab_type": "code",
        "colab": {
          "base_uri": "https://localhost:8080/",
          "height": 357
        },
        "outputId": "8da531ff-49a1-422b-e5d4-9d7294b9b9d0"
      },
      "cell_type": "code",
      "source": [
        "y_pred"
      ],
      "execution_count": 74,
      "outputs": [
        {
          "output_type": "execute_result",
          "data": {
            "text/plain": [
              "array([[[-3.4321263 ],\n",
              "        [-2.466367  ],\n",
              "        [-1.1100639 ],\n",
              "        [ 0.64086646],\n",
              "        [ 2.1177657 ],\n",
              "        [ 3.0619044 ],\n",
              "        [ 3.5102527 ],\n",
              "        [ 3.3746624 ],\n",
              "        [ 2.8048453 ],\n",
              "        [ 2.1530163 ],\n",
              "        [ 1.6899419 ],\n",
              "        [ 1.5366589 ],\n",
              "        [ 1.8864701 ],\n",
              "        [ 2.7230186 ],\n",
              "        [ 3.8647237 ],\n",
              "        [ 5.1048574 ],\n",
              "        [ 6.0946007 ],\n",
              "        [ 6.6182065 ],\n",
              "        [ 6.584768  ],\n",
              "        [ 6.006245  ]]], dtype=float32)"
            ]
          },
          "metadata": {
            "tags": []
          },
          "execution_count": 74
        }
      ]
    },
    {
      "metadata": {
        "id": "Bbw1fCZ93bxW",
        "colab_type": "code",
        "colab": {
          "base_uri": "https://localhost:8080/",
          "height": 531
        },
        "outputId": "a073e1d3-c292-4ae7-e385-3a250339b942"
      },
      "cell_type": "code",
      "source": [
        "plt.figure(figsize=(12, 8))\n",
        "plt.title(\"Testing the model\", fontsize=14)\n",
        "plt.plot(t_instance[:-1], time_series(t_instance[:-1]), \"bo\", markersize=10, label=\"instance\")\n",
        "plt.plot(t_instance[1:], time_series(t_instance[1:]), \"g*\", markersize=10, label=\"target\")\n",
        "plt.plot(t_instance[1:], y_pred[0,:,0], \"r.\", markersize=10, label=\"prediction\")\n",
        "plt.legend(loc=\"upper left\")\n",
        "plt.xlabel(\"Time\")"
      ],
      "execution_count": 75,
      "outputs": [
        {
          "output_type": "execute_result",
          "data": {
            "text/plain": [
              "Text(0.5,0,'Time')"
            ]
          },
          "metadata": {
            "tags": []
          },
          "execution_count": 75
        },
        {
          "output_type": "display_data",
          "data": {
            "image/png": "[encoded data removed]",
            "text/plain": [
              "<matplotlib.figure.Figure at 0x7f0e76c7b2e8>"
            ]
          },
          "metadata": {
            "tags": []
          }
        }
      ]
    },
    {
      "metadata": {
        "id": "bTphNh-43pOx",
        "colab_type": "text"
      },
      "cell_type": "markdown",
      "source": [
        "##Creative RNN\n",
        "Now that we have a model that can predict the future, we can use it to generate some creative sequences.\n",
        "\n",
        "provide it a seed sequence containing **n_steps** values (e.g., full of zeros), use the model to predict the next value, append this predicted value to the sequence, feed the last **n_steps** values to the model to predict the next value, and so on."
      ]
    },
    {
      "metadata": {
        "id": "3RHmQrJ-4Grl",
        "colab_type": "code",
        "colab": {
          "base_uri": "https://localhost:8080/",
          "height": 34
        },
        "outputId": "24a15065-8f39-4e6a-8073-0020f50bae57"
      },
      "cell_type": "code",
      "source": [
        "with tf.Session() as sess:\n",
        "  saver.restore(sess, './my_time_series_model/')\n",
        "  \n",
        "  sequence = [0.] * n_steps\n",
        "  for iteration in range(300):\n",
        "    X_batch = np.array(sequence[-n_steps:]).reshape(1, n_steps, 1)\n",
        "    y_pred = sess.run(outputs, feed_dict={X: X_batch})\n",
        "    sequence.append(y_pred[0, -1, 0])\n",
        "    # output tensor shape=[batch_size, n_steps, n_outputs]"
      ],
      "execution_count": 76,
      "outputs": [
        {
          "output_type": "stream",
          "text": [
            "INFO:tensorflow:Restoring parameters from ./my_time_series_model/\n"
          ],
          "name": "stdout"
        }
      ]
    },
    {
      "metadata": {
        "id": "NS4N5Kaf4xyk",
        "colab_type": "code",
        "colab": {
          "base_uri": "https://localhost:8080/",
          "height": 296
        },
        "outputId": "91e4ee68-73cf-4f23-e967-15095956e460"
      },
      "cell_type": "code",
      "source": [
        "plt.figure(figsize=(8,4))\n",
        "plt.plot(np.arange(len(sequence)), sequence, \"b-\")\n",
        "plt.plot(t[:n_steps], sequence[:n_steps], \"b-\", linewidth=3)\n",
        "plt.xlabel(\"Time\")\n",
        "plt.ylabel(\"Value\")"
      ],
      "execution_count": 77,
      "outputs": [
        {
          "output_type": "execute_result",
          "data": {
            "text/plain": [
              "Text(0,0.5,'Value')"
            ]
          },
          "metadata": {
            "tags": []
          },
          "execution_count": 77
        },
        {
          "output_type": "display_data",
          "data": {
            "image/png": "[encoded data removed]",
            "text/plain": [
              "<matplotlib.figure.Figure at 0x7f0e76f601d0>"
            ]
          },
          "metadata": {
            "tags": []
          }
        }
      ]
    },
    {
      "metadata": {
        "id": "24RO7qZP5YXx",
        "colab_type": "code",
        "colab": {
          "base_uri": "https://localhost:8080/",
          "height": 34
        },
        "outputId": "8e2aa7b6-260b-4dd1-cf43-11bb40a8cabb"
      },
      "cell_type": "code",
      "source": [
        "with tf.Session() as sess:\n",
        "    saver.restore(sess, \"./my_time_series_model\")\n",
        "\n",
        "    sequence1 = [0. for i in range(n_steps)]\n",
        "    for iteration in range(len(t) - n_steps):\n",
        "        X_batch = np.array(sequence1[-n_steps:]).reshape(1, n_steps, 1)\n",
        "        y_pred = sess.run(outputs, feed_dict={X: X_batch})\n",
        "        sequence1.append(y_pred[0, -1, 0])\n",
        "\n",
        "    sequence2 = [time_series(i * resolution + t_min + (t_max-t_min/3)) for i in range(n_steps)]\n",
        "    for iteration in range(len(t) - n_steps):\n",
        "        X_batch = np.array(sequence2[-n_steps:]).reshape(1, n_steps, 1)\n",
        "        y_pred = sess.run(outputs, feed_dict={X: X_batch})\n",
        "        sequence2.append(y_pred[0, -1, 0])"
      ],
      "execution_count": 79,
      "outputs": [
        {
          "output_type": "stream",
          "text": [
            "INFO:tensorflow:Restoring parameters from ./my_time_series_model\n"
          ],
          "name": "stdout"
        }
      ]
    },
    {
      "metadata": {
        "id": "Q2ytfSdH5Y98",
        "colab_type": "code",
        "colab": {
          "base_uri": "https://localhost:8080/",
          "height": 296
        },
        "outputId": "24512197-8e4e-4c80-aa0b-504926e82879"
      },
      "cell_type": "code",
      "source": [
        "plt.figure(figsize=(11,4))\n",
        "plt.subplot(121)\n",
        "plt.plot(t, sequence1, \"b-\")\n",
        "plt.plot(t[:n_steps], sequence1[:n_steps], \"b-\", linewidth=3)\n",
        "plt.xlabel(\"Time\")\n",
        "plt.ylabel(\"Value\")\n",
        "\n",
        "plt.subplot(122)\n",
        "plt.plot(t, sequence2, \"b-\")\n",
        "plt.plot(t[:n_steps], sequence2[:n_steps], \"b-\", linewidth=3)\n",
        "plt.xlabel(\"Time\")"
      ],
      "execution_count": 80,
      "outputs": [
        {
          "output_type": "execute_result",
          "data": {
            "text/plain": [
              "Text(0.5,0,'Time')"
            ]
          },
          "metadata": {
            "tags": []
          },
          "execution_count": 80
        },
        {
          "output_type": "display_data",
          "data": {
            "image/png": "[encoded data removed]",
            "text/plain": [
              "<matplotlib.figure.Figure at 0x7f0e76bf0f98>"
            ]
          },
          "metadata": {
            "tags": []
          }
        }
      ]
    },
    {
      "metadata": {
        "id": "nG1ZVleR5qVP",
        "colab_type": "text"
      },
      "cell_type": "markdown",
      "source": [
        "#Deep RNNs\n",
        "stack multiple layers of cells...\n",
        "\n",
        "To implement a deep RNN in TensorFlow, you can create several cells and stack them into a **MultiRNNCell**."
      ]
    },
    {
      "metadata": {
        "id": "P_J-iUClbZSv",
        "colab_type": "code",
        "colab": {}
      },
      "cell_type": "code",
      "source": [
        "reset_graph()\n",
        "\n",
        "n_inputs = 2\n",
        "n_steps = 5\n",
        "\n",
        "X = tf.placeholder(tf.float32, [None, n_steps, n_inputs])"
      ],
      "execution_count": 0,
      "outputs": []
    },
    {
      "metadata": {
        "id": "LdAoeK6ubiLO",
        "colab_type": "code",
        "colab": {}
      },
      "cell_type": "code",
      "source": [
        "n_neurons = 100\n",
        "n_layers = 3\n",
        "\n",
        "layers = [tf.contrib.rnn.BasicRNNCell(num_units=n_neurons)\n",
        "          for layer in range(n_layers)]\n",
        "multi_layer_cell = tf.contrib.rnn.MultiRNNCell(layers)\n",
        "outputs, states = tf.nn.dynamic_rnn(multi_layer_cell, X, dtype=tf.float32)\n",
        "\n",
        "init = tf.global_variables_initializer()"
      ],
      "execution_count": 0,
      "outputs": []
    },
    {
      "metadata": {
        "id": "VQiemp2vb6EX",
        "colab_type": "code",
        "colab": {}
      },
      "cell_type": "code",
      "source": [
        "X_batch = np.random.rand(2, n_steps, n_inputs)"
      ],
      "execution_count": 0,
      "outputs": []
    },
    {
      "metadata": {
        "id": "6q1_7otvcB0-",
        "colab_type": "code",
        "colab": {}
      },
      "cell_type": "code",
      "source": [
        "with tf.Session() as sess:\n",
        "  init.run()\n",
        "  outputs_val, state_val = sess.run([outputs, states], feed_dict={X: X_batch})"
      ],
      "execution_count": 0,
      "outputs": []
    },
    {
      "metadata": {
        "id": "hu3qlde6cL3u",
        "colab_type": "code",
        "colab": {
          "base_uri": "https://localhost:8080/",
          "height": 34
        },
        "outputId": "0851cee6-24b1-4857-e826-305f227d5d63"
      },
      "cell_type": "code",
      "source": [
        "outputs_val.shape"
      ],
      "execution_count": 86,
      "outputs": [
        {
          "output_type": "execute_result",
          "data": {
            "text/plain": [
              "(2, 5, 100)"
            ]
          },
          "metadata": {
            "tags": []
          },
          "execution_count": 86
        }
      ]
    },
    {
      "metadata": {
        "id": "_Bk0E8tpcWTN",
        "colab_type": "text"
      },
      "cell_type": "markdown",
      "source": [
        "The **states** variable is a tuple containing one tensor per layer, each representing the final state of that layer’s cell (with shape **[batch_size, n_neurons])**. \n",
        "\n",
        "If you set **state_is_tuple=False** when creating the **MultiRNNCell**, then states becomes a single tensor containing the states from every layer, concatenated along the column axis (i.e., its shape is **[batch_size, n_layers * n_neurons])**."
      ]
    },
    {
      "metadata": {
        "id": "CnS2mITgcptQ",
        "colab_type": "text"
      },
      "cell_type": "markdown",
      "source": [
        "##Distributing a Deep RNN across Mulitple GPUs\n",
        "Do **NOT** ever try the following,"
      ]
    },
    {
      "metadata": {
        "id": "lBLwmdeRdFq1",
        "colab_type": "code",
        "colab": {}
      },
      "cell_type": "code",
      "source": [
        "with tf.device(\"/gpu:0\"):  # BAD! This is ignored.\n",
        "    layer1 = tf.contrib.rnn.BasicRNNCell(num_units=n_neurons)\n",
        "\n",
        "with tf.device(\"/gpu:1\"):  # BAD! Ignored again.\n",
        "    layer2 = tf.contrib.rnn.BasicRNNCell(num_units=n_neurons)"
      ],
      "execution_count": 0,
      "outputs": []
    },
    {
      "metadata": {
        "id": "zdOHcO67dJAQ",
        "colab_type": "text"
      },
      "cell_type": "markdown",
      "source": [
        "The correct way to distribute RNN across multiple GPUs is to use a **DeviceCellWrapper**,"
      ]
    },
    {
      "metadata": {
        "id": "m7gAvZHadTj1",
        "colab_type": "code",
        "colab": {}
      },
      "cell_type": "code",
      "source": [
        "class DeviceCellWrapper(tf.contrib.rnn.RNNCell):\n",
        "  def __init__(self, device, cell):\n",
        "    self._device = device\n",
        "    self._cell = cell\n",
        "    \n",
        "  @property\n",
        "  def state_size(self):\n",
        "    return self._cell.state_size\n",
        "  \n",
        "  @property\n",
        "  def output_size(self):\n",
        "    return self._cell.output_size\n",
        "  \n",
        "  def __call__(self, inputs, state, scope=None):\n",
        "    with tf.device(self._device):\n",
        "      return self._cell(inputs, state, scope)"
      ],
      "execution_count": 0,
      "outputs": []
    },
    {
      "metadata": {
        "id": "ROfY2e_seAah",
        "colab_type": "text"
      },
      "cell_type": "markdown",
      "source": [
        "This wrapper simply proxies every method call to another cell, except it wraps the **\\__call__()** function within a device block."
      ]
    },
    {
      "metadata": {
        "id": "wI2Lmxoed4Jb",
        "colab_type": "code",
        "colab": {}
      },
      "cell_type": "code",
      "source": [
        "reset_graph()\n",
        "\n",
        "n_inputs = 5\n",
        "n_steps = 20\n",
        "n_neurons = 100\n",
        "\n",
        "X = tf.placeholder(tf.float32, shape=[None, n_steps, n_inputs])"
      ],
      "execution_count": 0,
      "outputs": []
    },
    {
      "metadata": {
        "id": "mj1EZi8XeMOs",
        "colab_type": "code",
        "colab": {}
      },
      "cell_type": "code",
      "source": [
        "devices = [\"/cpu:0\", \"/cpu:0\", \"/cpu:0\"] # replace with [\"/gpu:0\", \"/gpu:1\", \"/gpu:2\"] if you have 3 GPUs\n",
        "cells = [DeviceCellWrapper(dev,tf.contrib.rnn.BasicRNNCell(num_units=n_neurons))\n",
        "         for dev in devices]\n",
        "multi_layer_cell = tf.contrib.rnn.MultiRNNCell(cells)\n",
        "outputs, states = tf.nn.dynamic_rnn(multi_layer_cell, X, dtype=tf.float32)"
      ],
      "execution_count": 0,
      "outputs": []
    },
    {
      "metadata": {
        "id": "m7Ckk9HeeTfk",
        "colab_type": "text"
      },
      "cell_type": "markdown",
      "source": [
        "Alternatively, since TensorFlow 1.1, you can use the **tf.contrib.rnn.DeviceWrapper** class (alias **tf.nn.rnn_cell.DeviceWrapper** since TF 1.2)."
      ]
    },
    {
      "metadata": {
        "id": "KK8SoeWWeX4K",
        "colab_type": "code",
        "colab": {
          "base_uri": "https://localhost:8080/",
          "height": 476
        },
        "outputId": "4dc0a9ad-94e8-406c-b91a-0ef3c2533d7c"
      },
      "cell_type": "code",
      "source": [
        "init = tf.global_variables_initializer()\n",
        "\n",
        "with tf.Session() as sess:\n",
        "    init.run()\n",
        "    print(sess.run(outputs, feed_dict={X: np.random.rand(2, n_steps, n_inputs)}))"
      ],
      "execution_count": 93,
      "outputs": [
        {
          "output_type": "stream",
          "text": [
            "[[[-3.2902010e-02  1.1701923e-01 -4.5899246e-02 ...  3.8447704e-02\n",
            "   -5.2490000e-02  5.8043696e-02]\n",
            "  [ 3.5428837e-02 -7.4261218e-02 -6.4237513e-02 ... -2.4575704e-01\n",
            "   -1.7762682e-01 -3.2653331e-03]\n",
            "  [ 2.5972652e-01  1.4460522e-01  3.2931221e-01 ...  3.3882204e-01\n",
            "    5.9885412e-02 -8.3144858e-02]\n",
            "  ...\n",
            "  [ 1.1804418e-01 -2.4166366e-01 -8.2779825e-01 ... -1.8578218e-01\n",
            "    1.8968213e-01 -1.3526212e-01]\n",
            "  [ 2.8783119e-01  3.9295399e-01 -3.1523648e-01 ... -7.8560874e-02\n",
            "    4.3272454e-01 -6.6182777e-02]\n",
            "  [ 7.4978012e-01  6.1105335e-01 -3.0168572e-01 ...  1.9565013e-01\n",
            "   -1.6245714e-01 -5.2396566e-02]]\n",
            "\n",
            " [[-6.6802777e-02  7.3557667e-02 -2.9027537e-02 ... -7.7996828e-02\n",
            "   -3.6577322e-02 -4.6675194e-02]\n",
            "  [ 1.7154643e-01  4.2841923e-03  2.1881519e-03 ...  3.6853828e-02\n",
            "   -8.1324145e-02  9.0100162e-02]\n",
            "  [ 3.4563683e-02 -9.5752515e-02  1.5945031e-01 ...  1.6302212e-01\n",
            "   -6.8304457e-02  1.0799057e-01]\n",
            "  ...\n",
            "  [ 1.9641407e-01 -2.1523033e-01 -5.8253795e-01 ...  3.0253306e-01\n",
            "    5.4786235e-01 -1.0628744e-02]\n",
            "  [ 2.0120700e-01  2.5265798e-02 -5.0293636e-02 ...  9.5611304e-02\n",
            "   -2.0376709e-01 -1.5269578e-01]\n",
            "  [ 4.7775805e-01  1.6660532e-01 -1.5640169e-01 ...  1.6708057e-01\n",
            "   -2.0323412e-01  7.6560260e-05]]]\n"
          ],
          "name": "stdout"
        }
      ]
    },
    {
      "metadata": {
        "id": "JeW8eFSgesq8",
        "colab_type": "text"
      },
      "cell_type": "markdown",
      "source": [
        "##Applying Dropout\n",
        "If you build a very deep RNN, it may end up overfitting the training set. To prevent that, a common technique is to apply dropout.\n",
        "\n",
        "recall that dropout should be applied only during training"
      ]
    },
    {
      "metadata": {
        "id": "Gc4tsy6IfHR7",
        "colab_type": "code",
        "colab": {}
      },
      "cell_type": "code",
      "source": [
        "reset_graph()\n",
        "\n",
        "n_inputs = 1\n",
        "n_neurons = 100\n",
        "n_layers = 3\n",
        "n_steps = 20\n",
        "n_outputs = 1\n",
        "\n",
        "X = tf.placeholder(tf.float32, [None, n_steps, n_inputs])\n",
        "y = tf.placeholder(tf.float32, [None, n_steps, n_outputs])"
      ],
      "execution_count": 0,
      "outputs": []
    },
    {
      "metadata": {
        "id": "mtya4W3kfRtR",
        "colab_type": "text"
      },
      "cell_type": "markdown",
      "source": [
        "Note: the **input_keep_prob** parameter can be a placeholder, making it possible to set it to any value you want during training, and to 1.0 during testing (effectively turning dropout off)"
      ]
    },
    {
      "metadata": {
        "id": "syK81Ts2fhJV",
        "colab_type": "code",
        "colab": {}
      },
      "cell_type": "code",
      "source": [
        "keep_prob = tf.placeholder_with_default(1.0, shape=())\n",
        "cells = [tf.contrib.rnn.BasicRNNCell(num_units=n_neurons)\n",
        "         for layer in range(n_layers)]\n",
        "cells_drop = [tf.contrib.rnn.DropoutWrapper(cell, input_keep_prob=keep_prob)\n",
        "              for cell in cells]\n",
        "multi_layer_cell = tf.contrib.rnn.MultiRNNCell(cells_drop)\n",
        "rnn_outputs, states = tf.nn.dynamic_rnn(multi_layer_cell, X, dtype=tf.float32)"
      ],
      "execution_count": 0,
      "outputs": []
    },
    {
      "metadata": {
        "id": "ZfOkZzIffsFT",
        "colab_type": "code",
        "colab": {}
      },
      "cell_type": "code",
      "source": [
        "learning_rate = 0.01\n",
        "\n",
        "stacked_rnn_outputs = tf.reshape(rnn_outputs, [-1, n_neurons])\n",
        "stacked_outputs = tf.layers.dense(stacked_rnn_outputs, n_outputs)\n",
        "outputs = tf.reshape(stacked_outputs, [-1, n_steps, n_outputs])\n",
        "\n",
        "loss = tf.reduce_mean(tf.square(outputs - y))\n",
        "optimizer = tf.train.AdamOptimizer(learning_rate=learning_rate)\n",
        "training_op = optimizer.minimize(loss)\n",
        "\n",
        "init = tf.global_variables_initializer()\n",
        "saver = tf.train.Saver()"
      ],
      "execution_count": 0,
      "outputs": []
    },
    {
      "metadata": {
        "id": "B1v8qdcNf0HG",
        "colab_type": "code",
        "colab": {
          "base_uri": "https://localhost:8080/",
          "height": 272
        },
        "outputId": "b61b02db-e9fb-4318-ec53-029896299eaa"
      },
      "cell_type": "code",
      "source": [
        "n_iterations = 1500\n",
        "batch_size = 50\n",
        "train_keep_prob = 0.5\n",
        "\n",
        "with tf.Session() as sess:\n",
        "    init.run()\n",
        "    for iteration in range(n_iterations):\n",
        "        X_batch, y_batch = next_batch(batch_size, n_steps)\n",
        "        _, mse = sess.run([training_op, loss],\n",
        "                          feed_dict={X: X_batch, y: y_batch,\n",
        "                                     keep_prob: train_keep_prob})\n",
        "        if iteration % 100 == 0:\n",
        "            print(iteration, \"Training MSE:\", mse)\n",
        "    \n",
        "    saver.save(sess, \"./my_dropout_time_series_model\")"
      ],
      "execution_count": 98,
      "outputs": [
        {
          "output_type": "stream",
          "text": [
            "0 Training MSE: 16.386942\n",
            "100 Training MSE: 4.216745\n",
            "200 Training MSE: 3.7074125\n",
            "300 Training MSE: 4.000473\n",
            "400 Training MSE: 2.5830722\n",
            "500 Training MSE: 3.438565\n",
            "600 Training MSE: 3.2967608\n",
            "700 Training MSE: 3.544313\n",
            "800 Training MSE: 4.1937485\n",
            "900 Training MSE: 3.8550723\n",
            "1000 Training MSE: 3.999891\n",
            "1100 Training MSE: 3.5475717\n",
            "1200 Training MSE: 3.168245\n",
            "1300 Training MSE: 2.8991961\n",
            "1400 Training MSE: 3.8252215\n"
          ],
          "name": "stdout"
        }
      ]
    },
    {
      "metadata": {
        "id": "yvG1VHxyf6yu",
        "colab_type": "code",
        "colab": {
          "base_uri": "https://localhost:8080/",
          "height": 34
        },
        "outputId": "1cc73122-1459-4e97-8fb3-6d771c33c9ac"
      },
      "cell_type": "code",
      "source": [
        "with tf.Session() as sess:\n",
        "    saver.restore(sess, \"./my_dropout_time_series_model\")\n",
        "\n",
        "    X_new = time_series(np.array(t_instance[:-1].reshape(-1, n_steps, n_inputs)))\n",
        "    y_pred = sess.run(outputs, feed_dict={X: X_new})"
      ],
      "execution_count": 99,
      "outputs": [
        {
          "output_type": "stream",
          "text": [
            "INFO:tensorflow:Restoring parameters from ./my_dropout_time_series_model\n"
          ],
          "name": "stdout"
        }
      ]
    },
    {
      "metadata": {
        "id": "ymNsUNJUf8RS",
        "colab_type": "code",
        "colab": {
          "base_uri": "https://localhost:8080/",
          "height": 313
        },
        "outputId": "d2566b86-e419-4617-e763-0523a02324ae"
      },
      "cell_type": "code",
      "source": [
        "plt.title(\"Testing the model\", fontsize=14)\n",
        "plt.plot(t_instance[:-1], time_series(t_instance[:-1]), \"bo\", markersize=10, label=\"instance\")\n",
        "plt.plot(t_instance[1:], time_series(t_instance[1:]), \"g*\", markersize=10, label=\"target\")\n",
        "plt.plot(t_instance[1:], y_pred[0,:,0], \"r.\", markersize=10, label=\"prediction\")\n",
        "plt.legend(loc=\"upper left\")\n",
        "plt.xlabel(\"Time\")"
      ],
      "execution_count": 100,
      "outputs": [
        {
          "output_type": "execute_result",
          "data": {
            "text/plain": [
              "Text(0.5,0,'Time')"
            ]
          },
          "metadata": {
            "tags": []
          },
          "execution_count": 100
        },
        {
          "output_type": "display_data",
          "data": {
            "image/png": "[encoded data removed]",
            "text/plain": [
              "<matplotlib.figure.Figure at 0x7f0e73417828>"
            ]
          },
          "metadata": {
            "tags": []
          }
        }
      ]
    },
    {
      "metadata": {
        "id": "72Gep-owgNWW",
        "colab_type": "text"
      },
      "cell_type": "markdown",
      "source": [
        "In this case, Dropout did not help..."
      ]
    },
    {
      "metadata": {
        "id": "posGGzzif6DA",
        "colab_type": "text"
      },
      "cell_type": "markdown",
      "source": [
        "#LSTM Cell\n",
        "The Long Short-Term Memory (LSTM) cell performs much better and converges faster, and detects long-term dependencies in the data.\n",
        "\n",
        "![](https://www.oreilly.com/library/view/neural-networks-and/9781492037354/assets/mlst_1413.png)\n",
        "\n",
        "The outer shell of the LSTM cell looks like a regular cell, except that its state is split in two vectors: $h_{(t)}$ and $c_{(t)}$ (\"h\" stands for \"hidden\" and \"c\" stands for \"cell\"). $h_{(t)}$ is for the short-term state and $c_{(t)}$ is for the long-term state.\n",
        "\n",
        "The current input vector $x_{(t)}$ and the previous short-term state $h_{(t–1)}$ are fed to four different fully connected layers.\n",
        "* Main layer, $g_{(t)}$, analyzes $x_{(t)}$ and $h_{(t-1)}$, and then its output is partially stored in the long-term state.\n",
        "* Three other layrs are *gate controllers*, using logistic activation whose outputs range from 0 to 1 performing element-wise multiplication. If outputs 0s, they close the gate, if outputs 1s, they open it.\n",
        " * Forget gate, (controlled by $f_{(t)}$), controls which parts of the long-term state should be erased.\n",
        " * Input gate, (controlled by $i_{(t)})$) controls which parts of $g_{(t)}$ should be added to the long-term state\n",
        " * Output gate, (controlled by $o_{(t)}$) controlls which parts of the long-term state should be read and output at this time step (both to $h_{(t)}$ and $y_{(t)}$)"
      ]
    },
    {
      "metadata": {
        "id": "uImjwI0hlP_a",
        "colab_type": "text"
      },
      "cell_type": "markdown",
      "source": [
        "*LSTM computations*\n",
        "\n",
        "$$i_{(t)}=\\sigma(W_{xi}^T \\cdot x_{(t)}+W_{hi}^T \\cdot h_{(t-1)}+b_i)$$\n",
        "\n",
        "$$f_{(t)}=\\sigma(W_{xf}^T \\cdot x_{(t)}+W_{hf}^T \\cdot h_{(t-1)}+b_f)$$\n",
        "\n",
        "$$o_{(t)}=\\sigma(W_{xo}^T \\cdot x_{(t)}+W_{ho}^T \\cdot h_{(t-1)}+b_o)$$\n",
        "\n",
        "$$g_{(t)}=\\tanh(W_{xi}^T \\cdot x_{(t)}+W_{hi}^T \\cdot h_{(t-1)}+b_g)$$\n",
        "\n",
        "$$c_{(t)}= f_{(t)} \\otimes c_{(t-1)}+i_{(t)} \\otimes g_{(t)}$$\n",
        "\n",
        "$$y_{(t)}=h_{(t)}=o_{(t)} \\otimes \\tanh(c_{(t)})$$\n",
        "\n",
        "* $W_{xi}, W_{xf}, W_{xo}, W_{xg}$ are the weight matrics of each of the four layers for their connection to the input vector $x_{(t)}$\n",
        "* $W_{hi}, W_{hf}, W_{ho}, W_{hg}$ are the weight matrics of each of the four layers for their connection to the previous short-term state $h_{(t-1)}$\n",
        "* $b_i, b_f. b_o, b_g$ are the bias terms for each of the four layers. Note that TensorFlow initializes $b_f$ to a vector full of 1s instead of 0s. This prevents forgetting everything at the beginning of training."
      ]
    },
    {
      "metadata": {
        "id": "Lj8382qGnlwX",
        "colab_type": "code",
        "colab": {
          "base_uri": "https://localhost:8080/",
          "height": 88
        },
        "outputId": "117ae041-e15a-4fae-be25-ab2b4d3586dd"
      },
      "cell_type": "code",
      "source": [
        "reset_graph()\n",
        "\n",
        "lstm_cell = tf.contrib.rnn.BasicLSTMCell(num_units=n_neurons)"
      ],
      "execution_count": 101,
      "outputs": [
        {
          "output_type": "stream",
          "text": [
            "WARNING:tensorflow:From <ipython-input-101-858b095e28bf>:3: BasicLSTMCell.__init__ (from tensorflow.python.ops.rnn_cell_impl) is deprecated and will be removed in a future version.\n",
            "Instructions for updating:\n",
            "This class is deprecated, please use tf.nn.rnn_cell.LSTMCell, which supports all the feature this cell currently has. Please replace the existing code with tf.nn.rnn_cell.LSTMCell(name='basic_lstm_cell').\n"
          ],
          "name": "stdout"
        }
      ]
    },
    {
      "metadata": {
        "id": "paOOQLQznt2E",
        "colab_type": "code",
        "colab": {}
      },
      "cell_type": "code",
      "source": [
        "n_steps = 28\n",
        "n_inputs = 28\n",
        "n_neurons = 150\n",
        "n_outputs = 10\n",
        "n_layers = 3\n",
        "\n",
        "learning_rate = 0.001\n",
        "\n",
        "X = tf.placeholder(tf.float32, [None, n_steps, n_inputs])\n",
        "y = tf.placeholder(tf.int32, [None])\n",
        "\n",
        "#stack lstm cells\n",
        "lstm_cells = [tf.contrib.rnn.BasicLSTMCell(num_units=n_neurons)\n",
        "              for layer in range(n_layers)]\n",
        "multi_cell = tf.contrib.rnn.MultiRNNCell(lstm_cells)\n",
        "outputs, states = tf.nn.dynamic_rnn(multi_cell, X, dtype=tf.float32)\n",
        "top_layer_h_state = states[-1][1]\n",
        "\n",
        "logits = tf.layers.dense(top_layer_h_state, n_outputs, name=\"softmax\")\n",
        "xentropy = tf.nn.sparse_softmax_cross_entropy_with_logits(labels=y, logits=logits)\n",
        "loss = tf.reduce_mean(xentropy, name=\"loss\")\n",
        "optimizer = tf.train.AdamOptimizer(learning_rate=learning_rate)\n",
        "training_op = optimizer.minimize(loss)\n",
        "correct = tf.nn.in_top_k(logits, y, 1)\n",
        "accuracy = tf.reduce_mean(tf.cast(correct, tf.float32))\n",
        "    \n",
        "init = tf.global_variables_initializer()"
      ],
      "execution_count": 0,
      "outputs": []
    },
    {
      "metadata": {
        "id": "tVsGjAo_oG1N",
        "colab_type": "code",
        "colab": {
          "base_uri": "https://localhost:8080/",
          "height": 88
        },
        "outputId": "fdc87f55-ebcb-4aca-fb3b-5f1c5a033e4f"
      },
      "cell_type": "code",
      "source": [
        "states"
      ],
      "execution_count": 103,
      "outputs": [
        {
          "output_type": "execute_result",
          "data": {
            "text/plain": [
              "(LSTMStateTuple(c=<tf.Tensor 'rnn/while/Exit_3:0' shape=(?, 150) dtype=float32>, h=<tf.Tensor 'rnn/while/Exit_4:0' shape=(?, 150) dtype=float32>),\n",
              " LSTMStateTuple(c=<tf.Tensor 'rnn/while/Exit_5:0' shape=(?, 150) dtype=float32>, h=<tf.Tensor 'rnn/while/Exit_6:0' shape=(?, 150) dtype=float32>),\n",
              " LSTMStateTuple(c=<tf.Tensor 'rnn/while/Exit_7:0' shape=(?, 150) dtype=float32>, h=<tf.Tensor 'rnn/while/Exit_8:0' shape=(?, 150) dtype=float32>))"
            ]
          },
          "metadata": {
            "tags": []
          },
          "execution_count": 103
        }
      ]
    },
    {
      "metadata": {
        "id": "m-z-s4FuoJwP",
        "colab_type": "code",
        "colab": {
          "base_uri": "https://localhost:8080/",
          "height": 34
        },
        "outputId": "db8e19ed-cf1d-4ae4-9f14-036dba7e96e0"
      },
      "cell_type": "code",
      "source": [
        "top_layer_h_state"
      ],
      "execution_count": 104,
      "outputs": [
        {
          "output_type": "execute_result",
          "data": {
            "text/plain": [
              "<tf.Tensor 'rnn/while/Exit_8:0' shape=(?, 150) dtype=float32>"
            ]
          },
          "metadata": {
            "tags": []
          },
          "execution_count": 104
        }
      ]
    },
    {
      "metadata": {
        "id": "3HW993dQoLAE",
        "colab_type": "code",
        "colab": {
          "base_uri": "https://localhost:8080/",
          "height": 187
        },
        "outputId": "f4900751-44e0-41c1-ce3b-f8a6a9822cda"
      },
      "cell_type": "code",
      "source": [
        "n_epochs = 10\n",
        "batch_size = 150\n",
        "\n",
        "with tf.Session() as sess:\n",
        "    init.run()\n",
        "    for epoch in range(n_epochs):\n",
        "        for iteration in range(mnist.train.num_examples // batch_size):\n",
        "            X_batch, y_batch = mnist.train.next_batch(batch_size)\n",
        "            X_batch = X_batch.reshape((batch_size, n_steps, n_inputs))\n",
        "            sess.run(training_op, feed_dict={X: X_batch, y: y_batch})\n",
        "        acc_train = accuracy.eval(feed_dict={X: X_batch, y: y_batch})\n",
        "        acc_test = accuracy.eval(feed_dict={X: X_test, y: y_test})\n",
        "        print(\"Epoch\", epoch, \"Train accuracy =\", acc_train, \"Test accuracy =\", acc_test)"
      ],
      "execution_count": 105,
      "outputs": [
        {
          "output_type": "stream",
          "text": [
            "Epoch 0 Train accuracy = 0.9533333 Test accuracy = 0.9551\n",
            "Epoch 1 Train accuracy = 0.98 Test accuracy = 0.9674\n",
            "Epoch 2 Train accuracy = 0.9866667 Test accuracy = 0.9739\n",
            "Epoch 3 Train accuracy = 0.99333334 Test accuracy = 0.9812\n",
            "Epoch 4 Train accuracy = 0.97333336 Test accuracy = 0.9843\n",
            "Epoch 5 Train accuracy = 0.98 Test accuracy = 0.9832\n",
            "Epoch 6 Train accuracy = 0.99333334 Test accuracy = 0.9845\n",
            "Epoch 7 Train accuracy = 0.99333334 Test accuracy = 0.9876\n",
            "Epoch 8 Train accuracy = 1.0 Test accuracy = 0.9885\n",
            "Epoch 9 Train accuracy = 1.0 Test accuracy = 0.9861\n"
          ],
          "name": "stdout"
        }
      ]
    },
    {
      "metadata": {
        "id": "HrmGfnS-oa3U",
        "colab_type": "text"
      },
      "cell_type": "markdown",
      "source": [
        "##Peephole Connections\n",
        "It may be a good idea to give them a bit more context by letting them peek at the long-term state as well.\n",
        "\n",
        "Peephole connections: the previous long-term state $c_{(t–1)}$ is added as an input to the controllers of the forget gate and the input gate, and the current long=term state $c_{(t)}$ is added as input to the controller of the output gate."
      ]
    },
    {
      "metadata": {
        "id": "NqKtdAXCoOEk",
        "colab_type": "code",
        "colab": {}
      },
      "cell_type": "code",
      "source": [
        "lstm_cell = tf.contrib.rnn.LSTMCell(num_units=n_neurons, use_peepholes=True)"
      ],
      "execution_count": 0,
      "outputs": []
    },
    {
      "metadata": {
        "id": "0tO_no1Io5BG",
        "colab_type": "text"
      },
      "cell_type": "markdown",
      "source": [
        "#GRU Cell\n",
        "Gated Recurrent Unit cell, simplified version of LSTM cell.\n",
        "![](https://www.oreilly.com/library/view/neural-networks-and/9781492037354/assets/mlst_1414.png)\n",
        "\n",
        "* Both state vectors are merged into a single vector $h_{(t)}$\n",
        "* A single gate controller controls both the forget gate and the input gate. If the gate controller outputs a 1, the input gate is open and the forget gate is closed. If it outputs a 0, the opposite happens. In other words, whenever a memory must be stored, the location where it will be stored is erased first. This is actually a frequent variant to the LSTM cell in and of itself.\n",
        "* There is no output gate; the full state vector is output at every time step. However, there is a new gate controller that controls which part of the previous state will be shown to the main layer."
      ]
    },
    {
      "metadata": {
        "id": "DiarhMODpq27",
        "colab_type": "text"
      },
      "cell_type": "markdown",
      "source": [
        "*GRU computations*\n",
        "\n",
        "$z_{(t)}=\\sigma(W_{xz}^T\\cdot x_{(t)}+W_{hz}^T\\cdot h_{(t-1)})$\n",
        "\n",
        "$r_{(t)}=\\sigma(W_{xr}^T\\cdot x_{(t)}+W_{hr}^T\\cdot h_{(t-1)})$\n",
        "\n",
        "$g_{(t)}=\\tanh(W_{xg}^T\\cdot x_{(t)}+W_{hg}^T\\cdot (r_{(t)}\\otimes h_{(t-1)}))$\n",
        "\n",
        "$h_{(t)}=(1-z_{(t)})\\otimes \\tanh(W_{xg}^T\\cdot h_{(t-1)}+z_{(t)}\\otimes g_{(t)})$"
      ]
    },
    {
      "metadata": {
        "id": "fGb5PO8DqcJQ",
        "colab_type": "code",
        "colab": {}
      },
      "cell_type": "code",
      "source": [
        "gru_cell = tf.contrib.rnn.GRUCell(num_units=n_neurons)"
      ],
      "execution_count": 0,
      "outputs": []
    },
    {
      "metadata": {
        "id": "UnhjMWjXqfna",
        "colab_type": "text"
      },
      "cell_type": "markdown",
      "source": [
        "#Natural Language Processing\n",
        "\n",
        "##Word Embeddings\n",
        "Similar words will gradually cluster close to one another, and even end up organized in a rather meaningful way.\n",
        "\n",
        "In TensorFlow, you first need to create the variable representing the embeddings for every word in your vocabulary (initialized randomly):\n",
        "\n",
        "###Fetch the data"
      ]
    },
    {
      "metadata": {
        "id": "gHgPwMykrkBC",
        "colab_type": "code",
        "colab": {}
      },
      "cell_type": "code",
      "source": [
        "from six.moves import urllib\n",
        "\n",
        "import errno\n",
        "import os\n",
        "import zipfile\n",
        "\n",
        "WORDS_PATH = \"datasets/words\"\n",
        "WORDS_URL = 'http://mattmahoney.net/dc/text8.zip'\n",
        "\n",
        "def mkdir_p(path):\n",
        "    \"\"\"Create directories, ok if they already exist.\n",
        "    \n",
        "    This is for python 2 support. In python >=3.2, simply use:\n",
        "    >>> os.makedirs(path, exist_ok=True)\n",
        "    \"\"\"\n",
        "    try:\n",
        "        os.makedirs(path)\n",
        "    except OSError as exc:\n",
        "        if exc.errno == errno.EEXIST and os.path.isdir(path):\n",
        "            pass\n",
        "        else:\n",
        "            raise\n",
        "\n",
        "def fetch_words_data(words_url=WORDS_URL, words_path=WORDS_PATH):\n",
        "    os.makedirs(words_path, exist_ok=True)\n",
        "    zip_path = os.path.join(words_path, \"words.zip\")\n",
        "    if not os.path.exists(zip_path):\n",
        "        urllib.request.urlretrieve(words_url, zip_path)\n",
        "    with zipfile.ZipFile(zip_path) as f:\n",
        "        data = f.read(f.namelist()[0])\n",
        "    return data.decode(\"ascii\").split()"
      ],
      "execution_count": 0,
      "outputs": []
    },
    {
      "metadata": {
        "id": "DNtxybQorm3K",
        "colab_type": "code",
        "colab": {}
      },
      "cell_type": "code",
      "source": [
        "words = fetch_words_data()"
      ],
      "execution_count": 0,
      "outputs": []
    },
    {
      "metadata": {
        "id": "T22J8umgro9Z",
        "colab_type": "code",
        "colab": {
          "base_uri": "https://localhost:8080/",
          "height": 34
        },
        "outputId": "0d5379e9-8563-49dd-ef4e-cbde1061f5ad"
      },
      "cell_type": "code",
      "source": [
        "words[:5]"
      ],
      "execution_count": 108,
      "outputs": [
        {
          "output_type": "execute_result",
          "data": {
            "text/plain": [
              "['anarchism', 'originated', 'as', 'a', 'term']"
            ]
          },
          "metadata": {
            "tags": []
          },
          "execution_count": 108
        }
      ]
    },
    {
      "metadata": {
        "id": "QS_h-urJrr1w",
        "colab_type": "text"
      },
      "cell_type": "markdown",
      "source": [
        "###Build the dictionary"
      ]
    },
    {
      "metadata": {
        "id": "m_Ueh5xJrtaw",
        "colab_type": "code",
        "colab": {}
      },
      "cell_type": "code",
      "source": [
        "from collections import Counter\n",
        "\n",
        "vocabulary_size = 50000\n",
        "\n",
        "vocabulary = [(\"UNK\", None)] + Counter(words).most_common(vocabulary_size - 1)\n",
        "vocabulary = np.array([word for word, _ in vocabulary])\n",
        "dictionary = {word: code for code, word in enumerate(vocabulary)}\n",
        "data = np.array([dictionary.get(word, 0) for word in words])"
      ],
      "execution_count": 0,
      "outputs": []
    },
    {
      "metadata": {
        "id": "7yQUYN1NrxX6",
        "colab_type": "code",
        "colab": {
          "base_uri": "https://localhost:8080/",
          "height": 51
        },
        "outputId": "aed0fe37-62df-435c-86e0-963331776c41"
      },
      "cell_type": "code",
      "source": [
        "\" \".join(words[:9]), data[:9]"
      ],
      "execution_count": 110,
      "outputs": [
        {
          "output_type": "execute_result",
          "data": {
            "text/plain": [
              "('anarchism originated as a term of abuse first used',\n",
              " array([5234, 3081,   12,    6,  195,    2, 3134,   46,   59]))"
            ]
          },
          "metadata": {
            "tags": []
          },
          "execution_count": 110
        }
      ]
    },
    {
      "metadata": {
        "id": "EjIueXY4rzW5",
        "colab_type": "code",
        "colab": {
          "base_uri": "https://localhost:8080/",
          "height": 34
        },
        "outputId": "c4b5a7ea-ab64-4dfd-d9e4-0f06bdc32846"
      },
      "cell_type": "code",
      "source": [
        "\" \".join([vocabulary[word_index] for word_index in [5241, 3081, 12, 6, 195, 2, 3134, 46, 59]])"
      ],
      "execution_count": 111,
      "outputs": [
        {
          "output_type": "execute_result",
          "data": {
            "text/plain": [
              "'cycles originated as a term of abuse first used'"
            ]
          },
          "metadata": {
            "tags": []
          },
          "execution_count": 111
        }
      ]
    },
    {
      "metadata": {
        "id": "O1Yrqa5xr-NR",
        "colab_type": "code",
        "colab": {
          "base_uri": "https://localhost:8080/",
          "height": 34
        },
        "outputId": "cc7262e8-27e6-4708-bba7-f68de8b47a48"
      },
      "cell_type": "code",
      "source": [
        "words[24], data[24]"
      ],
      "execution_count": 112,
      "outputs": [
        {
          "output_type": "execute_result",
          "data": {
            "text/plain": [
              "('culottes', 0)"
            ]
          },
          "metadata": {
            "tags": []
          },
          "execution_count": 112
        }
      ]
    },
    {
      "metadata": {
        "id": "JQJ1IYSisAj5",
        "colab_type": "text"
      },
      "cell_type": "markdown",
      "source": [
        "###Generate batches"
      ]
    },
    {
      "metadata": {
        "id": "iIjs1d_dsB_J",
        "colab_type": "code",
        "colab": {}
      },
      "cell_type": "code",
      "source": [
        "from collections import deque\n",
        "\n",
        "def generate_batch(batch_size, num_skips, skip_window):\n",
        "    global data_index\n",
        "    assert batch_size % num_skips == 0\n",
        "    assert num_skips <= 2 * skip_window\n",
        "    batch = np.ndarray(shape=[batch_size], dtype=np.int32)\n",
        "    labels = np.ndarray(shape=[batch_size, 1], dtype=np.int32)\n",
        "    span = 2 * skip_window + 1 # [ skip_window target skip_window ]\n",
        "    buffer = deque(maxlen=span)\n",
        "    for _ in range(span):\n",
        "        buffer.append(data[data_index])\n",
        "        data_index = (data_index + 1) % len(data)\n",
        "    for i in range(batch_size // num_skips):\n",
        "        target = skip_window  # target label at the center of the buffer\n",
        "        targets_to_avoid = [ skip_window ]\n",
        "        for j in range(num_skips):\n",
        "            while target in targets_to_avoid:\n",
        "                target = np.random.randint(0, span)\n",
        "            targets_to_avoid.append(target)\n",
        "            batch[i * num_skips + j] = buffer[skip_window]\n",
        "            labels[i * num_skips + j, 0] = buffer[target]\n",
        "        buffer.append(data[data_index])\n",
        "        data_index = (data_index + 1) % len(data)\n",
        "    return batch, labels"
      ],
      "execution_count": 0,
      "outputs": []
    },
    {
      "metadata": {
        "id": "Uiwc4Ms7sEGh",
        "colab_type": "code",
        "colab": {}
      },
      "cell_type": "code",
      "source": [
        "np.random.seed(42)\n",
        "\n",
        "data_index = 0\n",
        "batch, labels = generate_batch(8, 2, 1)"
      ],
      "execution_count": 0,
      "outputs": []
    },
    {
      "metadata": {
        "id": "QpTLI123sHZS",
        "colab_type": "code",
        "colab": {
          "base_uri": "https://localhost:8080/",
          "height": 51
        },
        "outputId": "9084ea22-3e72-47c0-f06a-d5f194f2db17"
      },
      "cell_type": "code",
      "source": [
        "batch, [vocabulary[word] for word in batch]"
      ],
      "execution_count": 115,
      "outputs": [
        {
          "output_type": "execute_result",
          "data": {
            "text/plain": [
              "(array([3081, 3081,   12,   12,    6,    6,  195,  195], dtype=int32),\n",
              " ['originated', 'originated', 'as', 'as', 'a', 'a', 'term', 'term'])"
            ]
          },
          "metadata": {
            "tags": []
          },
          "execution_count": 115
        }
      ]
    },
    {
      "metadata": {
        "id": "ihjS0TxSsJKv",
        "colab_type": "code",
        "colab": {
          "base_uri": "https://localhost:8080/",
          "height": 170
        },
        "outputId": "890dff66-1fa6-49dc-c4d2-149c089a7d15"
      },
      "cell_type": "code",
      "source": [
        "labels, [vocabulary[word] for word in labels[:, 0]]"
      ],
      "execution_count": 116,
      "outputs": [
        {
          "output_type": "execute_result",
          "data": {
            "text/plain": [
              "(array([[  12],\n",
              "        [5234],\n",
              "        [   6],\n",
              "        [3081],\n",
              "        [  12],\n",
              "        [ 195],\n",
              "        [   2],\n",
              "        [   6]], dtype=int32),\n",
              " ['as', 'anarchism', 'a', 'originated', 'as', 'term', 'of', 'a'])"
            ]
          },
          "metadata": {
            "tags": []
          },
          "execution_count": 116
        }
      ]
    },
    {
      "metadata": {
        "id": "gVRkieAKsM_1",
        "colab_type": "text"
      },
      "cell_type": "markdown",
      "source": [
        "Build the model"
      ]
    },
    {
      "metadata": {
        "id": "mu5LuZEOsOOp",
        "colab_type": "code",
        "colab": {}
      },
      "cell_type": "code",
      "source": [
        "batch_size = 128\n",
        "embedding_size = 128  # Dimension of the embedding vector.\n",
        "skip_window = 1       # How many words to consider left and right.\n",
        "num_skips = 2         # How many times to reuse an input to generate a label.\n",
        "\n",
        "# We pick a random validation set to sample nearest neighbors. Here we limit the\n",
        "# validation samples to the words that have a low numeric ID, which by\n",
        "# construction are also the most frequent.\n",
        "valid_size = 16     # Random set of words to evaluate similarity on.\n",
        "valid_window = 100  # Only pick dev samples in the head of the distribution.\n",
        "valid_examples = np.random.choice(valid_window, valid_size, replace=False)\n",
        "num_sampled = 64    # Number of negative examples to sample.\n",
        "\n",
        "learning_rate = 0.01"
      ],
      "execution_count": 0,
      "outputs": []
    },
    {
      "metadata": {
        "id": "zeWwA65tsQeq",
        "colab_type": "code",
        "colab": {}
      },
      "cell_type": "code",
      "source": [
        "reset_graph()\n",
        "\n",
        "# Input data.\n",
        "train_labels = tf.placeholder(tf.int32, shape=[batch_size, 1])\n",
        "valid_dataset = tf.constant(valid_examples, dtype=tf.int32)"
      ],
      "execution_count": 0,
      "outputs": []
    },
    {
      "metadata": {
        "id": "eK8mR2k5sSW5",
        "colab_type": "code",
        "colab": {}
      },
      "cell_type": "code",
      "source": [
        "vocabulary_size = 50000\n",
        "embedding_size = 150\n",
        "\n",
        "# Look up embeddings for inputs.\n",
        "init_embeds = tf.random_uniform([vocabulary_size, embedding_size], -1.0, 1.0)\n",
        "embeddings = tf.Variable(init_embeds)"
      ],
      "execution_count": 0,
      "outputs": []
    },
    {
      "metadata": {
        "id": "GG_XQCPosUD5",
        "colab_type": "code",
        "colab": {}
      },
      "cell_type": "code",
      "source": [
        "train_inputs = tf.placeholder(tf.int32, shape=[None])\n",
        "embed = tf.nn.embedding_lookup(embeddings, train_inputs)"
      ],
      "execution_count": 0,
      "outputs": []
    },
    {
      "metadata": {
        "id": "p2zHwXklsVcy",
        "colab_type": "code",
        "colab": {}
      },
      "cell_type": "code",
      "source": [
        "# Construct the variables for the NCE loss\n",
        "nce_weights = tf.Variable(\n",
        "    tf.truncated_normal([vocabulary_size, embedding_size],\n",
        "                        stddev=1.0 / np.sqrt(embedding_size)))\n",
        "nce_biases = tf.Variable(tf.zeros([vocabulary_size]))\n",
        "\n",
        "# Compute the average NCE loss for the batch.\n",
        "# tf.nce_loss automatically draws a new sample of the negative labels each\n",
        "# time we evaluate the loss.\n",
        "loss = tf.reduce_mean(\n",
        "    tf.nn.nce_loss(nce_weights, nce_biases, train_labels, embed,\n",
        "                   num_sampled, vocabulary_size))\n",
        "\n",
        "# Construct the Adam optimizer\n",
        "optimizer = tf.train.AdamOptimizer(learning_rate)\n",
        "training_op = optimizer.minimize(loss)\n",
        "\n",
        "# Compute the cosine similarity between minibatch examples and all embeddings.\n",
        "norm = tf.sqrt(tf.reduce_sum(tf.square(embeddings), axis=1, keepdims=True))\n",
        "normalized_embeddings = embeddings / norm\n",
        "valid_embeddings = tf.nn.embedding_lookup(normalized_embeddings, valid_dataset)\n",
        "similarity = tf.matmul(valid_embeddings, normalized_embeddings, transpose_b=True)\n",
        "\n",
        "# Add variable initializer.\n",
        "init = tf.global_variables_initializer()"
      ],
      "execution_count": 0,
      "outputs": []
    },
    {
      "metadata": {
        "id": "2cFYqe1lsY6G",
        "colab_type": "text"
      },
      "cell_type": "markdown",
      "source": [
        "###Train the model"
      ]
    },
    {
      "metadata": {
        "id": "E5yBKsL9sYSC",
        "colab_type": "code",
        "colab": {
          "base_uri": "https://localhost:8080/",
          "height": 683
        },
        "outputId": "d4401765-cd9c-4d7c-a1cc-662a661f1845"
      },
      "cell_type": "code",
      "source": [
        "num_steps = 10001\n",
        "\n",
        "with tf.Session() as session:\n",
        "    init.run()\n",
        "\n",
        "    average_loss = 0\n",
        "    for step in range(num_steps):\n",
        "        print(\"\\rIteration: {}\".format(step), end=\"\\t\")\n",
        "        batch_inputs, batch_labels = generate_batch(batch_size, num_skips, skip_window)\n",
        "        feed_dict = {train_inputs : batch_inputs, train_labels : batch_labels}\n",
        "\n",
        "        # We perform one update step by evaluating the training op (including it\n",
        "        # in the list of returned values for session.run()\n",
        "        _, loss_val = session.run([training_op, loss], feed_dict=feed_dict)\n",
        "        average_loss += loss_val\n",
        "\n",
        "        if step % 2000 == 0:\n",
        "            if step > 0:\n",
        "                average_loss /= 2000\n",
        "            # The average loss is an estimate of the loss over the last 2000 batches.\n",
        "            print(\"Average loss at step \", step, \": \", average_loss)\n",
        "            average_loss = 0\n",
        "\n",
        "        # Note that this is expensive (~20% slowdown if computed every 500 steps)\n",
        "        if step % 10000 == 0:\n",
        "            sim = similarity.eval()\n",
        "            for i in range(valid_size):\n",
        "                valid_word = vocabulary[valid_examples[i]]\n",
        "                top_k = 8 # number of nearest neighbors\n",
        "                nearest = (-sim[i, :]).argsort()[1:top_k+1]\n",
        "                log_str = \"Nearest to %s:\" % valid_word\n",
        "                for k in range(top_k):\n",
        "                    close_word = vocabulary[nearest[k]]\n",
        "                    log_str = \"%s %s,\" % (log_str, close_word)\n",
        "                print(log_str)\n",
        "\n",
        "    final_embeddings = normalized_embeddings.eval()"
      ],
      "execution_count": 122,
      "outputs": [
        {
          "output_type": "stream",
          "text": [
            "Iteration: 0\tAverage loss at step  0 :  289.90948486328125\n",
            "Nearest to over: tt, tuned, manichaeans, fractional, cambridge, balaguer, fluoride, strenuously,\n",
            "Nearest to one: imagines, tijuana, hindrance, motorcyclist, steadfastly, lords, letting, hutchinson,\n",
            "Nearest to were: bezier, antibodies, nicknamed, panthers, compiler, tao, smarter, busy,\n",
            "Nearest to may: failure, rna, efficacious, aspirin, lecompton, definitive, geese, amphibious,\n",
            "Nearest to two: annihilate, bettors, wir, cindy, epinephrine, team, voluntarily, crystallize,\n",
            "Nearest to its: knob, abeokuta, bracelet, bastards, ivens, objectivity, blanton, cold,\n",
            "Nearest to than: lame, watts, stones, sram, elves, zarqawi, applets, cloves,\n",
            "Nearest to these: pedro, condoned, neck, ssn, supervising, doug, thereto, melton,\n",
            "Nearest to they: lowly, deportation, shrewd, reznor, tojo, decadent, occured, risotto,\n",
            "Nearest to is: interests, golfers, dropouts, egyptians, richards, legionnaires, opener, leonel,\n",
            "Nearest to up: clair, drives, steadfast, missed, nashville, kilowatts, anal, vinland,\n",
            "Nearest to he: transitioned, winchell, resh, goldsmiths, standardised, markings, pursued, satirized,\n",
            "Nearest to people: blissymbolics, mike, buffers, untouchables, carolingian, posted, ville, hypertalk,\n",
            "Nearest to more: cactus, sta, reformation, poets, diligently, rsc, ravaged, nabokov,\n",
            "Nearest to was: russo, rammed, investiture, glucagon, heck, adventurer, sharada, homing,\n",
            "Nearest to UNK: reykjav, fi, rosalyn, mainline, archaeologist, armstrong, stevenage, ean,\n",
            "Iteration: 2000\tAverage loss at step  2000 :  132.04802818775178\n",
            "Iteration: 4000\tAverage loss at step  4000 :  62.340319682598114\n",
            "Iteration: 6000\tAverage loss at step  6000 :  41.113937910079954\n",
            "Iteration: 8000\tAverage loss at step  8000 :  31.317131067872047\n",
            "Iteration: 10000\tAverage loss at step  10000 :  25.68695659160614\n",
            "Nearest to over: and, starvation, years, nine, draft, mctaggart, worst, for,\n",
            "Nearest to one: nine, four, five, three, two, seven, six, UNK,\n",
            "Nearest to were: are, loving, coulomb, peuple, pahlavi, accordion, be, prey,\n",
            "Nearest to may: seo, osce, egyptology, two, could, omotic, nine, absurd,\n",
            "Nearest to two: zero, three, four, one, nine, five, eight, six,\n",
            "Nearest to its: the, astatine, advocating, altaic, workings, atomists, nascar, confirm,\n",
            "Nearest to than: asparagales, levitt, more, subsets, nabokov, conformation, bradley, minnesota,\n",
            "Nearest to these: displaced, snowball, tuned, antigua, seceded, fallacy, or, kournikova,\n",
            "Nearest to they: it, vaginal, not, milne, lincoln, that, clues, starved,\n",
            "Nearest to is: are, exists, ampere, mosque, ions, logan, subgroups, in,\n",
            "Nearest to up: integrity, a, flow, laughton, peake, rn, bodyguard, natively,\n",
            "Nearest to he: not, his, was, it, hoxha, carrot, this, domestically,\n",
            "Nearest to people: harbored, simulate, typewriter, fins, men, wikipedia, simply, ignoring,\n",
            "Nearest to more: subproblems, kierkegaard, representations, aruba, lubricants, tetrapods, kano, astatine,\n",
            "Nearest to was: walther, passengers, by, hoxha, and, in, plutonium, breasted,\n",
            "Nearest to UNK: one, the, nine, six, and, five, seven, ginsberg,\n"
          ],
          "name": "stdout"
        }
      ]
    },
    {
      "metadata": {
        "id": "kh6DK2fGsdYB",
        "colab_type": "code",
        "colab": {}
      },
      "cell_type": "code",
      "source": [
        "np.save(\"./my_final_embeddings.npy\", final_embeddings)"
      ],
      "execution_count": 0,
      "outputs": []
    },
    {
      "metadata": {
        "id": "KAZhpfCUsmH3",
        "colab_type": "text"
      },
      "cell_type": "markdown",
      "source": [
        "###Plot the embeddings"
      ]
    },
    {
      "metadata": {
        "id": "cfLlds9Psntz",
        "colab_type": "code",
        "colab": {}
      },
      "cell_type": "code",
      "source": [
        "def plot_with_labels(low_dim_embs, labels):\n",
        "    assert low_dim_embs.shape[0] >= len(labels), \"More labels than embeddings\"\n",
        "    plt.figure(figsize=(18, 18))  #in inches\n",
        "    for i, label in enumerate(labels):\n",
        "        x, y = low_dim_embs[i,:]\n",
        "        plt.scatter(x, y)\n",
        "        plt.annotate(label,\n",
        "                     xy=(x, y),\n",
        "                     xytext=(5, 2),\n",
        "                     textcoords='offset points',\n",
        "                     ha='right',\n",
        "                     va='bottom')"
      ],
      "execution_count": 0,
      "outputs": []
    },
    {
      "metadata": {
        "id": "KXFtiHY2sq7I",
        "colab_type": "code",
        "colab": {
          "base_uri": "https://localhost:8080/",
          "height": 1046
        },
        "outputId": "136dcd86-afdb-4d37-e886-0f8436d103ef"
      },
      "cell_type": "code",
      "source": [
        "from sklearn.manifold import TSNE\n",
        "\n",
        "tsne = TSNE(perplexity=30, n_components=2, init='pca', n_iter=5000)\n",
        "plot_only = 500\n",
        "low_dim_embs = tsne.fit_transform(final_embeddings[:plot_only,:])\n",
        "labels = [vocabulary[i] for i in range(plot_only)]\n",
        "plot_with_labels(low_dim_embs, labels)"
      ],
      "execution_count": 125,
      "outputs": [
        {
          "output_type": "display_data",
          "data": {
            "image/png": "[encoded data removed]",
            "text/plain": [
              "<matplotlib.figure.Figure at 0x7f0e2834d390>"
            ]
          },
          "metadata": {
            "tags": []
          }
        }
      ]
    },
    {
      "metadata": {
        "id": "5v_8f2k3svFB",
        "colab_type": "text"
      },
      "cell_type": "markdown",
      "source": [
        "##An Encoder-Decoder Network for Machine Translation\n",
        "The **basic_rnn_seq2seq()** function creates a simple Encoder/Decoder model: it first runs an RNN to encode encoder_inputs into a state vector, then runs a decoder initialized with the last encoder state on **decoder_inputs**. Encoder and decoder use the same RNN cell type but they don't share parameters."
      ]
    },
    {
      "metadata": {
        "id": "SrDXJZcss9hp",
        "colab_type": "code",
        "colab": {}
      },
      "cell_type": "code",
      "source": [
        "reset_graph()\n",
        "\n",
        "n_steps = 50\n",
        "n_neurons = 200\n",
        "n_layers = 3\n",
        "num_encoder_symbols = 20000\n",
        "num_decoder_symbols = 20000\n",
        "embedding_size = 150\n",
        "learning_rate = 0.01\n",
        "\n",
        "X = tf.placeholder(tf.int32, [None, n_steps]) # English sentences\n",
        "Y = tf.placeholder(tf.int32, [None, n_steps]) # French translations\n",
        "W = tf.placeholder(tf.float32, [None, n_steps - 1, 1])\n",
        "Y_input = Y[:, :-1]\n",
        "Y_target = Y[:, 1:]\n",
        "\n",
        "encoder_inputs = tf.unstack(tf.transpose(X)) # list of 1D tensors\n",
        "decoder_inputs = tf.unstack(tf.transpose(Y_input)) # list of 1D tensors\n",
        "\n",
        "lstm_cells = [tf.contrib.rnn.BasicLSTMCell(num_units=n_neurons)\n",
        "              for layer in range(n_layers)]\n",
        "cell = tf.contrib.rnn.MultiRNNCell(lstm_cells)\n",
        "\n",
        "output_seqs, states = tf.contrib.legacy_seq2seq.embedding_rnn_seq2seq(\n",
        "    encoder_inputs,\n",
        "    decoder_inputs,\n",
        "    cell,\n",
        "    num_encoder_symbols,\n",
        "    num_decoder_symbols,\n",
        "    embedding_size)\n",
        "\n",
        "logits = tf.transpose(tf.unstack(output_seqs), perm=[1, 0, 2])"
      ],
      "execution_count": 0,
      "outputs": []
    },
    {
      "metadata": {
        "id": "aW352waCs_YO",
        "colab_type": "code",
        "colab": {}
      },
      "cell_type": "code",
      "source": [
        "logits_flat = tf.reshape(logits, [-1, num_decoder_symbols])\n",
        "Y_target_flat = tf.reshape(Y_target, [-1])\n",
        "W_flat = tf.reshape(W, [-1])\n",
        "xentropy = W_flat * tf.nn.sparse_softmax_cross_entropy_with_logits(labels=Y_target_flat, logits=logits_flat)\n",
        "loss = tf.reduce_mean(xentropy)\n",
        "optimizer = tf.train.AdamOptimizer(learning_rate=learning_rate)\n",
        "training_op = optimizer.minimize(loss)\n",
        "\n",
        "init = tf.global_variables_initializer()"
      ],
      "execution_count": 0,
      "outputs": []
    }
  ]
}